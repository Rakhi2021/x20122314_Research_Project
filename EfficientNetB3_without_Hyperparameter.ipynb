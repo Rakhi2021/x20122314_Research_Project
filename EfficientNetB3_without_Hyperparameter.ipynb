{
  "cells": [
    {
      "cell_type": "code",
      "execution_count": null,
      "metadata": {
        "execution": {
          "iopub.execute_input": "2021-11-01T21:54:37.371286Z",
          "iopub.status.busy": "2021-11-01T21:54:37.370882Z",
          "iopub.status.idle": "2021-11-01T21:54:42.050997Z",
          "shell.execute_reply": "2021-11-01T21:54:42.050235Z",
          "shell.execute_reply.started": "2021-11-01T21:54:37.371199Z"
        },
        "id": "0_BR7wLpFx2K",
        "trusted": true
      },
      "outputs": [],
      "source": [
        "#IMPORT REQUIRED LIBRARIES:\n",
        "\n",
        "import numpy as np\n",
        "import pandas as pd\n",
        "import os\n",
        "from re import search\n",
        "import shutil\n",
        "from PIL import Image\n",
        "import matplotlib.pyplot as plt\n",
        "from tqdm import tqdm\n",
        "import time\n",
        "import tensorflow as tf\n",
        "from tensorflow.keras.models import Sequential\n",
        "from tensorflow.keras.callbacks import ModelCheckpoint,EarlyStopping\n",
        "from tensorflow.keras.preprocessing.image import ImageDataGenerator\n",
        "from tensorflow.keras.layers import Dense,Activation,Flatten, Conv2D, MaxPooling2D"
      ]
    },
    {
      "cell_type": "markdown",
      "source": [
        "Connecting to Google drive to access the uploaded dataset"
      ],
      "metadata": {
        "id": "cf5FuQnJfy--"
      }
    },
    {
      "cell_type": "code",
      "source": [
        "from google.colab import drive\n",
        "drive.mount('/content/drive')"
      ],
      "metadata": {
        "id": "5vmqPCBiftC7"
      },
      "execution_count": null,
      "outputs": []
    },
    {
      "cell_type": "markdown",
      "source": [
        "Once the drive is mounted, change the corresponding file path in TRAIN_PATH, train_df and dataset_path to access image files from the uploaded dataset Plant-pathology-2021-fgvc8"
      ],
      "metadata": {
        "id": "gomnd9odf0pf"
      }
    },
    {
      "cell_type": "code",
      "execution_count": null,
      "metadata": {
        "execution": {
          "iopub.execute_input": "2021-11-01T21:54:42.052803Z",
          "iopub.status.busy": "2021-11-01T21:54:42.052533Z",
          "iopub.status.idle": "2021-11-01T21:54:42.089793Z",
          "shell.execute_reply": "2021-11-01T21:54:42.089083Z",
          "shell.execute_reply.started": "2021-11-01T21:54:42.052767Z"
        },
        "id": "_VYNWAkeG_7G",
        "trusted": true
      },
      "outputs": [],
      "source": [
        "#IMAGE PATH & DATAFRAME:\n",
        "\n",
        "TRAIN_PATH = \"/content/drive/MyDrive/plant-pathology-2021-fgvc8/train_images\"\n",
        "train_df = pd.read_csv(\"/content/drive/MyDrive/plant-pathology-2021-fgvc8/train.csv\")"
      ]
    },
    {
      "cell_type": "code",
      "execution_count": null,
      "metadata": {
        "execution": {
          "iopub.execute_input": "2021-11-01T21:54:42.091676Z",
          "iopub.status.busy": "2021-11-01T21:54:42.091183Z",
          "iopub.status.idle": "2021-11-01T21:54:42.095651Z",
          "shell.execute_reply": "2021-11-01T21:54:42.09492Z",
          "shell.execute_reply.started": "2021-11-01T21:54:42.09164Z"
        },
        "id": "gxQb-o76H9LV",
        "trusted": true
      },
      "outputs": [],
      "source": [
        "from pathlib import Path\n",
        "dataset_path = Path('/content/drive/MyDrive/plant-pathology-2021-fgvc8')"
      ]
    },
    {
      "cell_type": "markdown",
      "source": [
        "Reading the train.csv file into a Dataframe and display top 5 rows of the file"
      ],
      "metadata": {
        "id": "nnme_iqCgOxi"
      }
    },
    {
      "cell_type": "code",
      "execution_count": null,
      "metadata": {
        "execution": {
          "iopub.execute_input": "2021-11-01T21:54:42.098934Z",
          "iopub.status.busy": "2021-11-01T21:54:42.09842Z",
          "iopub.status.idle": "2021-11-01T21:54:42.133551Z",
          "shell.execute_reply": "2021-11-01T21:54:42.132824Z",
          "shell.execute_reply.started": "2021-11-01T21:54:42.098894Z"
        },
        "id": "B4r7e1FPIE7f",
        "outputId": "a58422fd-0092-4567-eafe-c507996e9744",
        "trusted": true
      },
      "outputs": [
        {
          "data": {
            "text/html": [
              "<div>\n",
              "<style scoped>\n",
              "    .dataframe tbody tr th:only-of-type {\n",
              "        vertical-align: middle;\n",
              "    }\n",
              "\n",
              "    .dataframe tbody tr th {\n",
              "        vertical-align: top;\n",
              "    }\n",
              "\n",
              "    .dataframe thead th {\n",
              "        text-align: right;\n",
              "    }\n",
              "</style>\n",
              "<table border=\"1\" class=\"dataframe\">\n",
              "  <thead>\n",
              "    <tr style=\"text-align: right;\">\n",
              "      <th></th>\n",
              "      <th>image</th>\n",
              "      <th>labels</th>\n",
              "    </tr>\n",
              "  </thead>\n",
              "  <tbody>\n",
              "    <tr>\n",
              "      <th>0</th>\n",
              "      <td>800113bb65efe69e.jpg</td>\n",
              "      <td>healthy</td>\n",
              "    </tr>\n",
              "    <tr>\n",
              "      <th>1</th>\n",
              "      <td>8002cb321f8bfcdf.jpg</td>\n",
              "      <td>scab frog_eye_leaf_spot complex</td>\n",
              "    </tr>\n",
              "    <tr>\n",
              "      <th>2</th>\n",
              "      <td>80070f7fb5e2ccaa.jpg</td>\n",
              "      <td>scab</td>\n",
              "    </tr>\n",
              "    <tr>\n",
              "      <th>3</th>\n",
              "      <td>80077517781fb94f.jpg</td>\n",
              "      <td>scab</td>\n",
              "    </tr>\n",
              "    <tr>\n",
              "      <th>4</th>\n",
              "      <td>800cbf0ff87721f8.jpg</td>\n",
              "      <td>complex</td>\n",
              "    </tr>\n",
              "  </tbody>\n",
              "</table>\n",
              "</div>"
            ],
            "text/plain": [
              "                  image                           labels\n",
              "0  800113bb65efe69e.jpg                          healthy\n",
              "1  8002cb321f8bfcdf.jpg  scab frog_eye_leaf_spot complex\n",
              "2  80070f7fb5e2ccaa.jpg                             scab\n",
              "3  80077517781fb94f.jpg                             scab\n",
              "4  800cbf0ff87721f8.jpg                          complex"
            ]
          },
          "execution_count": 43,
          "metadata": {},
          "output_type": "execute_result"
        }
      ],
      "source": [
        "train_df = pd.read_csv(dataset_path/'train.csv')\n",
        "train_df.head()"
      ]
    },
    {
      "cell_type": "markdown",
      "source": [
        "ImageDataGenerator is used to resize the images and perform data augmentation techniques like Rotation, Horizontal Flipping, Zooming, Shearing and Shifting on 32 train images to create a new dataset. The train images are split into training and validation set in 80:20 ratio."
      ],
      "metadata": {
        "id": "hCM5pRBmgT-v"
      }
    },
    {
      "cell_type": "code",
      "execution_count": null,
      "metadata": {
        "execution": {
          "iopub.execute_input": "2021-11-01T21:54:42.135389Z",
          "iopub.status.busy": "2021-11-01T21:54:42.134899Z",
          "iopub.status.idle": "2021-11-01T21:54:42.238128Z",
          "shell.execute_reply": "2021-11-01T21:54:42.236364Z",
          "shell.execute_reply.started": "2021-11-01T21:54:42.135354Z"
        },
        "id": "HNMEzj8ZIIR2",
        "outputId": "692797c7-0468-4b75-96b3-2b626384788b",
        "trusted": true
      },
      "outputs": [
        {
          "name": "stdout",
          "output_type": "stream",
          "text": [
            "Found 14906 non-validated image filenames belonging to 12 classes.\n",
            "Found 3726 non-validated image filenames belonging to 12 classes.\n"
          ]
        }
      ],
      "source": [
        "# Use the Image Data Generator to import the images from the dataset\n",
        "from tensorflow.keras.preprocessing.image import ImageDataGenerator\n",
        "\n",
        "train_image_generator = ImageDataGenerator(rescale = 1/255.,\n",
        "    rotation_range=20,\n",
        "    width_shift_range=0.2,\n",
        "    height_shift_range=0.2,\n",
        "    horizontal_flip=True,\n",
        "    validation_split = 0.2,\n",
        "    zoom_range = 0.2,\n",
        "    shear_range = 0.2,\n",
        "    vertical_flip = False)\n",
        "\n",
        "\n",
        "HEIGHT = 512\n",
        "WIDTH= 512\n",
        "SEED = 143\n",
        "BATCH_SIZE=32\n",
        "train_datagen = train_image_generator.flow_from_dataframe(\n",
        "    train_df,\n",
        "    directory = TRAIN_PATH,\n",
        "    x_col = \"image\",\n",
        "    y_col = \"labels\",\n",
        "    target_size = (HEIGHT,WIDTH),\n",
        "    class_mode='categorical',\n",
        "    batch_size = BATCH_SIZE,\n",
        "    subset = \"training\",\n",
        "    shuffle = True,\n",
        "    seed = SEED,\n",
        "    validate_filenames = False\n",
        ")\n",
        "\n",
        "\n",
        "valid_datagen = train_image_generator.flow_from_dataframe(\n",
        "    train_df,\n",
        "    directory = TRAIN_PATH,\n",
        "    x_col = \"image\",\n",
        "    y_col = \"labels\",\n",
        "    target_size = (HEIGHT,WIDTH),\n",
        "    class_mode='categorical',\n",
        "    batch_size = BATCH_SIZE,\n",
        "    subset = \"validation\",\n",
        "    shuffle = True,\n",
        "    seed = SEED,\n",
        "    validate_filenames = False\n",
        ")"
      ]
    },
    {
      "cell_type": "code",
      "execution_count": null,
      "metadata": {
        "execution": {
          "iopub.execute_input": "2021-11-01T21:54:42.239667Z",
          "iopub.status.busy": "2021-11-01T21:54:42.23943Z",
          "iopub.status.idle": "2021-11-01T21:54:42.247704Z",
          "shell.execute_reply": "2021-11-01T21:54:42.245597Z",
          "shell.execute_reply.started": "2021-11-01T21:54:42.239634Z"
        },
        "id": "lF0PkXMQLlQy",
        "trusted": true
      },
      "outputs": [],
      "source": [
        "import tensorflow as tf\n",
        "from tensorflow.keras.applications import ResNet152, EfficientNetB3\n",
        "from tensorflow.keras import models, layers\n",
        "from keras.models import Sequential\n",
        "from keras.layers import Dense, Dropout, Flatten\n",
        "from keras.callbacks import ModelCheckpoint, EarlyStopping, ReduceLROnPlateau\n",
        "from tensorflow.keras.optimizers import Adam\n",
        "from keras.losses import CategoricalCrossentropy"
      ]
    },
    {
      "cell_type": "markdown",
      "source": [
        "Defining the Sequential class for EfficientNetB3 model and assigning weights as ImageNet."
      ],
      "metadata": {
        "id": "v7Htn9GVgnig"
      }
    },
    {
      "cell_type": "code",
      "execution_count": null,
      "metadata": {
        "execution": {
          "iopub.execute_input": "2021-11-01T21:54:42.249721Z",
          "iopub.status.busy": "2021-11-01T21:54:42.249102Z",
          "iopub.status.idle": "2021-11-01T21:54:42.259855Z",
          "shell.execute_reply": "2021-11-01T21:54:42.258451Z",
          "shell.execute_reply.started": "2021-11-01T21:54:42.24968Z"
        },
        "id": "T2PI1YfCLtKV",
        "trusted": true
      },
      "outputs": [],
      "source": [
        "def modelEfficientNetB3():\n",
        "\n",
        "    model = models.Sequential()\n",
        "    model.add(EfficientNetB3(include_top = False, \n",
        "                            weights = 'imagenet',\n",
        "                            #weights = \"../input/effib3trained/efficientnetb3_notop.h5\",\n",
        "                            input_shape=(IMG_HEIGHT,IMG_WIDTH, 3)))\n",
        "    \n",
        "    model.add(Dropout(0.8))\n",
        "    model.add(layers.GlobalAveragePooling2D())\n",
        "    \n",
        "    #additional\n",
        "    model.add(layers.Dense(512, activation = 'relu'))\n",
        "    model.add(Dropout(0.4))\n",
        "    model.add(layers.Dense(256, activation = 'relu'))\n",
        "    model.add(Dropout(0.5))\n",
        " \n",
        "    model.add(layers.Dense(12, activation = \"softmax\"))\n",
        "    \n",
        "    return model"
      ]
    },
    {
      "cell_type": "code",
      "execution_count": null,
      "metadata": {
        "execution": {
          "iopub.execute_input": "2021-11-01T21:54:42.262286Z",
          "iopub.status.busy": "2021-11-01T21:54:42.26082Z",
          "iopub.status.idle": "2021-11-01T21:54:42.26739Z",
          "shell.execute_reply": "2021-11-01T21:54:42.266202Z",
          "shell.execute_reply.started": "2021-11-01T21:54:42.262251Z"
        },
        "id": "Wj7wYl7cNjOg",
        "trusted": true
      },
      "outputs": [],
      "source": [
        "IMG_HEIGHT = 512\n",
        "IMG_WIDTH = 512"
      ]
    },
    {
      "cell_type": "code",
      "execution_count": null,
      "metadata": {
        "execution": {
          "iopub.execute_input": "2021-11-01T21:54:42.269597Z",
          "iopub.status.busy": "2021-11-01T21:54:42.268921Z",
          "iopub.status.idle": "2021-11-01T21:54:49.652434Z",
          "shell.execute_reply": "2021-11-01T21:54:49.651542Z",
          "shell.execute_reply.started": "2021-11-01T21:54:42.26956Z"
        },
        "id": "24vEayW4L6wD",
        "trusted": true
      },
      "outputs": [],
      "source": [
        "model_effiB3 = modelEfficientNetB3()"
      ]
    },
    {
      "cell_type": "markdown",
      "source": [
        "Displaying the summary of the model"
      ],
      "metadata": {
        "id": "TOkzjtVrgu_2"
      }
    },
    {
      "cell_type": "code",
      "execution_count": null,
      "metadata": {
        "execution": {
          "iopub.execute_input": "2021-11-01T21:54:49.656204Z",
          "iopub.status.busy": "2021-11-01T21:54:49.655794Z",
          "iopub.status.idle": "2021-11-01T21:54:49.710558Z",
          "shell.execute_reply": "2021-11-01T21:54:49.708265Z",
          "shell.execute_reply.started": "2021-11-01T21:54:49.656156Z"
        },
        "id": "OkjtBt_XL9Ej",
        "outputId": "6d2995db-96ba-4e73-a000-9540f6c8c112",
        "trusted": true
      },
      "outputs": [
        {
          "name": "stdout",
          "output_type": "stream",
          "text": [
            "Model: \"sequential\"\n",
            "_________________________________________________________________\n",
            " Layer (type)                Output Shape              Param #   \n",
            "=================================================================\n",
            " efficientnetb3 (Functional)  (None, 16, 16, 1536)     10783535  \n",
            "                                                                 \n",
            " dropout (Dropout)           (None, 16, 16, 1536)      0         \n",
            "                                                                 \n",
            " global_average_pooling2d (G  (None, 1536)             0         \n",
            " lobalAveragePooling2D)                                          \n",
            "                                                                 \n",
            " dense (Dense)               (None, 512)               786944    \n",
            "                                                                 \n",
            " dropout_1 (Dropout)         (None, 512)               0         \n",
            "                                                                 \n",
            " dense_1 (Dense)             (None, 256)               131328    \n",
            "                                                                 \n",
            " dropout_2 (Dropout)         (None, 256)               0         \n",
            "                                                                 \n",
            " dense_2 (Dense)             (None, 12)                3084      \n",
            "                                                                 \n",
            "=================================================================\n",
            "Total params: 11,704,891\n",
            "Trainable params: 11,617,588\n",
            "Non-trainable params: 87,303\n",
            "_________________________________________________________________\n"
          ]
        }
      ],
      "source": [
        "model_effiB3.summary()"
      ]
    },
    {
      "cell_type": "code",
      "execution_count": null,
      "metadata": {
        "execution": {
          "iopub.execute_input": "2021-11-01T21:54:49.718024Z",
          "iopub.status.busy": "2021-11-01T21:54:49.715265Z",
          "iopub.status.idle": "2021-11-01T21:54:49.724942Z",
          "shell.execute_reply": "2021-11-01T21:54:49.724206Z",
          "shell.execute_reply.started": "2021-11-01T21:54:49.717986Z"
        },
        "id": "F3oD6nCmL_Tp",
        "trusted": true
      },
      "outputs": [],
      "source": [
        "model_checkpoint_effinet = ModelCheckpoint(\n",
        "                            \"./checkpoint_effinet.h5\",\n",
        "                            monitor = \"val_loss\",\n",
        "                            verbose = 1,\n",
        "                            save_best_only = True,\n",
        "                            save_weights_only = False,\n",
        "                            mode = \"min\")"
      ]
    },
    {
      "cell_type": "markdown",
      "source": [
        "Early stopping and Reduce Learning Rate on Plateau callbacks are used to stop the model training if the validation loss and the learning rate stops improving."
      ],
      "metadata": {
        "id": "tIkKBylOg1Ny"
      }
    },
    {
      "cell_type": "code",
      "execution_count": null,
      "metadata": {
        "execution": {
          "iopub.execute_input": "2021-11-01T21:54:49.729772Z",
          "iopub.status.busy": "2021-11-01T21:54:49.728227Z",
          "iopub.status.idle": "2021-11-01T21:54:49.740882Z",
          "shell.execute_reply": "2021-11-01T21:54:49.740203Z",
          "shell.execute_reply.started": "2021-11-01T21:54:49.729734Z"
        },
        "id": "tlP5oTYkMCl6",
        "trusted": true
      },
      "outputs": [],
      "source": [
        "early_stop = EarlyStopping(\n",
        "                            monitor = \"val_loss\",\n",
        "                            min_delta=0.001,\n",
        "                            patience=7,\n",
        "                            verbose=1,\n",
        "                            mode=\"min\",\n",
        "                            restore_best_weights=False)"
      ]
    },
    {
      "cell_type": "code",
      "execution_count": null,
      "metadata": {
        "execution": {
          "iopub.execute_input": "2021-11-01T21:54:49.74326Z",
          "iopub.status.busy": "2021-11-01T21:54:49.742617Z",
          "iopub.status.idle": "2021-11-01T21:54:49.752498Z",
          "shell.execute_reply": "2021-11-01T21:54:49.751629Z",
          "shell.execute_reply.started": "2021-11-01T21:54:49.74321Z"
        },
        "id": "_q2zqBpOMEHQ",
        "trusted": true
      },
      "outputs": [],
      "source": [
        "reduce_lr = ReduceLROnPlateau(\n",
        "                            monitor=\"val_loss\",\n",
        "                            factor=0.1,\n",
        "                            patience=2,\n",
        "                            verbose=1,\n",
        "                            mode=\"min\",\n",
        "                            min_delta=0.0001)"
      ]
    },
    {
      "cell_type": "markdown",
      "source": [
        "The model is compiled using Adam Optimizer with a learning rate of 0.001 to improve the accuracy of the model and loss is calculated through Categorical Cross Entropy."
      ],
      "metadata": {
        "id": "tOIvmxcCg3ov"
      }
    },
    {
      "cell_type": "code",
      "execution_count": null,
      "metadata": {
        "execution": {
          "iopub.execute_input": "2021-11-01T21:54:49.755047Z",
          "iopub.status.busy": "2021-11-01T21:54:49.754255Z",
          "iopub.status.idle": "2021-11-01T21:54:49.797121Z",
          "shell.execute_reply": "2021-11-01T21:54:49.796425Z",
          "shell.execute_reply.started": "2021-11-01T21:54:49.754914Z"
        },
        "id": "FuYxzKDoMIgw",
        "trusted": true
      },
      "outputs": [],
      "source": [
        "model_effiB3.compile(\n",
        "            optimizer=Adam(learning_rate=0.001),\n",
        "            loss = CategoricalCrossentropy(label_smoothing=0.3,reduction=\"auto\",name=\"categorical_crossentropy\"),\n",
        "            metrics = [\"accuracy\"])"
      ]
    },
    {
      "cell_type": "code",
      "execution_count": null,
      "metadata": {
        "execution": {
          "iopub.execute_input": "2021-11-01T21:54:49.805286Z",
          "iopub.status.busy": "2021-11-01T21:54:49.802285Z",
          "iopub.status.idle": "2021-11-01T21:54:49.811844Z",
          "shell.execute_reply": "2021-11-01T21:54:49.811034Z",
          "shell.execute_reply.started": "2021-11-01T21:54:49.805245Z"
        },
        "id": "2kSNXTGCMSuv",
        "trusted": true
      },
      "outputs": [],
      "source": [
        "epochs = 8\n"
      ]
    },
    {
      "cell_type": "markdown",
      "source": [
        "The model is trained with a batch size of 32 and number of epochs equal to 8 and the corresponding accuracy and loss are displayed for each epoch."
      ],
      "metadata": {
        "id": "QDe1ivOHhIj3"
      }
    },
    {
      "cell_type": "code",
      "execution_count": null,
      "metadata": {
        "execution": {
          "iopub.execute_input": "2021-11-01T21:54:49.816705Z",
          "iopub.status.busy": "2021-11-01T21:54:49.815105Z",
          "iopub.status.idle": "2021-11-02T04:21:29.383277Z",
          "shell.execute_reply": "2021-11-02T04:21:29.380303Z",
          "shell.execute_reply.started": "2021-11-01T21:54:49.816664Z"
        },
        "id": "HgSwU2S1MfvT",
        "outputId": "ef29d1a6-02ad-448a-9e2f-86db4dbdecc7",
        "trusted": true
      },
      "outputs": [
        {
          "name": "stdout",
          "output_type": "stream",
          "text": [
            "<ipython-input-16-a7c7c3cec446>:1: UserWarning: `Model.fit_generator` is deprecated and will be removed in a future version. Please use `Model.fit`, which supports generators.\n",
            "  history_effiB3 = model_effiB3.fit_generator(\n",
            "Epoch 1/8\n",
            "466/466 [==============================] - ETA: 0s - loss: 1.9308 - accuracy: 0.4043\n",
            "Epoch 00001: val_loss improved from inf to 2.41307, saving model to .\\checkpoint_effinet.h5\n",
            "C:\\Python\\Python38\\lib\\site-packages\\keras\\engine\\functional.py:1410: CustomMaskWarning: Custom mask layers require a config and must override get_config. When loading, the custom mask layer must be passed to the custom_objects argument.\n",
            "  layer_config = serialize_layer_fn(layer)\n",
            "Output exceeds the size limit. Open the full output data in a text editor\n",
            "\n",
            "466/466 [==============================] - 2976s 6s/step - loss: 1.9308 - accuracy: 0.4043 - val_loss: 2.4131 - val_accuracy: 0.2195 - lr: 0.0010\n",
            "Epoch 2/8\n",
            "466/466 [==============================] - ETA: 0s - loss: 1.6857 - accuracy: 0.4791\n",
            "Epoch 00002: val_loss did not improve from 2.4131\n",
            "466/466 [==============================] - 2875s 6s/step - loss: 1.6857 - accuracy: 0.4791 - val_loss: 2.6610 - val_accuracy: 0.1871 - lr: 0.0010\n",
            "Epoch 3/8\n",
            "466/466 [==============================] - ETA: 0s - loss: 1.6346 - accuracy: 0.5695\n",
            "Epoch 00003: val_loss did not improve from 2.4131\n",
            "\n",
            "Epoch 00003: ReduceLROnPlateau reducing learning rate to 0.00010000000474974513.\n",
            "466/466 [==============================] - 2710s 6s/step - loss: 1.6346 - accuracy: 0.5695 - val_loss: 2.6266 - val_accuracy: 0.2534 - lr: 0.0010\n",
            "Epoch 4/8\n",
            "466/466 [==============================] - ETA: 0s - loss: 1.5630 - accuracy: 0.6346\n",
            "Epoch 00004: val_loss did not improve from 2.4131\n",
            "466/466 [==============================] - 2508s 5s/step - loss: 1.5630 - accuracy: 0.6346 - val_loss: 1.8950 - val_accuracy: 0.4921 - lr: 1.0000e-04\n",
            "val_loss improved from 2.4131 to 1.8950, saving model to .\\checkpoint_effinet.h5\n",
            "Epoch 5/8\n",
            "466/466 [==============================] - ETA: 0s - loss: 1.5371 - accuracy: 0.6884\n",
            "Epoch 00005: val_loss did not improve from 1.89499\n",
            "466/466 [==============================] - 2591s 6s/step - loss: 1.5371 - accuracy: 0.6884 - val_loss: 1.4419 - val_accuracy: 0.5726 - lr: 1.0000e-04\n",
            "val_loss improved from 1.8950 to 1.4419, saving model to .\\checkpoint_effinet.h5\n",
            "Epoch 6/8\n",
            "466/466 [==============================] - ETA: 0s - loss: 1.5310 - accuracy: 0.7287\n",
            "Epoch 00006: val_loss did not improve from 1.4419\n",
            "\n",
            "Epoch 00006: ReduceLROnPlateau reducing learning rate to 1.0000000474974514e-05.\n",
            "466/466 [==============================] - 2628s 6s/step - loss: 1.5310 - accuracy: 0.7287 - val_loss: 2.0445 - val_accuracy: 0.3619 - lr: 1.0000e-04\n",
            "466/466 [==============================] - 2649s 6s/step - loss: 1.5192 - accuracy: 0.7352 - val_loss: 1.5451 - val_accuracy: 0.6973 - lr: 1.0000e-05\n",
            "Epoch 8/8\n",
            "466/466 [==============================] - ETA: 0s - loss: 1.5192 - accuracy: 0.7426\n",
            "Epoch 00008: val_loss did not improve from 1.4419\n",
            "466/466 [==============================] - 2539s 5s/step - loss: 1.5192 - accuracy: 0.7426 - val_loss: 1.4900 - val_accuracy: 0.7588 - lr: 1.0000e-05\n"
          ]
        }
      ],
      "source": [
        "history_effiB3 = model_effiB3.fit_generator(\n",
        "                    train_datagen,\n",
        "                    steps_per_epoch=None,\n",
        "                    epochs=epochs,\n",
        "                    validation_data=valid_datagen,\n",
        "                    validation_steps=None,\n",
        "                    callbacks = [model_checkpoint_effinet,early_stop,reduce_lr]\n",
        ")"
      ]
    },
    {
      "cell_type": "code",
      "execution_count": null,
      "metadata": {
        "execution": {
          "iopub.execute_input": "2021-11-02T04:21:29.390325Z",
          "iopub.status.busy": "2021-11-02T04:21:29.389385Z",
          "iopub.status.idle": "2021-11-02T04:21:30.447403Z",
          "shell.execute_reply": "2021-11-02T04:21:30.446608Z",
          "shell.execute_reply.started": "2021-11-02T04:21:29.390286Z"
        },
        "id": "RyfF9-INMhqX",
        "trusted": true
      },
      "outputs": [],
      "source": [
        "#saving the model using checkpoint\n",
        "model_effiB3.save('saved_model_effinet.h5')"
      ]
    },
    {
      "cell_type": "markdown",
      "source": [
        "Plotting the Accuracy and Loss graphs using Matplotlib library"
      ],
      "metadata": {
        "id": "vW98sF6LhQgx"
      }
    },
    {
      "cell_type": "code",
      "execution_count": null,
      "metadata": {
        "execution": {
          "iopub.execute_input": "2021-11-02T04:21:30.44926Z",
          "iopub.status.busy": "2021-11-02T04:21:30.448998Z",
          "iopub.status.idle": "2021-11-02T04:21:30.918697Z",
          "shell.execute_reply": "2021-11-02T04:21:30.918024Z",
          "shell.execute_reply.started": "2021-11-02T04:21:30.449226Z"
        },
        "id": "7-hW_j9cMwYF",
        "trusted": true,
        "outputId": "10142488-8d68-4c37-f340-35c28fe0b23a"
      },
      "outputs": [
        {
          "data": {
            "image/png": "[encoded data removed]",
            "text/plain": [
              "<Figure size 432x288 with 1 Axes>"
            ]
          },
          "metadata": {
            "needs_background": "light"
          },
          "output_type": "display_data"
        },
        {
          "data": {
            "image/png": "[encoded data removed]",
            "text/plain": [
              "<Figure size 432x288 with 1 Axes>"
            ]
          },
          "metadata": {
            "needs_background": "light"
          },
          "output_type": "display_data"
        }
      ],
      "source": [
        "acc = history_effiB3.history['accuracy']\n",
        "val_acc = history_effiB3.history['val_accuracy']\n",
        "\n",
        "loss = history_effiB3.history['loss']\n",
        "val_loss = history_effiB3.history['val_loss']\n",
        "\n",
        "epochs_range = range(len(acc))\n",
        "\n",
        "plt.plot(epochs_range, acc, label='Training Accuracy')\n",
        "plt.plot(epochs_range, val_acc, label='Validation Accuracy')\n",
        "plt.legend(loc='lower right')\n",
        "plt.title('Training and Validation Accuracy')\n",
        "plt.show()\n",
        "\n",
        "plt.plot(epochs_range, loss, label='Training Loss')\n",
        "plt.plot(epochs_range, val_loss, label='Validation Loss')\n",
        "plt.legend(loc='upper right')\n",
        "plt.title('Training and Validation Loss')\n",
        "plt.show()"
      ]
    },
    {
      "cell_type": "code",
      "execution_count": null,
      "metadata": {
        "execution": {
          "iopub.execute_input": "2021-11-02T04:21:30.920676Z",
          "iopub.status.busy": "2021-11-02T04:21:30.919955Z",
          "iopub.status.idle": "2021-11-02T04:21:30.925343Z",
          "shell.execute_reply": "2021-11-02T04:21:30.924682Z",
          "shell.execute_reply.started": "2021-11-02T04:21:30.920635Z"
        },
        "id": "pbUhj7F9M1fM",
        "trusted": true
      },
      "outputs": [],
      "source": [
        "import numpy as np\n",
        "import os\n",
        "import pandas as pd\n",
        "import tensorflow as tf\n",
        "from keras.models import load_model\n",
        "from tensorflow.keras.preprocessing.image import ImageDataGenerator"
      ]
    },
    {
      "cell_type": "code",
      "execution_count": null,
      "metadata": {
        "execution": {
          "iopub.execute_input": "2021-11-02T04:21:30.927579Z",
          "iopub.status.busy": "2021-11-02T04:21:30.926635Z",
          "iopub.status.idle": "2021-11-02T04:21:36.089928Z",
          "shell.execute_reply": "2021-11-02T04:21:36.089223Z",
          "shell.execute_reply.started": "2021-11-02T04:21:30.927539Z"
        },
        "id": "vqR4Iz7xM3xN",
        "trusted": true,
        "outputId": "38104727-3782-49ad-de71-d5b8f635af82"
      },
      "outputs": [
        {
          "name": "stdout",
          "output_type": "stream",
          "text": [
            "Model: \"sequential\"\n",
            "_________________________________________________________________\n",
            " Layer (type)                Output Shape              Param #   \n",
            "=================================================================\n",
            " efficientnetb3 (Functional)  (None, 16, 16, 1536)     10783535  \n",
            "                                                                 \n",
            " dropout (Dropout)           (None, 16, 16, 1536)      0         \n",
            "                                                                 \n",
            " global_average_pooling2d (G  (None, 1536)             0         \n",
            " lobalAveragePooling2D)                                          \n",
            "                                                                 \n",
            " dense (Dense)               (None, 512)               786944    \n",
            "                                                                 \n",
            " dropout_1 (Dropout)         (None, 512)               0         \n",
            "                                                                 \n",
            " dense_1 (Dense)             (None, 256)               131328    \n",
            "                                                                 \n",
            " dropout_2 (Dropout)         (None, 256)               0         \n",
            "                                                                 \n",
            " dense_2 (Dense)             (None, 12)                3084      \n",
            "                                                                 \n",
            "=================================================================\n",
            "Total params: 11,704,891\n",
            "Trainable params: 11,617,588\n",
            "Non-trainable params: 87,303\n",
            "_________________________________________________________________\n"
          ]
        }
      ],
      "source": [
        "# Reloading the model to make predictions\n",
        "model_effi_pred = tf.keras.models.load_model('./saved_model_effinet.h5')\n",
        "#model_effi_pred = tf.keras.models.load_model('./checkpoint_effinet.h5')\n",
        "\n",
        "#Check the architecture\n",
        "model_effi_pred.summary()"
      ]
    },
    {
      "cell_type": "code",
      "execution_count": null,
      "metadata": {
        "execution": {
          "iopub.execute_input": "2021-11-02T04:21:36.131131Z",
          "iopub.status.busy": "2021-11-02T04:21:36.130859Z",
          "iopub.status.idle": "2021-11-02T04:21:36.135782Z",
          "shell.execute_reply": "2021-11-02T04:21:36.135002Z",
          "shell.execute_reply.started": "2021-11-02T04:21:36.131081Z"
        },
        "id": "8g3kgLOOM-Qu",
        "trusted": true
      },
      "outputs": [],
      "source": [
        "test_folder_path = './test_images'\n",
        "\n",
        "if not os.path.exists(test_folder_path):\n",
        "    os.mkdir(test_folder_path) "
      ]
    },
    {
      "cell_type": "code",
      "execution_count": null,
      "metadata": {
        "execution": {
          "iopub.execute_input": "2021-11-02T04:21:36.138349Z",
          "iopub.status.busy": "2021-11-02T04:21:36.13735Z",
          "iopub.status.idle": "2021-11-02T04:21:36.228859Z",
          "shell.execute_reply": "2021-11-02T04:21:36.228087Z",
          "shell.execute_reply.started": "2021-11-02T04:21:36.138309Z"
        },
        "id": "znOS9iH6NBOC",
        "trusted": true
      },
      "outputs": [],
      "source": [
        "test_ds_path = '/content/drive/MyDrive/plant-pathology-2021-fgvc8/test_images'\n",
        "test_dir_path = '.\\\\test_images\\\\all_classes'\n",
        "\n",
        "if not os.path.exists(test_dir_path):\n",
        "    shutil.copytree(test_ds_path, test_dir_path)"
      ]
    },
    {
      "cell_type": "code",
      "execution_count": null,
      "metadata": {
        "execution": {
          "iopub.execute_input": "2021-11-02T04:21:36.231399Z",
          "iopub.status.busy": "2021-11-02T04:21:36.230817Z",
          "iopub.status.idle": "2021-11-02T04:21:36.23835Z",
          "shell.execute_reply": "2021-11-02T04:21:36.237493Z",
          "shell.execute_reply.started": "2021-11-02T04:21:36.23136Z"
        },
        "id": "vOoE-GWKNDGn",
        "trusted": true,
        "outputId": "e7bed3be-6465-4917-e658-a417537d317f"
      },
      "outputs": [
        {
          "name": "stdout",
          "output_type": "stream",
          "text": [
            "Number of pictures:  14\n",
            "Picture name:  ['85f8cb619c66b863.jpg', 'ad8770db05586b59.jpg', 'c7b03e718489f3ca.jpg', 'IMG_20211020_174743.jpg', 'IMG_20211020_174831.jpg', 'IMG_20211020_175040.jpg', 'IMG_20211020_175132.jpg', 'IMG_20211020_175253.jpg', 'IMG_20211020_175313.jpg', 'IMG_20211020_175324.jpg', 'IMG_20211020_175345.jpg', 'IMG_20211020_175417.jpg', 'IMG_20211020_175526.jpg', 'IMG_20211020_175840.jpg']\n"
          ]
        }
      ],
      "source": [
        "_, _, files = next(os.walk(test_dir_path))\n",
        "file_count = len(files)\n",
        "\n",
        "print(\"Number of pictures: \", file_count)\n",
        "print(\"Picture name: \", files)"
      ]
    },
    {
      "cell_type": "code",
      "execution_count": null,
      "metadata": {
        "execution": {
          "iopub.execute_input": "2021-11-02T04:21:36.240932Z",
          "iopub.status.busy": "2021-11-02T04:21:36.239877Z",
          "iopub.status.idle": "2021-11-02T04:21:36.245556Z",
          "shell.execute_reply": "2021-11-02T04:21:36.244658Z",
          "shell.execute_reply.started": "2021-11-02T04:21:36.240893Z"
        },
        "id": "MDU4x51yNFHm",
        "trusted": true
      },
      "outputs": [],
      "source": [
        "test_image_generator = ImageDataGenerator(rescale=1./255)"
      ]
    },
    {
      "cell_type": "code",
      "execution_count": null,
      "metadata": {
        "execution": {
          "iopub.execute_input": "2021-11-02T04:21:36.247975Z",
          "iopub.status.busy": "2021-11-02T04:21:36.24708Z",
          "iopub.status.idle": "2021-11-02T04:21:36.254068Z",
          "shell.execute_reply": "2021-11-02T04:21:36.253229Z",
          "shell.execute_reply.started": "2021-11-02T04:21:36.247938Z"
        },
        "id": "5259wX2PNKH_",
        "trusted": true
      },
      "outputs": [],
      "source": [
        "test_folder_path = './test_images'"
      ]
    },
    {
      "cell_type": "code",
      "execution_count": null,
      "metadata": {
        "execution": {
          "iopub.execute_input": "2021-11-02T04:21:36.256368Z",
          "iopub.status.busy": "2021-11-02T04:21:36.255652Z",
          "iopub.status.idle": "2021-11-02T04:21:36.36552Z",
          "shell.execute_reply": "2021-11-02T04:21:36.364709Z",
          "shell.execute_reply.started": "2021-11-02T04:21:36.256328Z"
        },
        "id": "WuLAHSTANNJl",
        "trusted": true,
        "outputId": "c485b2a3-3fe7-4059-93bf-3d0f6a18f9e4"
      },
      "outputs": [
        {
          "name": "stdout",
          "output_type": "stream",
          "text": [
            "Found 14 images belonging to 1 classes.\n"
          ]
        }
      ],
      "source": [
        "test_generator = test_image_generator.flow_from_directory(\n",
        "                                        directory=test_folder_path,\n",
        "                                        target_size=(IMG_HEIGHT, IMG_WIDTH),\n",
        "                                        class_mode=None,\n",
        "                                        shuffle=False\n",
        "                                        )"
      ]
    },
    {
      "cell_type": "code",
      "execution_count": null,
      "metadata": {
        "execution": {
          "iopub.execute_input": "2021-11-02T04:21:36.370104Z",
          "iopub.status.busy": "2021-11-02T04:21:36.369903Z",
          "iopub.status.idle": "2021-11-02T04:21:39.570556Z",
          "shell.execute_reply": "2021-11-02T04:21:39.569731Z",
          "shell.execute_reply.started": "2021-11-02T04:21:36.37008Z"
        },
        "id": "0GghDdryNNyC",
        "trusted": true,
        "outputId": "20dd8ef5-502c-4644-d71d-8e1893099b2c"
      },
      "outputs": [
        {
          "name": "stderr",
          "output_type": "stream",
          "text": [
            "<ipython-input-52-adb5d985a361>:1: UserWarning: `Model.predict_generator` is deprecated and will be removed in a future version. Please use `Model.predict`, which supports generators.\n",
            "  pred_effi = model_effi_pred.predict_generator(test_generator, verbose=1)\n"
          ]
        },
        {
          "name": "stdout",
          "output_type": "stream",
          "text": [
            "1/1 [==============================] - 11s 11s/step\n",
            "[[0. 0. 0. 0. 0. 0. 1. 0. 0. 0. 0. 0.]\n",
            " [0. 0. 0. 0. 0. 0. 1. 0. 0. 0. 0. 0.]\n",
            " [0. 0. 0. 0. 0. 0. 1. 0. 0. 0. 0. 0.]\n",
            " [0. 0. 0. 0. 0. 0. 1. 0. 0. 0. 0. 0.]\n",
            " [0. 0. 0. 0. 0. 0. 1. 0. 0. 0. 0. 0.]\n",
            " [0. 0. 0. 0. 0. 0. 1. 0. 0. 0. 0. 0.]\n",
            " [0. 0. 0. 0. 0. 0. 1. 0. 0. 0. 0. 0.]\n",
            " [0. 0. 0. 0. 0. 0. 1. 0. 0. 0. 0. 0.]\n",
            " [0. 0. 0. 0. 0. 0. 1. 0. 0. 0. 0. 0.]\n",
            " [0. 0. 0. 0. 0. 0. 1. 0. 0. 0. 0. 0.]\n",
            " [0. 0. 0. 0. 0. 0. 1. 0. 0. 0. 0. 0.]\n",
            " [0. 0. 0. 0. 0. 0. 1. 0. 0. 0. 0. 0.]\n",
            " [0. 0. 0. 0. 0. 0. 1. 0. 0. 0. 0. 0.]\n",
            " [0. 0. 0. 0. 0. 0. 1. 0. 0. 0. 0. 0.]]\n"
          ]
        }
      ],
      "source": [
        "pred_effi = model_effi_pred.predict_generator(test_generator, verbose=1)\n",
        "print(pred_effi)"
      ]
    },
    {
      "cell_type": "code",
      "execution_count": null,
      "metadata": {
        "execution": {
          "iopub.execute_input": "2021-11-02T04:21:39.572373Z",
          "iopub.status.busy": "2021-11-02T04:21:39.572002Z",
          "iopub.status.idle": "2021-11-02T04:21:39.581995Z",
          "shell.execute_reply": "2021-11-02T04:21:39.581054Z",
          "shell.execute_reply.started": "2021-11-02T04:21:39.572325Z"
        },
        "id": "oE06nKTXNRM0",
        "trusted": true,
        "outputId": "f3030453-0eb9-499f-f4cd-4fa38e143963"
      },
      "outputs": [
        {
          "name": "stdout",
          "output_type": "stream",
          "text": [
            "Predicted class indices: [6 6 6 6 6 6 6 6 6 6 6 6 6 6]\n",
            "Predicted class: ['scab frog_eye_leaf_spot', 'scab frog_eye_leaf_spot', 'scab frog_eye_leaf_spot', 'scab frog_eye_leaf_spot', 'scab frog_eye_leaf_spot', 'scab frog_eye_leaf_spot', 'scab frog_eye_leaf_spot', 'scab frog_eye_leaf_spot', 'scab frog_eye_leaf_spot', 'scab frog_eye_leaf_spot', 'scab frog_eye_leaf_spot', 'scab frog_eye_leaf_spot', 'scab frog_eye_leaf_spot', 'scab frog_eye_leaf_spot']\n"
          ]
        }
      ],
      "source": [
        "# making predictions on the testing image data\n",
        "predicted_class_indices = np.argmax(pred_effi, axis=1)\n",
        "print(\"Predicted class indices:\", predicted_class_indices)\n",
        "\n",
        "labels_dict = ({'scab' : 0, 'healthy' : 1, 'frog_eye_leaf_spot' : 2, 'rust' : 3, 'complex' : 4, 'powdery_mildew' : 5, 'scab frog_eye_leaf_spot' : 6, 'scab frog_eye_leaf_spot complex' : 7, 'frog_eye_leaf_spot complex' : 8,'rust frog_eye_leaf_spot' : 9,'rust complex' : 10,'powdery_mildew complex' : 11})\n",
        "\n",
        "labels = dict((v,k) for k,v in labels_dict.items())\n",
        "predictions = [labels[k] for k in predicted_class_indices]\n",
        "print(\"Predicted class:\", predictions)"
      ]
    },
    {
      "cell_type": "code",
      "execution_count": null,
      "metadata": {
        "execution": {
          "iopub.execute_input": "2021-11-02T04:21:39.584808Z",
          "iopub.status.busy": "2021-11-02T04:21:39.584032Z",
          "iopub.status.idle": "2021-11-02T04:30:08.710084Z",
          "shell.execute_reply": "2021-11-02T04:30:08.70932Z",
          "shell.execute_reply.started": "2021-11-02T04:21:39.584767Z"
        },
        "trusted": true,
        "id": "Q3viEmD0YxNC",
        "outputId": "41dd6030-a967-4606-ef2e-c718296a4b6c"
      },
      "outputs": [
        {
          "name": "stderr",
          "output_type": "stream",
          "text": [
            "<ipython-input-58-5423d179724d>:3: UserWarning: `Model.predict_generator` is deprecated and will be removed in a future version. Please use `Model.predict`, which supports generators.\n",
            "  Y_pred = model_effi_pred.predict_generator(valid_datagen, valid_datagen.samples // valid_datagen.batch_size + 5)\n"
          ]
        },
        {
          "name": "stdout",
          "output_type": "stream",
          "text": [
            "WARNING:tensorflow:Your input ran out of data; interrupting training. Make sure that your dataset or generator can generate at least `steps_per_epoch * epochs` batches (in this case, 121 batches). You may need to use the repeat() function when building your dataset.\n",
            "Confusion Matrix\n",
            "[[ 15  49   0  84  31   0  33   0   0  95   0   0]\n",
            " [ 28  88   0 137  61   0  70   0   0 170   0   0]\n",
            " [  4   1   0   4   2   0   2   0   0   5   0   0]\n",
            " [ 45 132   0 189  97   0  96   0   0 253   2   0]\n",
            " [ 19  46   0  74  51   0  38   0   0 109   0   0]\n",
            " [  2   0   0   4   2   0   3   0   0   9   0   0]\n",
            " [ 22  57   0  95  47   0  46   0   0 132   0   0]\n",
            " [  0   1   0   1   3   0   3   0   0   3   1   0]\n",
            " [  3   3   0   6   0   0   4   0   0   8   0   0]\n",
            " [ 59 166   0 295 107   0 134   0   0 347   0   0]\n",
            " [  6  16   0  25  13   0  13   0   0  32   0   0]\n",
            " [  1   5   0  12   1   0   3   0   0   6   0   0]]\n"
          ]
        }
      ],
      "source": [
        "from sklearn.metrics import classification_report, confusion_matrix\n",
        "\n",
        "Y_pred = model_effi_pred.predict_generator(valid_datagen, valid_datagen.samples // valid_datagen.batch_size + 5)\n",
        "y_pred = np.argmax(Y_pred, axis=1)\n",
        "print('Confusion Matrix')\n",
        "print(confusion_matrix(valid_datagen.classes, y_pred))"
      ]
    },
    {
      "cell_type": "code",
      "execution_count": null,
      "metadata": {
        "execution": {
          "iopub.execute_input": "2021-11-02T04:30:08.712173Z",
          "iopub.status.busy": "2021-11-02T04:30:08.711661Z",
          "iopub.status.idle": "2021-11-02T04:30:08.735561Z",
          "shell.execute_reply": "2021-11-02T04:30:08.734834Z",
          "shell.execute_reply.started": "2021-11-02T04:30:08.712114Z"
        },
        "trusted": true,
        "id": "DoyhbfbMYxNC",
        "outputId": "ab3cb9be-5313-4d4a-ad90-443fa57d02ce"
      },
      "outputs": [
        {
          "name": "stdout",
          "output_type": "stream",
          "text": [
            "                                 precision    recall  f1-score   support\n",
            "\n",
            "                        complex       0.07      0.05      0.06       307\n",
            "             frog_eye_leaf_spot       0.16      0.16      0.16       554\n",
            "     frog_eye_leaf_spot complex       0.00      0.00      0.00        18\n",
            "                        healthy       0.20      0.23      0.22       814\n",
            "                 powdery_mildew       0.12      0.15      0.14       337\n",
            "         powdery_mildew complex       0.00      0.00      0.00        20\n",
            "                           rust       0.10      0.12      0.11       399\n",
            "                   rust complex       0.00      0.00      0.00        12\n",
            "        rust frog_eye_leaf_spot       0.00      0.00      0.00        24\n",
            "                           scab       0.30      0.31      0.30      1108\n",
            "        scab frog_eye_leaf_spot       0.00      0.00      0.00       105\n",
            "scab frog_eye_leaf_spot complex       0.00      0.00      0.00        28\n",
            "\n",
            "                       accuracy                           0.20      3726\n",
            "                      macro avg       0.08      0.08      0.08      3726\n",
            "                   weighted avg       0.18      0.20      0.19      3726\n",
            "\n"
          ]
        },
        {
          "name": "stderr",
          "output_type": "stream",
          "text": [
            "C:\\Python\\Python38\\lib\\site-packages\\sklearn\\metrics\\_classification.py:1245: UndefinedMetricWarning: Precision and F-score are ill-defined and being set to 0.0 in labels with no predicted samples. Use `zero_division` parameter to control this behavior.\n",
            "  _warn_prf(average, modifier, msg_start, len(result))\n",
            "C:\\Python\\Python38\\lib\\site-packages\\sklearn\\metrics\\_classification.py:1245: UndefinedMetricWarning: Precision and F-score are ill-defined and being set to 0.0 in labels with no predicted samples. Use `zero_division` parameter to control this behavior.\n",
            "  _warn_prf(average, modifier, msg_start, len(result))\n",
            "C:\\Python\\Python38\\lib\\site-packages\\sklearn\\metrics\\_classification.py:1245: UndefinedMetricWarning: Precision and F-score are ill-defined and being set to 0.0 in labels with no predicted samples. Use `zero_division` parameter to control this behavior.\n",
            "  _warn_prf(average, modifier, msg_start, len(result))\n"
          ]
        }
      ],
      "source": [
        "#displaying the classification report including values for Precision, Recall, F1-score and Support for each disease class\n",
        "target_names = list(train_datagen.class_indices.keys()) # Classes\n",
        "print(classification_report(valid_datagen.classes, y_pred, target_names=target_names))"
      ]
    },
    {
      "cell_type": "code",
      "execution_count": null,
      "metadata": {
        "execution": {
          "iopub.execute_input": "2021-11-02T04:30:08.737361Z",
          "iopub.status.busy": "2021-11-02T04:30:08.736703Z",
          "iopub.status.idle": "2021-11-02T04:30:09.28678Z",
          "shell.execute_reply": "2021-11-02T04:30:09.285496Z",
          "shell.execute_reply.started": "2021-11-02T04:30:08.737324Z"
        },
        "trusted": true,
        "id": "OfzZuFRxYxNC",
        "outputId": "76564ccf-c7ec-4dba-9798-4ed40163263a"
      },
      "outputs": [
        {
          "data": {
            "image/png": "[encoded data removed]",
            "text/plain": [
              "<Figure size 576x432 with 2 Axes>"
            ]
          },
          "metadata": {
            "needs_background": "light"
          },
          "output_type": "display_data"
        }
      ],
      "source": [
        "#displaying the confusion matrix\n",
        "import seaborn as sns\n",
        "\n",
        "cm = confusion_matrix(valid_datagen.classes, y_pred)\n",
        "labels = ['scab', 'healthy', 'frog_eye_leaf_spot', 'rust','complex', 'powdery_mildew','scab frog_eye_leaf_spot','scab frog_eye_leaf_spot complex','frog_eye_leaf_spot complex','rust frog_eye_leaf_spot','rust complex','powdery_mildew complex']\n",
        "plt.figure(figsize=(8,6))\n",
        "sns.heatmap(cm,xticklabels=labels, yticklabels=labels, annot=True, fmt='d', cmap=\"Blues\", vmin = 0.2);\n",
        "plt.title('Confusion Matrix')\n",
        "plt.ylabel('True Class')\n",
        "plt.xlabel('Predicted Class')\n",
        "plt.show()"
      ]
    }
  ],
  "metadata": {
    "kernelspec": {
      "display_name": "Python 3",
      "language": "python",
      "name": "python3"
    },
    "language_info": {
      "codemirror_mode": {
        "name": "ipython",
        "version": 3
      },
      "file_extension": ".py",
      "mimetype": "text/x-python",
      "name": "python",
      "nbconvert_exporter": "python",
      "pygments_lexer": "ipython3",
      "version": "3.8.7"
    },
    "colab": {
      "name": "EfficientNetB3_without_Hyperparameter.ipynb",
      "provenance": [],
      "collapsed_sections": []
    }
  },
  "nbformat": 4,
  "nbformat_minor": 0
}