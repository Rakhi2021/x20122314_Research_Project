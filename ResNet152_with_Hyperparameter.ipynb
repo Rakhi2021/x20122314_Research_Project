{
  "cells": [
    {
      "cell_type": "code",
      "execution_count": null,
      "metadata": {
        "id": "w7WR_M50ckfP"
      },
      "outputs": [],
      "source": [
        "#IMPORT REQUIRED LIBRARIES:\n",
        "\n",
        "import numpy as np\n",
        "import pandas as pd\n",
        "import os\n",
        "from re import search\n",
        "import shutil\n",
        "from PIL import Image\n",
        "import matplotlib.pyplot as plt\n",
        "from tqdm import tqdm\n",
        "import time\n",
        "import keras_tuner as kt\n",
        "import tensorflow as tf\n",
        "from tensorflow.keras.models import Sequential\n",
        "from tensorflow.keras.callbacks import ModelCheckpoint,EarlyStopping\n",
        "from tensorflow.keras.preprocessing.image import ImageDataGenerator\n",
        "from tensorflow.keras.layers import Dense,Activation,Flatten, Conv2D, MaxPooling2D"
      ]
    },
    {
      "cell_type": "markdown",
      "source": [
        "Connecting to Google drive to access the uploaded dataset"
      ],
      "metadata": {
        "id": "5X6h3ZjploOH"
      }
    },
    {
      "cell_type": "code",
      "source": [
        "from google.colab import drive\n",
        "drive.mount('/content/drive')"
      ],
      "metadata": {
        "id": "HB7IDGTjlOZo"
      },
      "execution_count": null,
      "outputs": []
    },
    {
      "cell_type": "markdown",
      "source": [
        "Once the drive is mounted, change the corresponding file path in TRAIN_PATH, train_df and dataset_path to access image files from the uploaded dataset Plant-pathology-2021-fgvc8"
      ],
      "metadata": {
        "id": "uXT6rjoyltZU"
      }
    },
    {
      "cell_type": "code",
      "execution_count": null,
      "metadata": {
        "id": "F55YWfvzckfR"
      },
      "outputs": [],
      "source": [
        "#IMAGE PATH & DATAFRAME:\n",
        "\n",
        "TRAIN_PATH = \"/content/drive/MyDrive/plant-pathology-2021-fgvc8/train_images\"\n",
        "train_df = pd.read_csv(\"/content/drive/MyDrive/plant-pathology-2021-fgvc8/train.csv\")"
      ]
    },
    {
      "cell_type": "code",
      "execution_count": null,
      "metadata": {
        "id": "11RxB_vNckfS"
      },
      "outputs": [],
      "source": [
        "from pathlib import Path\n",
        "dataset_path = Path('/content/drive/MyDrive/plant-pathology-2021-fgvc8')"
      ]
    },
    {
      "cell_type": "markdown",
      "source": [
        "Reading the train.csv file into a Dataframe and display top 5 rows of the file"
      ],
      "metadata": {
        "id": "xqqXzLqpmNCo"
      }
    },
    {
      "cell_type": "code",
      "execution_count": null,
      "metadata": {
        "colab": {
          "base_uri": "https://localhost:8080/",
          "height": 206
        },
        "id": "TJCQv-5XckfS",
        "outputId": "902f2096-5615-463d-ce3d-e2999b398fdc"
      },
      "outputs": [
        {
          "data": {
            "text/html": [
              "<div>\n",
              "<style scoped>\n",
              "    .dataframe tbody tr th:only-of-type {\n",
              "        vertical-align: middle;\n",
              "    }\n",
              "\n",
              "    .dataframe tbody tr th {\n",
              "        vertical-align: top;\n",
              "    }\n",
              "\n",
              "    .dataframe thead th {\n",
              "        text-align: right;\n",
              "    }\n",
              "</style>\n",
              "<table border=\"1\" class=\"dataframe\">\n",
              "  <thead>\n",
              "    <tr style=\"text-align: right;\">\n",
              "      <th></th>\n",
              "      <th>image</th>\n",
              "      <th>labels</th>\n",
              "    </tr>\n",
              "  </thead>\n",
              "  <tbody>\n",
              "    <tr>\n",
              "      <th>0</th>\n",
              "      <td>800113bb65efe69e.jpg</td>\n",
              "      <td>healthy</td>\n",
              "    </tr>\n",
              "    <tr>\n",
              "      <th>1</th>\n",
              "      <td>8002cb321f8bfcdf.jpg</td>\n",
              "      <td>scab frog_eye_leaf_spot complex</td>\n",
              "    </tr>\n",
              "    <tr>\n",
              "      <th>2</th>\n",
              "      <td>80070f7fb5e2ccaa.jpg</td>\n",
              "      <td>scab</td>\n",
              "    </tr>\n",
              "    <tr>\n",
              "      <th>3</th>\n",
              "      <td>80077517781fb94f.jpg</td>\n",
              "      <td>scab</td>\n",
              "    </tr>\n",
              "    <tr>\n",
              "      <th>4</th>\n",
              "      <td>800cbf0ff87721f8.jpg</td>\n",
              "      <td>complex</td>\n",
              "    </tr>\n",
              "  </tbody>\n",
              "</table>\n",
              "</div>"
            ],
            "text/plain": [
              "                  image                           labels\n",
              "0  800113bb65efe69e.jpg                          healthy\n",
              "1  8002cb321f8bfcdf.jpg  scab frog_eye_leaf_spot complex\n",
              "2  80070f7fb5e2ccaa.jpg                             scab\n",
              "3  80077517781fb94f.jpg                             scab\n",
              "4  800cbf0ff87721f8.jpg                          complex"
            ]
          },
          "execution_count": 4,
          "metadata": {},
          "output_type": "execute_result"
        }
      ],
      "source": [
        "train_df = pd.read_csv(dataset_path/'train.csv')\n",
        "train_df.head()"
      ]
    },
    {
      "cell_type": "markdown",
      "source": [
        "ImageDataGenerator is used to resize the images and perform data augmentation techniques like Rotation, Horizontal Flipping, Zooming, Shearing and Shifting on 32 train images to create a new dataset. The train images are split into training and validation set in 80:20 ratio."
      ],
      "metadata": {
        "id": "DkVwsnu9mTmo"
      }
    },
    {
      "cell_type": "code",
      "execution_count": null,
      "metadata": {
        "colab": {
          "base_uri": "https://localhost:8080/"
        },
        "id": "r-EmVuddckfT",
        "outputId": "c8deed82-3617-4c35-dcf5-3527dfe9f7a7"
      },
      "outputs": [
        {
          "name": "stdout",
          "output_type": "stream",
          "text": [
            "Found 14906 non-validated image filenames belonging to 12 classes.\n",
            "Found 3726 non-validated image filenames belonging to 12 classes.\n"
          ]
        }
      ],
      "source": [
        "# Use the Image Data Generator to import the images from the dataset\n",
        "from tensorflow.keras.preprocessing.image import ImageDataGenerator\n",
        "\n",
        "train_image_generator = ImageDataGenerator(rescale = 1/255.,\n",
        "    rotation_range=20,\n",
        "    width_shift_range=0.2,\n",
        "    height_shift_range=0.2,\n",
        "    horizontal_flip=True,\n",
        "    validation_split = 0.2,\n",
        "    zoom_range = 0.2,\n",
        "    shear_range = 0.2,\n",
        "    vertical_flip = False)\n",
        "\n",
        "\n",
        "HEIGHT = 512\n",
        "WIDTH = 512\n",
        "SEED = 143\n",
        "BATCH_SIZE=32\n",
        "train_datagen = train_image_generator.flow_from_dataframe(\n",
        "    train_df,\n",
        "    directory = TRAIN_PATH,\n",
        "    x_col = \"image\",\n",
        "    y_col = \"labels\",\n",
        "    target_size = (HEIGHT,WIDTH),\n",
        "    class_mode='categorical',\n",
        "    batch_size = BATCH_SIZE,\n",
        "    subset = \"training\",\n",
        "    shuffle = True,\n",
        "    seed = SEED,\n",
        "    validate_filenames = False\n",
        ")\n",
        "\n",
        "\n",
        "valid_datagen = train_image_generator.flow_from_dataframe(\n",
        "    train_df,\n",
        "    directory = TRAIN_PATH,\n",
        "    x_col = \"image\",\n",
        "    y_col = \"labels\",\n",
        "    target_size = (HEIGHT,WIDTH),\n",
        "    class_mode='categorical',\n",
        "    batch_size = BATCH_SIZE,\n",
        "    subset = \"validation\",\n",
        "    shuffle = True,\n",
        "    seed = SEED,\n",
        "    validate_filenames = False\n",
        ")"
      ]
    },
    {
      "cell_type": "code",
      "execution_count": null,
      "metadata": {
        "id": "WJ__T4tzKpMk"
      },
      "outputs": [],
      "source": [
        "x_train, y_train = train_datagen.next()\n",
        "x_val, y_val = valid_datagen.next()"
      ]
    },
    {
      "cell_type": "code",
      "execution_count": null,
      "metadata": {
        "id": "nNclvMsSckfU"
      },
      "outputs": [],
      "source": [
        "import tensorflow as tf\n",
        "from tensorflow.keras.applications import ResNet152, EfficientNetB3\n",
        "from tensorflow.keras import models, layers\n",
        "from keras.models import Sequential\n",
        "from keras.layers import Dense, Dropout, Flatten\n",
        "from keras.callbacks import ModelCheckpoint, EarlyStopping, ReduceLROnPlateau\n",
        "from tensorflow.keras.optimizers import Adam\n",
        "from keras.losses import CategoricalCrossentropy"
      ]
    },
    {
      "cell_type": "code",
      "execution_count": null,
      "metadata": {
        "id": "7Z4zmFMZKpMl"
      },
      "outputs": [],
      "source": [
        "LOG_DIR = f\"{int(time.time())}\""
      ]
    },
    {
      "cell_type": "markdown",
      "source": [
        "Defining the Sequential class for ResNet152 model and assigning weights as ImageNet. We will tune the learning rate and number of units in Dense layer, thus giving an array with multiple values to choose the optimal parameter value using Random Search Optimization."
      ],
      "metadata": {
        "id": "05RMoPK7meGB"
      }
    },
    {
      "cell_type": "code",
      "execution_count": null,
      "metadata": {
        "id": "gGm9xEaLckfU"
      },
      "outputs": [],
      "source": [
        "def modelResNet152(hp):\n",
        "    \n",
        "    model = models.Sequential()\n",
        "    model.add(ResNet152(include_top = False, \n",
        "                      weights='imagenet',\n",
        "                      #weights = \"../input/resnet152traind/resnet152_weights_tf_dim_ordering_tf_kernels_notop.h5\",\n",
        "                      input_shape= x_train.shape[1:]))\n",
        "    \n",
        "    model.add(Dropout(0.5))\n",
        "    model.add(layers.GlobalAveragePooling2D())\n",
        "    \n",
        "    #additional\n",
        "    model.add(layers.Dense(\n",
        "      hp.Choice('units', [128,256,512,1024]),\n",
        "      activation='relu'))\n",
        "    #model.add(layers.Dense(1024, activation = 'relu'))\n",
        "    model.add(Dropout(0.25))\n",
        "    \n",
        "    model.add(layers.Dense(12, activation = \"softmax\"))\n",
        "    # Choose an optimal value from 0.01, 0.001, or 0.0001\n",
        "    hp_learning_rate = hp.Choice('learning_rate', values=[1e-2, 1e-3, 1e-4])\n",
        "    model.compile(\n",
        "            optimizer=Adam(learning_rate=hp_learning_rate),\n",
        "            loss = CategoricalCrossentropy(label_smoothing=0.3,reduction=\"auto\",name=\"categorical_crossentropy\"),\n",
        "            metrics = [\"accuracy\"])\n",
        "    \n",
        "    return model "
      ]
    },
    {
      "cell_type": "markdown",
      "source": [
        "Random Search optimization enables to find random parameter combination to optimize the model's performance. The objective is set as 'val_loss' to minmize the validation loss during model run and increase accuracy. The number of trials to search optimal parameter values is set as 12."
      ],
      "metadata": {
        "id": "2BNOvbnBmnt0"
      }
    },
    {
      "cell_type": "code",
      "execution_count": null,
      "metadata": {
        "id": "hOd5ndB4f-RV"
      },
      "outputs": [],
      "source": [
        "tuner = kt.RandomSearch(\n",
        "    modelResNet152,\n",
        "    objective='val_loss',\n",
        "    max_trials=12,\n",
        "    directory  = LOG_DIR)"
      ]
    },
    {
      "cell_type": "code",
      "execution_count": null,
      "metadata": {
        "id": "AZZMguolKpMm",
        "outputId": "555172e3-be64-44ea-e13a-4d4836f5bcdf"
      },
      "outputs": [
        {
          "name": "stdout",
          "output_type": "stream",
          "text": [
            "Trial 10 Complete [00h 02m 14s]\n",
            "val_loss: 2.5798439979553223\n",
            "\n",
            "Best val_loss So Far: 2.4034950733184814\n",
            "Total elapsed time: 00h 20m 54s\n",
            "INFO:tensorflow:Oracle triggered exit\n"
          ]
        }
      ],
      "source": [
        "tuner.search(x_train, y_train, epochs=5, batch_size =64, validation_data=(x_val, y_val))"
      ]
    },
    {
      "cell_type": "code",
      "execution_count": null,
      "metadata": {
        "id": "sFHjw2DvKpMn",
        "outputId": "00db2552-31d6-42b0-b070-1eb2c2c6e668"
      },
      "outputs": [
        {
          "name": "stdout",
          "output_type": "stream",
          "text": [
            "\n",
            "The hyperparameter search is complete. The optimal number of units in the first densely-connected\n",
            "layer is 512 and the optimal learning rate for the optimizer\n",
            "is 0.0001.\n",
            "\n"
          ]
        }
      ],
      "source": [
        "best_hps=tuner.get_best_hyperparameters(num_trials=1)[0]\n",
        "print(f\"\"\"\n",
        "The hyperparameter search is complete. The optimal number of units in the first densely-connected\n",
        "layer is {best_hps.get('units')} and the optimal learning rate for the optimizer\n",
        "is {best_hps.get('learning_rate')}.\n",
        "\"\"\")"
      ]
    },
    {
      "cell_type": "code",
      "execution_count": null,
      "metadata": {
        "id": "q0PL7bLnKpMn"
      },
      "outputs": [],
      "source": [
        "model_res152 = tuner.hypermodel.build(best_hps)"
      ]
    },
    {
      "cell_type": "markdown",
      "source": [
        "Displaying the summary of the tuned model"
      ],
      "metadata": {
        "id": "27DrTca8pat8"
      }
    },
    {
      "cell_type": "code",
      "execution_count": null,
      "metadata": {
        "colab": {
          "base_uri": "https://localhost:8080/"
        },
        "id": "LxGfgxV-ckfW",
        "outputId": "48908ac9-ade0-49f2-b42e-d87827531a4e"
      },
      "outputs": [
        {
          "name": "stdout",
          "output_type": "stream",
          "text": [
            "Model: \"sequential_1\"\n",
            "_________________________________________________________________\n",
            " Layer (type)                Output Shape              Param #   \n",
            "=================================================================\n",
            " resnet152 (Functional)      (None, 4, 4, 2048)        58370944  \n",
            "                                                                 \n",
            " dropout_2 (Dropout)         (None, 4, 4, 2048)        0         \n",
            "                                                                 \n",
            " global_average_pooling2d_1   (None, 2048)             0         \n",
            " (GlobalAveragePooling2D)                                        \n",
            "                                                                 \n",
            " dense_2 (Dense)             (None, 512)               1049088   \n",
            "                                                                 \n",
            " dropout_3 (Dropout)         (None, 512)               0         \n",
            "                                                                 \n",
            " dense_3 (Dense)             (None, 12)                6156      \n",
            "                                                                 \n",
            "=================================================================\n",
            "Total params: 59,426,188\n",
            "Trainable params: 59,274,764\n",
            "Non-trainable params: 151,424\n",
            "_________________________________________________________________\n"
          ]
        }
      ],
      "source": [
        "model_res152.summary()"
      ]
    },
    {
      "cell_type": "code",
      "execution_count": null,
      "metadata": {
        "id": "AcgYnYDickfX"
      },
      "outputs": [],
      "source": [
        "model_checkpoint_resnet = ModelCheckpoint(\n",
        "                            \"./checkpoint_resnet.h5\",\n",
        "                            monitor = \"val_loss\",\n",
        "                            verbose = 1,\n",
        "                            save_best_only = True,\n",
        "                            save_weights_only = False,\n",
        "                            mode = \"min\")"
      ]
    },
    {
      "cell_type": "markdown",
      "source": [
        "Early stopping and Reduce Learning Rate on Plateau callbacks are used to stop the model training if the validation loss and the learning rate stops improving."
      ],
      "metadata": {
        "id": "5bRtR_BrpfFX"
      }
    },
    {
      "cell_type": "code",
      "execution_count": null,
      "metadata": {
        "id": "MsCwa51qckfX"
      },
      "outputs": [],
      "source": [
        "early_stop = EarlyStopping(\n",
        "                            monitor = \"val_loss\",\n",
        "                            min_delta=0.001,\n",
        "                            patience=7,\n",
        "                            verbose=1,\n",
        "                            mode=\"min\",\n",
        "                            restore_best_weights=False)"
      ]
    },
    {
      "cell_type": "code",
      "execution_count": null,
      "metadata": {
        "id": "AIQV-ZE-ckfX"
      },
      "outputs": [],
      "source": [
        "reduce_lr = ReduceLROnPlateau(\n",
        "                            monitor=\"val_loss\",\n",
        "                            factor=0.1,\n",
        "                            patience=2,\n",
        "                            verbose=1,\n",
        "                            mode=\"min\",\n",
        "                            min_delta=0.0001)"
      ]
    },
    {
      "cell_type": "code",
      "execution_count": null,
      "metadata": {
        "id": "eyvMjugpckfY"
      },
      "outputs": [],
      "source": [
        "epochs = 8"
      ]
    },
    {
      "cell_type": "markdown",
      "source": [
        "The model is trained with a batch size of 32 and number of epochs equal to 8 and the corresponding accuracy and loss are displayed for each epoch."
      ],
      "metadata": {
        "id": "iCInt_ZVpjQW"
      }
    },
    {
      "cell_type": "code",
      "execution_count": null,
      "metadata": {
        "colab": {
          "base_uri": "https://localhost:8080/"
        },
        "id": "-N9Klju9ckfY",
        "outputId": "ff22091d-fae8-4b68-adc2-fa7ba2c1c120"
      },
      "outputs": [
        {
          "name": "stderr",
          "output_type": "stream",
          "text": [
            "<ipython-input-55-3f035b66b3bf>:1: UserWarning: `Model.fit_generator` is deprecated and will be removed in a future version. Please use `Model.fit`, which supports generators.\n",
            "  history_res152 = model_res152.fit_generator(\n"
          ]
        },
        {
          "name": "stdout",
          "output_type": "stream",
          "text": [
            "Epoch 1/8\n",
            "466/466 [==============================] - ETA: 0s - loss: 2.0056 - accuracy: 0.5168 \n",
            "Epoch 00001: val_loss improved from inf to 2.82987, saving model to .\\checkpoint_resnet.h5\n"
          ]
        },
        {
          "name": "stderr",
          "output_type": "stream",
          "text": [
            "C:\\Python\\Python38\\lib\\site-packages\\keras\\engine\\functional.py:1410: CustomMaskWarning: Custom mask layers require a config and must override get_config. When loading, the custom mask layer must be passed to the custom_objects argument.\n",
            "  layer_config = serialize_layer_fn(layer)\n"
          ]
        },
        {
          "name": "stdout",
          "output_type": "stream",
          "text": [
            "466/466 [==============================] - 6425s 14s/step - loss: 2.0056 - accuracy: 0.5168 - val_loss: 2.8299 - val_accuracy: 0.1624 - lr: 0.0010\n",
            "Epoch 2/8\n",
            "466/466 [==============================] - ETA: 0s - loss: 1.7228 - accuracy: 0.7193 \n",
            "Epoch 00002: val_loss improved from 2.82987 to 2.21757, saving model to .\\checkpoint_resnet.h5\n",
            "466/466 [==============================] - 6002s 13s/step - loss: 1.7228 - accuracy: 0.7193 - val_loss: 2.2176 - val_accuracy: 0.3790 - lr: 0.0010\n",
            "Epoch 3/8\n",
            "466/466 [==============================] - ETA: 0s - loss: 1.6562 - accuracy: 0.7625 \n",
            "Epoch 00003: val_loss did not improve from 2.21757\n",
            "466/466 [==============================] - 5796s 12s/step - loss: 1.6562 - accuracy: 0.7625 - val_loss: 4.0635 - val_accuracy: 0.2687 - lr: 0.0010\n",
            "Epoch 4/8\n",
            "466/466 [==============================] - ETA: 0s - loss: 1.6257 - accuracy: 0.7761 \n",
            "Epoch 00004: val_loss improved from 2.21757 to 1.78980, saving model to .\\checkpoint_resnet.h5\n",
            "466/466 [==============================] - 5828s 13s/step - loss: 1.6257 - accuracy: 0.7761 - val_loss: 1.7898 - val_accuracy: 0.6492 - lr: 0.0010\n",
            "Epoch 5/8\n",
            "466/466 [==============================] - ETA: 0s - loss: 1.6041 - accuracy: 0.7901 \n",
            "Epoch 00005: val_loss did not improve from 1.78980\n",
            "466/466 [==============================] - 5512s 12s/step - loss: 1.6041 - accuracy: 0.7901 - val_loss: 1.8323 - val_accuracy: 0.6251 - lr: 0.0010\n",
            "Epoch 6/8\n",
            "466/466 [==============================] - ETA: 0s - loss: 1.5894 - accuracy: 0.8008 \n",
            "Epoch 00006: val_loss did not improve from 1.78980\n",
            "\n",
            "Epoch 00006: ReduceLROnPlateau reducing learning rate to 0.00010000000474974513.\n",
            "466/466 [==============================] - 5325s 11s/step - loss: 1.5894 - accuracy: 0.8008 - val_loss: 2.0446 - val_accuracy: 0.5164 - lr: 0.0010\n",
            "Epoch 7/8\n",
            "466/466 [==============================] - ETA: 0s - loss: 1.5278 - accuracy: 0.8313 \n",
            "Epoch 00007: val_loss improved from 1.78980 to 1.47879, saving model to .\\checkpoint_resnet.h5\n",
            "466/466 [==============================] - 5313s 11s/step - loss: 1.5278 - accuracy: 0.8313 - val_loss: 1.4788 - val_accuracy: 0.8540 - lr: 1.0000e-04\n",
            "Epoch 8/8\n",
            "466/466 [==============================] - ETA: 0s - loss: 1.5067 - accuracy: 0.8432 \n",
            "Epoch 00008: val_loss improved from 1.47879 to 1.47024, saving model to .\\checkpoint_resnet.h5\n",
            "466/466 [==============================] - 5318s 11s/step - loss: 1.5067 - accuracy: 0.8432 - val_loss: 1.4702 - val_accuracy: 0.8599 - lr: 1.0000e-04\n"
          ]
        }
      ],
      "source": [
        "history_res152 = model_res152.fit_generator(\n",
        "                    train_datagen,\n",
        "                    steps_per_epoch=None,\n",
        "                    epochs=epochs,\n",
        "                    validation_data=valid_datagen,\n",
        "                    validation_steps=None,\n",
        "                    callbacks = [model_checkpoint_resnet,early_stop,reduce_lr]\n",
        ")"
      ]
    },
    {
      "cell_type": "code",
      "execution_count": null,
      "metadata": {
        "id": "DwwndszbckfZ"
      },
      "outputs": [],
      "source": [
        "#saving the models\n",
        "model_res152.save('saved_model_resnet_hyper.h5')"
      ]
    },
    {
      "cell_type": "markdown",
      "source": [
        "Plotting the Accuracy and Loss graphs using Matplotlib library"
      ],
      "metadata": {
        "id": "zmnJRI4Ipoq8"
      }
    },
    {
      "cell_type": "code",
      "execution_count": null,
      "metadata": {
        "id": "GFhp61UFckfZ",
        "outputId": "fc31e596-7d03-4a8a-846b-683f167a5fb0"
      },
      "outputs": [
        {
          "data": {
            "image/png": "[encoded data removed]",
            "text/plain": [
              "<Figure size 432x288 with 1 Axes>"
            ]
          },
          "metadata": {
            "needs_background": "light"
          },
          "output_type": "display_data"
        },
        {
          "data": {
            "image/png": "[encoded data removed]",
            "text/plain": [
              "<Figure size 432x288 with 1 Axes>"
            ]
          },
          "metadata": {
            "needs_background": "light"
          },
          "output_type": "display_data"
        }
      ],
      "source": [
        "acc = history_res152.history['accuracy']\n",
        "val_acc = history_res152.history['val_accuracy']\n",
        "\n",
        "loss = history_res152.history['loss']\n",
        "val_loss = history_res152.history['val_loss']\n",
        "\n",
        "epochs_range = range(len(acc))\n",
        "\n",
        "plt.plot(epochs_range, acc, label='Training Accuracy')\n",
        "plt.plot(epochs_range, val_acc, label='Validation Accuracy')\n",
        "plt.legend(loc='lower right')\n",
        "plt.title('Training and Validation Accuracy')\n",
        "plt.show()\n",
        "\n",
        "plt.plot(epochs_range, loss, label='Training Loss')\n",
        "plt.plot(epochs_range, val_loss, label='Validation Loss')\n",
        "plt.legend(loc='upper right')\n",
        "plt.title('Training and Validation Loss')\n",
        "plt.show()"
      ]
    },
    {
      "cell_type": "code",
      "execution_count": null,
      "metadata": {
        "id": "9Hmzvs-OckfZ"
      },
      "outputs": [],
      "source": [
        "import numpy as np\n",
        "import os\n",
        "import pandas as pd\n",
        "import tensorflow as tf\n",
        "from keras.models import load_model\n",
        "from tensorflow.keras.preprocessing.image import ImageDataGenerator"
      ]
    },
    {
      "cell_type": "markdown",
      "source": [
        "The saved model is reloaded to make predictions on a testing image dataset uploaded on the drive"
      ],
      "metadata": {
        "id": "H7Vr8ukGpzaz"
      }
    },
    {
      "cell_type": "code",
      "execution_count": null,
      "metadata": {
        "id": "qYo4VGxnckfZ",
        "outputId": "54d8cb1a-28a2-4dcd-cfac-068408a08edd"
      },
      "outputs": [
        {
          "name": "stdout",
          "output_type": "stream",
          "text": [
            "Model: \"sequential_1\"\n",
            "_________________________________________________________________\n",
            " Layer (type)                Output Shape              Param #   \n",
            "=================================================================\n",
            " resnet152 (Functional)      (None, 4, 4, 2048)        58370944  \n",
            "                                                                 \n",
            " dropout_2 (Dropout)         (None, 4, 4, 2048)        0         \n",
            "                                                                 \n",
            " global_average_pooling2d_1   (None, 2048)             0         \n",
            " (GlobalAveragePooling2D)                                        \n",
            "                                                                 \n",
            " dense_2 (Dense)             (None, 512)               1049088   \n",
            "                                                                 \n",
            " dropout_3 (Dropout)         (None, 512)               0         \n",
            "                                                                 \n",
            " dense_3 (Dense)             (None, 12)                6156      \n",
            "                                                                 \n",
            "=================================================================\n",
            "Total params: 59,426,188\n",
            "Trainable params: 59,274,764\n",
            "Non-trainable params: 151,424\n",
            "_________________________________________________________________\n"
          ]
        }
      ],
      "source": [
        "#Choose either\n",
        "#model_res_pred = tf.keras.models.load_model('./saved_model_resnet_hyper.h5')\n",
        "model_res_pred = tf.keras.models.load_model('./checkpoint_resnet.h5')\n",
        "\n",
        "#Check the architecture\n",
        "model_res_pred.summary()\n"
      ]
    },
    {
      "cell_type": "code",
      "execution_count": null,
      "metadata": {
        "id": "AhgMGStNckfa"
      },
      "outputs": [],
      "source": [
        "dataset_path = Path('/content/drive/MyDrive/plant-pathology-2021-fgvc8')"
      ]
    },
    {
      "cell_type": "code",
      "execution_count": null,
      "metadata": {
        "id": "ckHMlYaPckfa"
      },
      "outputs": [],
      "source": [
        "test_folder_path = './test_images'\n",
        "\n",
        "if not os.path.exists(test_folder_path):\n",
        "    os.mkdir(test_folder_path) "
      ]
    },
    {
      "cell_type": "code",
      "execution_count": null,
      "metadata": {
        "id": "xRHfptbbckfa"
      },
      "outputs": [],
      "source": [
        "test_ds_path = '/content/drive/MyDrive/plant-pathology-2021-fgvc8/test_images'\n",
        "test_dir_path = '.\\\\test_images\\\\all_classes'\n",
        "\n",
        "if not os.path.exists(test_dir_path):\n",
        "    shutil.copytree(test_ds_path, test_dir_path)"
      ]
    },
    {
      "cell_type": "code",
      "execution_count": null,
      "metadata": {
        "id": "EkM5JQv4ckfa",
        "outputId": "6a7b774b-9e1f-4b87-ce40-6271fdd6f351"
      },
      "outputs": [
        {
          "name": "stdout",
          "output_type": "stream",
          "text": [
            "Number of pictures:  14\n",
            "Picture name:  ['85f8cb619c66b863.jpg', 'ad8770db05586b59.jpg', 'c7b03e718489f3ca.jpg', 'IMG_20211020_174743.jpg', 'IMG_20211020_174831.jpg', 'IMG_20211020_175040.jpg', 'IMG_20211020_175132.jpg', 'IMG_20211020_175253.jpg', 'IMG_20211020_175313.jpg', 'IMG_20211020_175324.jpg', 'IMG_20211020_175345.jpg', 'IMG_20211020_175417.jpg', 'IMG_20211020_175526.jpg', 'IMG_20211020_175840.jpg']\n"
          ]
        }
      ],
      "source": [
        "_, _, files = next(os.walk(test_dir_path))\n",
        "file_count = len(files)\n",
        "\n",
        "print(\"Number of pictures: \", file_count)\n",
        "print(\"Picture name: \", files)"
      ]
    },
    {
      "cell_type": "code",
      "execution_count": null,
      "metadata": {
        "id": "Ea99ZSyAckfb"
      },
      "outputs": [],
      "source": [
        "test_image_generator = ImageDataGenerator(rescale=1./255)"
      ]
    },
    {
      "cell_type": "code",
      "execution_count": null,
      "metadata": {
        "id": "Xnu9EBGuckfb"
      },
      "outputs": [],
      "source": [
        "test_folder_path = './test_images'"
      ]
    },
    {
      "cell_type": "code",
      "execution_count": null,
      "metadata": {
        "id": "lnJYAUsjckfb",
        "outputId": "aa0dab4e-a26b-427b-b39d-32f71cea4c8f"
      },
      "outputs": [
        {
          "name": "stdout",
          "output_type": "stream",
          "text": [
            "Found 14 images belonging to 1 classes.\n"
          ]
        }
      ],
      "source": [
        "test_generator = test_image_generator.flow_from_directory(\n",
        "                                        directory=test_folder_path,\n",
        "                                        target_size=(HEIGHT, WIDTH),\n",
        "                                        class_mode=None,\n",
        "                                        shuffle=False\n",
        "                                        )"
      ]
    },
    {
      "cell_type": "code",
      "execution_count": null,
      "metadata": {
        "id": "gPXS_5Thckfb",
        "outputId": "d7b6d80e-2f02-417b-f188-a74b3dcb94a5"
      },
      "outputs": [
        {
          "name": "stderr",
          "output_type": "stream",
          "text": [
            "<ipython-input-67-b52a3af38e71>:1: UserWarning: `Model.predict_generator` is deprecated and will be removed in a future version. Please use `Model.predict`, which supports generators.\n",
            "  pred_res = model_res_pred.predict_generator(test_generator, verbose=1)\n"
          ]
        },
        {
          "name": "stdout",
          "output_type": "stream",
          "text": [
            "1/1 [==============================] - 20s 20s/step\n",
            "[[0.18455915 0.04107961 0.03378271 0.06880707 0.03425325 0.03282925\n",
            "  0.37214684 0.05760835 0.04172226 0.05605648 0.04412859 0.0330264 ]\n",
            " [0.04489539 0.06887199 0.04362288 0.28395972 0.13534887 0.04485773\n",
            "  0.05522606 0.04849811 0.04434391 0.1409303  0.04477101 0.04467401]\n",
            " [0.149906   0.04235164 0.03465465 0.03893788 0.04876361 0.03333038\n",
            "  0.41479826 0.05747879 0.04938603 0.05388018 0.0434728  0.03303985]\n",
            " [0.0540322  0.03494828 0.04030363 0.07366399 0.0804842  0.03129891\n",
            "  0.48920327 0.0334812  0.0433219  0.04237065 0.04133916 0.03555269]\n",
            " [0.13856529 0.04375616 0.03584783 0.06750826 0.07591639 0.03033748\n",
            "  0.3992458  0.0495262  0.04216337 0.040592   0.04233342 0.03420775]\n",
            " [0.0580657  0.04510511 0.04022728 0.09865568 0.2599041  0.0385073\n",
            "  0.24568982 0.0458055  0.04367724 0.04292373 0.04175701 0.03968155]\n",
            " [0.14284302 0.04516892 0.03339134 0.04090478 0.0476673  0.03197798\n",
            "  0.43912455 0.05558787 0.0480799  0.04235324 0.04213382 0.03076723]\n",
            " [0.06978964 0.05866478 0.04731575 0.29052612 0.07836965 0.04374861\n",
            "  0.13328713 0.05345922 0.04518811 0.08414902 0.04874184 0.04676012]\n",
            " [0.1370975  0.04396187 0.03823507 0.04896942 0.05772297 0.03729848\n",
            "  0.35256526 0.0544959  0.04868306 0.09888955 0.04636558 0.0357153 ]\n",
            " [0.13720742 0.04899994 0.03533835 0.08696737 0.05687144 0.03423261\n",
            "  0.35965455 0.05256855 0.04089235 0.06872119 0.04488439 0.03366178]\n",
            " [0.14607815 0.03791178 0.03345862 0.04414379 0.04881092 0.03160318\n",
            "  0.42376107 0.04757646 0.04178419 0.07222599 0.04187153 0.03077425]\n",
            " [0.13693999 0.06730717 0.04120617 0.06457482 0.1177162  0.04015047\n",
            "  0.27339107 0.06363843 0.04821615 0.05593642 0.05033258 0.04059051]\n",
            " [0.1907069  0.05480916 0.07316839 0.04951184 0.05650537 0.05114465\n",
            "  0.05907991 0.04421745 0.04650954 0.1432992  0.15027799 0.08076961]\n",
            " [0.04083667 0.0734947  0.03468102 0.10995216 0.05475734 0.03595612\n",
            "  0.05741341 0.03699455 0.03512571 0.4402623  0.044806   0.03572002]]\n"
          ]
        }
      ],
      "source": [
        "pred_res_hyper = model_res_pred.predict_generator(test_generator, verbose=1)\n",
        "print(pred_res_hyper)"
      ]
    },
    {
      "cell_type": "code",
      "execution_count": null,
      "metadata": {
        "id": "DJInJIyYckfb",
        "outputId": "768c358a-1c5c-4b62-e3ac-b02c3b2da356"
      },
      "outputs": [
        {
          "name": "stdout",
          "output_type": "stream",
          "text": [
            "Predicted class indices: [6 3 6 6 6 4 6 3 6 6 6 6 0 9]\n",
            "Predicted class: ['scab frog_eye_leaf_spot', 'rust', 'scab frog_eye_leaf_spot', 'scab frog_eye_leaf_spot', 'scab frog_eye_leaf_spot', 'complex', 'scab frog_eye_leaf_spot', 'rust', 'scab frog_eye_leaf_spot', 'scab frog_eye_leaf_spot', 'scab frog_eye_leaf_spot', 'scab frog_eye_leaf_spot', 'scab', 'rust frog_eye_leaf_spot']\n"
          ]
        }
      ],
      "source": [
        "# making predictions on the testing image data\n",
        "predicted_class_indices = np.argmax(pred_res_hyper, axis=1)\n",
        "print(\"Predicted class indices:\", predicted_class_indices)\n",
        "\n",
        "labels_dict = ({'scab' : 0, 'healthy' : 1, 'frog_eye_leaf_spot' : 2, 'rust' : 3, 'complex' : 4, 'powdery_mildew' : 5, 'scab frog_eye_leaf_spot' : 6, 'scab frog_eye_leaf_spot complex' : 7, 'frog_eye_leaf_spot complex' : 8,'rust frog_eye_leaf_spot' : 9,'rust complex' : 10,'powdery_mildew complex' : 11})\n",
        "\n",
        "labels = dict((v,k) for k,v in labels_dict.items())\n",
        "predictions = [labels[k] for k in predicted_class_indices]\n",
        "print(\"Predicted class:\", predictions)"
      ]
    },
    {
      "cell_type": "code",
      "execution_count": null,
      "metadata": {
        "id": "8txSjxf8cw0c",
        "outputId": "81ed02cb-59c9-4d6d-9647-07e394f766dd"
      },
      "outputs": [
        {
          "name": "stderr",
          "output_type": "stream",
          "text": [
            "<ipython-input-69-011369040c7d>:3: UserWarning: `Model.predict_generator` is deprecated and will be removed in a future version. Please use `Model.predict`, which supports generators.\n",
            "  Y_pred = model_res_pred.predict_generator(valid_datagen, valid_datagen.samples // valid_datagen.batch_size + 5)\n"
          ]
        },
        {
          "name": "stdout",
          "output_type": "stream",
          "text": [
            "WARNING:tensorflow:Your input ran out of data; interrupting training. Make sure that your dataset or generator can generate at least `steps_per_epoch * epochs` batches (in this case, 121 batches). You may need to use the repeat() function when building your dataset.\n",
            "Confusion Matrix\n",
            "[[ 24  54   0  76  33   0  32   0   0  85   3   0]\n",
            " [ 53  89   0 131  53   0  69   0   0 150   9   0]\n",
            " [  0   2   0   2   1   0   5   0   0   8   0   0]\n",
            " [ 86 115   0 188  71   0  99   0   0 248   7   0]\n",
            " [ 25  48   0  78  36   0  38   0   0 106   6   0]\n",
            " [  0   3   0   4   2   0   2   0   0   9   0   0]\n",
            " [ 44  68   0  89  46   0  44   0   0 102   6   0]\n",
            " [  3   0   0   4   1   0   0   0   0   4   0   0]\n",
            " [  0   3   0   8   2   0   4   0   0   7   0   0]\n",
            " [109 193   0 230 105   0 135   0   0 322  14   0]\n",
            " [  5  16   0  34  12   0  13   0   0  23   2   0]\n",
            " [  2   6   0   7   4   0   1   0   0   7   1   0]]\n"
          ]
        }
      ],
      "source": [
        "from sklearn.metrics import classification_report, confusion_matrix\n",
        "\n",
        "Y_pred = model_res_pred.predict_generator(valid_datagen, valid_datagen.samples // valid_datagen.batch_size + 5)\n",
        "y_pred = np.argmax(Y_pred, axis=1)\n",
        "print('Confusion Matrix')\n",
        "print(confusion_matrix(valid_datagen.classes, y_pred))"
      ]
    },
    {
      "cell_type": "code",
      "execution_count": null,
      "metadata": {
        "id": "PPdWlHdjdA6R",
        "outputId": "3a179ac2-9bbe-4671-9255-782c7512ee7c"
      },
      "outputs": [
        {
          "name": "stdout",
          "output_type": "stream",
          "text": [
            "                                 precision    recall  f1-score   support\n",
            "\n",
            "                        complex       0.07      0.08      0.07       307\n",
            "             frog_eye_leaf_spot       0.15      0.16      0.15       554\n",
            "     frog_eye_leaf_spot complex       0.00      0.00      0.00        18\n",
            "                        healthy       0.22      0.23      0.23       814\n",
            "                 powdery_mildew       0.10      0.11      0.10       337\n",
            "         powdery_mildew complex       0.00      0.00      0.00        20\n",
            "                           rust       0.10      0.11      0.10       399\n",
            "                   rust complex       0.00      0.00      0.00        12\n",
            "        rust frog_eye_leaf_spot       0.00      0.00      0.00        24\n",
            "                           scab       0.30      0.29      0.30      1108\n",
            "        scab frog_eye_leaf_spot       0.04      0.02      0.03       105\n",
            "scab frog_eye_leaf_spot complex       0.00      0.00      0.00        28\n",
            "\n",
            "                       accuracy                           0.19      3726\n",
            "                      macro avg       0.08      0.08      0.08      3726\n",
            "                   weighted avg       0.19      0.19      0.19      3726\n",
            "\n"
          ]
        },
        {
          "name": "stderr",
          "output_type": "stream",
          "text": [
            "C:\\Python\\Python38\\lib\\site-packages\\sklearn\\metrics\\_classification.py:1245: UndefinedMetricWarning: Precision and F-score are ill-defined and being set to 0.0 in labels with no predicted samples. Use `zero_division` parameter to control this behavior.\n",
            "  _warn_prf(average, modifier, msg_start, len(result))\n",
            "C:\\Python\\Python38\\lib\\site-packages\\sklearn\\metrics\\_classification.py:1245: UndefinedMetricWarning: Precision and F-score are ill-defined and being set to 0.0 in labels with no predicted samples. Use `zero_division` parameter to control this behavior.\n",
            "  _warn_prf(average, modifier, msg_start, len(result))\n",
            "C:\\Python\\Python38\\lib\\site-packages\\sklearn\\metrics\\_classification.py:1245: UndefinedMetricWarning: Precision and F-score are ill-defined and being set to 0.0 in labels with no predicted samples. Use `zero_division` parameter to control this behavior.\n",
            "  _warn_prf(average, modifier, msg_start, len(result))\n"
          ]
        }
      ],
      "source": [
        "#displaying the classification report including values for Precision, Recall, F1-score and Support for each disease class\n",
        "target_names = list(train_datagen.class_indices.keys()) # Classes\n",
        "print(classification_report(valid_datagen.classes, y_pred, target_names=target_names))"
      ]
    },
    {
      "cell_type": "code",
      "execution_count": null,
      "metadata": {
        "id": "J5bTL6PEdCWd",
        "outputId": "fe39d360-a2d6-4e0e-e743-bb156f9705af"
      },
      "outputs": [
        {
          "data": {
            "image/png": "[encoded data removed]",
            "text/plain": [
              "<Figure size 576x432 with 2 Axes>"
            ]
          },
          "metadata": {
            "needs_background": "light"
          },
          "output_type": "display_data"
        }
      ],
      "source": [
        "#displaying the confusion matrix\n",
        "import seaborn as sns\n",
        "\n",
        "cm = confusion_matrix(valid_datagen.classes, y_pred)\n",
        "labels = ['scab', 'healthy', 'frog_eye_leaf_spot', 'rust','complex', 'powdery_mildew','scab frog_eye_leaf_spot','scab frog_eye_leaf_spot complex','frog_eye_leaf_spot complex','rust frog_eye_leaf_spot','rust complex','powdery_mildew complex']\n",
        "plt.figure(figsize=(8,6))\n",
        "sns.heatmap(cm,xticklabels=labels, yticklabels=labels, annot=True, fmt='d', cmap=\"Blues\", vmin = 0.2);\n",
        "plt.title('Confusion Matrix')\n",
        "plt.ylabel('True Class')\n",
        "plt.xlabel('Predicted Class')\n",
        "plt.show()"
      ]
    }
  ],
  "metadata": {
    "accelerator": "GPU",
    "colab": {
      "collapsed_sections": [],
      "name": "ResNet152__Hyperparameter.ipynb",
      "provenance": []
    },
    "kernelspec": {
      "display_name": "Python 3",
      "language": "python",
      "name": "python3"
    },
    "language_info": {
      "codemirror_mode": {
        "name": "ipython",
        "version": 3
      },
      "file_extension": ".py",
      "mimetype": "text/x-python",
      "name": "python",
      "nbconvert_exporter": "python",
      "pygments_lexer": "ipython3",
      "version": "3.8.7"
    }
  },
  "nbformat": 4,
  "nbformat_minor": 0
}