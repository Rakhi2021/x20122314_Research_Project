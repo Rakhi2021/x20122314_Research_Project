{
  "cells": [
    {
      "cell_type": "code",
      "execution_count": null,
      "metadata": {
        "execution": {
          "iopub.execute_input": "2021-12-05T15:25:33.570549Z",
          "iopub.status.busy": "2021-12-05T15:25:33.570003Z",
          "iopub.status.idle": "2021-12-05T15:25:33.577708Z",
          "shell.execute_reply": "2021-12-05T15:25:33.577005Z",
          "shell.execute_reply.started": "2021-12-05T15:25:33.570511Z"
        },
        "id": "w7WR_M50ckfP",
        "trusted": true
      },
      "outputs": [],
      "source": [
        "#IMPORT REQUIRED LIBRARIES:\n",
        "\n",
        "import numpy as np\n",
        "import pandas as pd\n",
        "import os\n",
        "from re import search\n",
        "import shutil\n",
        "from PIL import Image\n",
        "import matplotlib.pyplot as plt\n",
        "from tqdm import tqdm\n",
        "import tensorflow as tf\n",
        "from tensorflow.keras.models import Sequential\n",
        "from tensorflow.keras.callbacks import ModelCheckpoint,EarlyStopping\n",
        "from tensorflow.keras.preprocessing.image import ImageDataGenerator\n",
        "from tensorflow.keras.layers import Dense,Activation,Flatten, Conv2D, MaxPooling2D"
      ]
    },
    {
      "cell_type": "markdown",
      "source": [
        "Connecting to Google drive to access the uploaded dataset"
      ],
      "metadata": {
        "id": "kj3K_qBbrJEF"
      }
    },
    {
      "cell_type": "code",
      "source": [
        "from google.colab import drive\n",
        "drive.mount('/content/drive')"
      ],
      "metadata": {
        "id": "6hVfUbI9rG-q"
      },
      "execution_count": null,
      "outputs": []
    },
    {
      "cell_type": "markdown",
      "source": [
        "Once the drive is mounted, change the corresponding file path in TRAIN_PATH, train_df and dataset_path to access image files from the uploaded dataset Plant-pathology-2021-fgvc8"
      ],
      "metadata": {
        "id": "younRlkSrMP4"
      }
    },
    {
      "cell_type": "code",
      "execution_count": null,
      "metadata": {
        "execution": {
          "iopub.execute_input": "2021-12-05T15:25:33.580058Z",
          "iopub.status.busy": "2021-12-05T15:25:33.579517Z",
          "iopub.status.idle": "2021-12-05T15:25:33.603725Z",
          "shell.execute_reply": "2021-12-05T15:25:33.603110Z",
          "shell.execute_reply.started": "2021-12-05T15:25:33.580015Z"
        },
        "id": "F55YWfvzckfR",
        "trusted": true
      },
      "outputs": [],
      "source": [
        "#IMAGE PATH & DATAFRAME:\n",
        "\n",
        "TRAIN_PATH = \"/content/drive/MyDrive/plant-pathology-2021-fgvc8/train_images\"\n",
        "train_df = pd.read_csv(\"/content/drive/MyDrive/plant-pathology-2021-fgvc8/train.csv\")"
      ]
    },
    {
      "cell_type": "code",
      "execution_count": null,
      "metadata": {
        "execution": {
          "iopub.execute_input": "2021-12-05T15:25:33.605340Z",
          "iopub.status.busy": "2021-12-05T15:25:33.604855Z",
          "iopub.status.idle": "2021-12-05T15:25:33.609442Z",
          "shell.execute_reply": "2021-12-05T15:25:33.608584Z",
          "shell.execute_reply.started": "2021-12-05T15:25:33.605304Z"
        },
        "id": "11RxB_vNckfS",
        "trusted": true
      },
      "outputs": [],
      "source": [
        "from pathlib import Path\n",
        "dataset_path = Path('/content/drive/MyDrive/plant-pathology-2021-fgvc8')"
      ]
    },
    {
      "cell_type": "markdown",
      "source": [
        "Reading the train.csv file into a Dataframe and display top 5 rows of the file"
      ],
      "metadata": {
        "id": "fc0iyWNNrcwX"
      }
    },
    {
      "cell_type": "code",
      "execution_count": null,
      "metadata": {
        "execution": {
          "iopub.execute_input": "2021-12-05T15:25:33.651433Z",
          "iopub.status.busy": "2021-12-05T15:25:33.650981Z",
          "iopub.status.idle": "2021-12-05T15:25:33.675494Z",
          "shell.execute_reply": "2021-12-05T15:25:33.674840Z",
          "shell.execute_reply.started": "2021-12-05T15:25:33.651404Z"
        },
        "id": "TJCQv-5XckfS",
        "outputId": "950c1507-7b4e-47a5-d604-4545695d4b30",
        "trusted": true
      },
      "outputs": [
        {
          "data": {
            "text/html": [
              "<div>\n",
              "<style scoped>\n",
              "    .dataframe tbody tr th:only-of-type {\n",
              "        vertical-align: middle;\n",
              "    }\n",
              "\n",
              "    .dataframe tbody tr th {\n",
              "        vertical-align: top;\n",
              "    }\n",
              "\n",
              "    .dataframe thead th {\n",
              "        text-align: right;\n",
              "    }\n",
              "</style>\n",
              "<table border=\"1\" class=\"dataframe\">\n",
              "  <thead>\n",
              "    <tr style=\"text-align: right;\">\n",
              "      <th></th>\n",
              "      <th>image</th>\n",
              "      <th>labels</th>\n",
              "    </tr>\n",
              "  </thead>\n",
              "  <tbody>\n",
              "    <tr>\n",
              "      <th>0</th>\n",
              "      <td>800113bb65efe69e.jpg</td>\n",
              "      <td>healthy</td>\n",
              "    </tr>\n",
              "    <tr>\n",
              "      <th>1</th>\n",
              "      <td>8002cb321f8bfcdf.jpg</td>\n",
              "      <td>scab frog_eye_leaf_spot complex</td>\n",
              "    </tr>\n",
              "    <tr>\n",
              "      <th>2</th>\n",
              "      <td>80070f7fb5e2ccaa.jpg</td>\n",
              "      <td>scab</td>\n",
              "    </tr>\n",
              "    <tr>\n",
              "      <th>3</th>\n",
              "      <td>80077517781fb94f.jpg</td>\n",
              "      <td>scab</td>\n",
              "    </tr>\n",
              "    <tr>\n",
              "      <th>4</th>\n",
              "      <td>800cbf0ff87721f8.jpg</td>\n",
              "      <td>complex</td>\n",
              "    </tr>\n",
              "  </tbody>\n",
              "</table>\n",
              "</div>"
            ],
            "text/plain": [
              "                  image                           labels\n",
              "0  800113bb65efe69e.jpg                          healthy\n",
              "1  8002cb321f8bfcdf.jpg  scab frog_eye_leaf_spot complex\n",
              "2  80070f7fb5e2ccaa.jpg                             scab\n",
              "3  80077517781fb94f.jpg                             scab\n",
              "4  800cbf0ff87721f8.jpg                          complex"
            ]
          },
          "execution_count": 28,
          "metadata": {},
          "output_type": "execute_result"
        }
      ],
      "source": [
        "train_df = pd.read_csv(dataset_path/'train.csv')\n",
        "train_df.head()"
      ]
    },
    {
      "cell_type": "markdown",
      "source": [
        "ImageDataGenerator is used to resize the images and perform data augmentation techniques like Rotation, Horizontal Flipping, Zooming, Shearing and Shifting on 32 train images to create a new dataset. The train images are split into training and validation set in 80:20 ratio."
      ],
      "metadata": {
        "id": "VnXQ8H7gre4n"
      }
    },
    {
      "cell_type": "code",
      "execution_count": null,
      "metadata": {
        "execution": {
          "iopub.execute_input": "2021-12-05T15:25:33.677638Z",
          "iopub.status.busy": "2021-12-05T15:25:33.676956Z",
          "iopub.status.idle": "2021-12-05T15:25:33.774748Z",
          "shell.execute_reply": "2021-12-05T15:25:33.774051Z",
          "shell.execute_reply.started": "2021-12-05T15:25:33.677599Z"
        },
        "id": "r-EmVuddckfT",
        "outputId": "94c4fb7e-a582-4b2e-ab65-b435fdc17566",
        "trusted": true
      },
      "outputs": [
        {
          "name": "stdout",
          "output_type": "stream",
          "text": [
            "Found 14906 non-validated image filenames belonging to 12 classes.\n",
            "Found 3726 non-validated image filenames belonging to 12 classes.\n"
          ]
        }
      ],
      "source": [
        "# Use the Image Data Generator to import the images from the dataset\n",
        "from tensorflow.keras.preprocessing.image import ImageDataGenerator\n",
        "\n",
        "train_image_generator = ImageDataGenerator(rescale = 1/255.,\n",
        "    rotation_range=20,\n",
        "    width_shift_range=0.2,\n",
        "    height_shift_range=0.2,\n",
        "    horizontal_flip=True,\n",
        "    validation_split = 0.2,\n",
        "    zoom_range = 0.2,\n",
        "    shear_range = 0.2,\n",
        "    vertical_flip = False)\n",
        "\n",
        "\n",
        "HEIGHT = 512\n",
        "WIDTH = 512\n",
        "SEED = 143\n",
        "BATCH_SIZE=32\n",
        "train_datagen = train_image_generator.flow_from_dataframe(\n",
        "    train_df,\n",
        "    directory = TRAIN_PATH,\n",
        "    x_col = \"image\",\n",
        "    y_col = \"labels\",\n",
        "    target_size = (HEIGHT,WIDTH),\n",
        "    class_mode='categorical',\n",
        "    batch_size = BATCH_SIZE,\n",
        "    subset = \"training\",\n",
        "    shuffle = True,\n",
        "    seed = SEED,\n",
        "    validate_filenames = False\n",
        ")\n",
        "\n",
        "\n",
        "valid_datagen = train_image_generator.flow_from_dataframe(\n",
        "    train_df,\n",
        "    directory = TRAIN_PATH,\n",
        "    x_col = \"image\",\n",
        "    y_col = \"labels\",\n",
        "    target_size = (HEIGHT,WIDTH),\n",
        "    class_mode='categorical',\n",
        "    batch_size = BATCH_SIZE,\n",
        "    subset = \"validation\",\n",
        "    shuffle = True,\n",
        "    seed = SEED,\n",
        "    validate_filenames = False\n",
        ")"
      ]
    },
    {
      "cell_type": "code",
      "execution_count": null,
      "metadata": {
        "execution": {
          "iopub.execute_input": "2021-12-05T15:25:42.709268Z",
          "iopub.status.busy": "2021-12-05T15:25:42.709012Z",
          "iopub.status.idle": "2021-12-05T15:25:42.717876Z",
          "shell.execute_reply": "2021-12-05T15:25:42.716932Z",
          "shell.execute_reply.started": "2021-12-05T15:25:42.709232Z"
        },
        "id": "nNclvMsSckfU",
        "trusted": true
      },
      "outputs": [],
      "source": [
        "import tensorflow as tf\n",
        "from tensorflow.keras.applications import ResNet152\n",
        "from tensorflow.keras import models, layers\n",
        "from keras.models import Sequential\n",
        "from keras.layers import Dense, Dropout, Flatten\n",
        "from keras.callbacks import ModelCheckpoint, EarlyStopping, ReduceLROnPlateau\n",
        "from tensorflow.keras.optimizers import Adam\n",
        "from keras.losses import CategoricalCrossentropy"
      ]
    },
    {
      "cell_type": "code",
      "execution_count": null,
      "metadata": {
        "execution": {
          "iopub.execute_input": "2021-12-05T15:25:42.719753Z",
          "iopub.status.busy": "2021-12-05T15:25:42.719457Z",
          "iopub.status.idle": "2021-12-05T15:25:42.726370Z",
          "shell.execute_reply": "2021-12-05T15:25:42.725554Z",
          "shell.execute_reply.started": "2021-12-05T15:25:42.719716Z"
        },
        "trusted": true,
        "id": "S5alTYEPKsOg"
      },
      "outputs": [],
      "source": [
        "model_checkpoint_resnet = ModelCheckpoint(\n",
        "                            \"./checkpoint_resnet.h5\",\n",
        "                            monitor = \"val_loss\",\n",
        "                            verbose = 1,\n",
        "                            save_best_only = True,\n",
        "                            save_weights_only = False,\n",
        "                            mode = \"min\")"
      ]
    },
    {
      "cell_type": "markdown",
      "source": [
        "Early stopping and Reduce Learning Rate on Plateau callbacks are used to stop the model training if the validation loss and the learning rate stops improving."
      ],
      "metadata": {
        "id": "V8nq7xGRsCvo"
      }
    },
    {
      "cell_type": "code",
      "execution_count": null,
      "metadata": {
        "execution": {
          "iopub.execute_input": "2021-12-05T15:25:42.728622Z",
          "iopub.status.busy": "2021-12-05T15:25:42.727868Z",
          "iopub.status.idle": "2021-12-05T15:25:42.734771Z",
          "shell.execute_reply": "2021-12-05T15:25:42.734094Z",
          "shell.execute_reply.started": "2021-12-05T15:25:42.728571Z"
        },
        "trusted": true,
        "id": "AKiGTZHZKsOg"
      },
      "outputs": [],
      "source": [
        "early_stop = EarlyStopping(\n",
        "                            monitor = \"val_loss\",\n",
        "                            min_delta=0.001,\n",
        "                            patience=7,\n",
        "                            verbose=1,\n",
        "                            mode=\"min\",\n",
        "                            restore_best_weights=False)"
      ]
    },
    {
      "cell_type": "code",
      "execution_count": null,
      "metadata": {
        "execution": {
          "iopub.execute_input": "2021-12-05T15:25:42.736368Z",
          "iopub.status.busy": "2021-12-05T15:25:42.735700Z",
          "iopub.status.idle": "2021-12-05T15:25:42.745563Z",
          "shell.execute_reply": "2021-12-05T15:25:42.744744Z",
          "shell.execute_reply.started": "2021-12-05T15:25:42.736277Z"
        },
        "trusted": true,
        "id": "cCNTR_HwKsOg"
      },
      "outputs": [],
      "source": [
        "reduce_lr = ReduceLROnPlateau(\n",
        "                            monitor=\"val_loss\",\n",
        "                            factor=0.1,\n",
        "                            patience=2,\n",
        "                            verbose=1,\n",
        "                            mode=\"min\",\n",
        "                            min_delta=0.0001)"
      ]
    },
    {
      "cell_type": "markdown",
      "source": [
        "Defining the Sequential class for ResNet152 model and assigning weights as ImageNet."
      ],
      "metadata": {
        "id": "hWFq7OZ2ruAH"
      }
    },
    {
      "cell_type": "code",
      "execution_count": null,
      "metadata": {
        "execution": {
          "iopub.execute_input": "2021-12-05T15:25:42.747691Z",
          "iopub.status.busy": "2021-12-05T15:25:42.747339Z",
          "iopub.status.idle": "2021-12-05T15:25:42.758254Z",
          "shell.execute_reply": "2021-12-05T15:25:42.757470Z",
          "shell.execute_reply.started": "2021-12-05T15:25:42.747652Z"
        },
        "id": "gGm9xEaLckfU",
        "trusted": true
      },
      "outputs": [],
      "source": [
        "\n",
        "def modelResNet152():\n",
        "    \n",
        "    model = models.Sequential()\n",
        "    model.add(ResNet152(include_top = False, \n",
        "                      weights='imagenet',\n",
        "                      #weights = \"../input/resnet152traind/resnet152_weights_tf_dim_ordering_tf_kernels_notop.h5\",\n",
        "                      input_shape=(IMG_HEIGHT,IMG_WIDTH, 3)))\n",
        "    \n",
        "    model.add(Dropout(0.5))\n",
        "    model.add(layers.GlobalAveragePooling2D())\n",
        "    \n",
        "    #additional\n",
        "    model.add(layers.Dense(1024, activation = 'relu'))\n",
        "    model.add(Dropout(0.25))\n",
        "    \n",
        "    model.add(layers.Dense(12, activation = \"softmax\"))\n",
        "    \n",
        "    return model "
      ]
    },
    {
      "cell_type": "code",
      "execution_count": null,
      "metadata": {
        "id": "O8gcJrzqKsOh"
      },
      "outputs": [],
      "source": [
        "IMG_HEIGHT = 512\n",
        "IMG_WIDTH = 512"
      ]
    },
    {
      "cell_type": "code",
      "execution_count": null,
      "metadata": {
        "execution": {
          "iopub.execute_input": "2021-12-05T15:28:29.287332Z",
          "iopub.status.busy": "2021-12-05T15:28:29.287070Z",
          "iopub.status.idle": "2021-12-05T15:28:44.222171Z",
          "shell.execute_reply": "2021-12-05T15:28:44.221450Z",
          "shell.execute_reply.started": "2021-12-05T15:28:29.287295Z"
        },
        "trusted": true,
        "id": "mYfs3bqjKsOh"
      },
      "outputs": [],
      "source": [
        "model_res152 = modelResNet152()"
      ]
    },
    {
      "cell_type": "markdown",
      "source": [
        "Displaying the summary of the model"
      ],
      "metadata": {
        "id": "x4tCjScIr85J"
      }
    },
    {
      "cell_type": "code",
      "execution_count": null,
      "metadata": {
        "execution": {
          "iopub.execute_input": "2021-12-05T15:28:44.225381Z",
          "iopub.status.busy": "2021-12-05T15:28:44.223605Z",
          "iopub.status.idle": "2021-12-05T15:28:44.271220Z",
          "shell.execute_reply": "2021-12-05T15:28:44.270479Z",
          "shell.execute_reply.started": "2021-12-05T15:28:44.225336Z"
        },
        "trusted": true,
        "id": "KiPhw3LdKsOi",
        "outputId": "a014d794-04dd-42dd-d04f-d5b940d66474"
      },
      "outputs": [
        {
          "name": "stdout",
          "output_type": "stream",
          "text": [
            "Model: \"sequential_1\"\n",
            "_________________________________________________________________\n",
            " Layer (type)                Output Shape              Param #   \n",
            "=================================================================\n",
            " resnet152 (Functional)      (None, 16, 16, 2048)      58370944  \n",
            "                                                                 \n",
            " dropout_2 (Dropout)         (None, 16, 16, 2048)      0         \n",
            "                                                                 \n",
            " global_average_pooling2d_1   (None, 2048)             0         \n",
            " (GlobalAveragePooling2D)                                        \n",
            "                                                                 \n",
            " dense_2 (Dense)             (None, 1024)              2098176   \n",
            "                                                                 \n",
            " dropout_3 (Dropout)         (None, 1024)              0         \n",
            "                                                                 \n",
            " dense_3 (Dense)             (None, 12)                12300     \n",
            "                                                                 \n",
            "=================================================================\n",
            "Total params: 60,481,420\n",
            "Trainable params: 60,329,996\n",
            "Non-trainable params: 151,424\n",
            "_________________________________________________________________\n"
          ]
        }
      ],
      "source": [
        "model_res152.summary()"
      ]
    },
    {
      "cell_type": "markdown",
      "source": [
        "The model is compiled using Adam Optimizer with a learning rate of 0.001 to improve the accuracy of the model and loss is calculated through Categorical Cross Entropy."
      ],
      "metadata": {
        "id": "EMyIcdnnsMlG"
      }
    },
    {
      "cell_type": "code",
      "source": [
        "model_res152.compile(\n",
        "            optimizer=Adam(learning_rate=0.001),\n",
        "            loss = CategoricalCrossentropy(label_smoothing=0.3,reduction=\"auto\",name=\"categorical_crossentropy\"),\n",
        "            metrics = [\"accuracy\"])"
      ],
      "metadata": {
        "id": "G2FTlAMqLp3v"
      },
      "execution_count": null,
      "outputs": []
    },
    {
      "cell_type": "code",
      "execution_count": null,
      "metadata": {
        "execution": {
          "iopub.execute_input": "2021-12-05T15:29:17.141146Z",
          "iopub.status.busy": "2021-12-05T15:29:17.140613Z",
          "iopub.status.idle": "2021-12-05T15:29:17.144693Z",
          "shell.execute_reply": "2021-12-05T15:29:17.143784Z",
          "shell.execute_reply.started": "2021-12-05T15:29:17.141106Z"
        },
        "id": "eyvMjugpckfY",
        "trusted": true
      },
      "outputs": [],
      "source": [
        "epochs = 8"
      ]
    },
    {
      "cell_type": "markdown",
      "source": [
        "The model is trained with a batch size of 32 and number of epochs equal to 8 and the corresponding accuracy and loss are displayed for each epoch."
      ],
      "metadata": {
        "id": "NIibAoAssH_P"
      }
    },
    {
      "cell_type": "code",
      "execution_count": null,
      "metadata": {
        "execution": {
          "iopub.execute_input": "2021-12-05T15:29:19.719795Z",
          "iopub.status.busy": "2021-12-05T15:29:19.719541Z",
          "iopub.status.idle": "2021-12-05T18:47:58.693182Z",
          "shell.execute_reply": "2021-12-05T18:47:58.692403Z",
          "shell.execute_reply.started": "2021-12-05T15:29:19.719765Z"
        },
        "trusted": true,
        "id": "DmVVu2LTKsOi",
        "outputId": "d76ec9a5-29cd-4ed1-ef37-91d8aef4510a"
      },
      "outputs": [
        {
          "name": "stderr",
          "output_type": "stream",
          "text": [
            "<ipython-input-17-822aa4a07f4d>:1: UserWarning: `Model.fit_generator` is deprecated and will be removed in a future version. Please use `Model.fit`, which supports generators.\n",
            "  history_res152 = best_model.fit_generator(\n"
          ]
        },
        {
          "name": "stdout",
          "output_type": "stream",
          "text": [
            "Epoch 1/8\n",
            "466/466 [==============================] - ETA: 0s - loss: 1.9678 - accuracy: 0.5408 \n",
            "Epoch 00001: val_loss improved from inf to 3.53943, saving model to .\\checkpoint_resnet.h5\n"
          ]
        },
        {
          "name": "stderr",
          "output_type": "stream",
          "text": [
            "C:\\Python\\Python38\\lib\\site-packages\\keras\\engine\\functional.py:1410: CustomMaskWarning: Custom mask layers require a config and must override get_config. When loading, the custom mask layer must be passed to the custom_objects argument.\n",
            "  layer_config = serialize_layer_fn(layer)\n"
          ]
        },
        {
          "name": "stdout",
          "output_type": "stream",
          "text": [
            "466/466 [==============================] - 6030s 13s/step - loss: 1.9678 - accuracy: 0.5408 - val_loss: 3.5394 - val_accuracy: 0.2185 - lr: 0.0010\n",
            "Epoch 2/8\n",
            "466/466 [==============================] - ETA: 0s - loss: 1.7420 - accuracy: 0.7127 \n",
            "Epoch 00002: val_loss improved from 3.53943 to 2.59440, saving model to .\\checkpoint_resnet.h5\n",
            "466/466 [==============================] - 5754s 12s/step - loss: 1.7420 - accuracy: 0.7127 - val_loss: 2.5944 - val_accuracy: 0.3258 - lr: 0.0010\n",
            "Epoch 3/8\n",
            "466/466 [==============================] - ETA: 0s - loss: 1.6777 - accuracy: 0.7478 \n",
            "Epoch 00003: val_loss improved from 2.59440 to 1.82407, saving model to .\\checkpoint_resnet.h5\n",
            "466/466 [==============================] - 5874s 13s/step - loss: 1.6777 - accuracy: 0.7478 - val_loss: 1.8241 - val_accuracy: 0.6522 - lr: 0.0010\n",
            "Epoch 4/8\n",
            "466/466 [==============================] - ETA: 0s - loss: 1.6496 - accuracy: 0.7671 \n",
            "Epoch 00004: val_loss improved from 1.82407 to 1.74442, saving model to .\\checkpoint_resnet.h5\n",
            "466/466 [==============================] - 6416s 14s/step - loss: 1.6496 - accuracy: 0.7671 - val_loss: 1.7444 - val_accuracy: 0.6957 - lr: 0.0010\n",
            "Epoch 5/8\n",
            "466/466 [==============================] - ETA: 0s - loss: 1.6577 - accuracy: 0.7595 \n",
            "Epoch 00005: val_loss did not improve from 1.74442\n",
            "466/466 [==============================] - 6325s 14s/step - loss: 1.6577 - accuracy: 0.7595 - val_loss: 4.2598 - val_accuracy: 0.5180 - lr: 0.0010\n",
            "Epoch 6/8\n",
            "466/466 [==============================] - ETA: 0s - loss: 1.7411 - accuracy: 0.6960 \n",
            "Epoch 00006: val_loss did not improve from 1.74442\n",
            "\n",
            "Epoch 00006: ReduceLROnPlateau reducing learning rate to 0.00010000000474974513.\n",
            "466/466 [==============================] - 6231s 13s/step - loss: 1.7411 - accuracy: 0.6960 - val_loss: 12.8971 - val_accuracy: 0.4211 - lr: 0.0010\n",
            "Epoch 7/8\n",
            "466/466 [==============================] - ETA: 0s - loss: 1.6850 - accuracy: 0.7385 \n",
            "Epoch 00007: val_loss improved from 1.74442 to 1.67436, saving model to .\\checkpoint_resnet.h5\n",
            "466/466 [==============================] - 6100s 13s/step - loss: 1.6850 - accuracy: 0.7385 - val_loss: 1.6744 - val_accuracy: 0.7466 - lr: 1.0000e-04\n",
            "Epoch 8/8\n",
            "466/466 [==============================] - ETA: 0s - loss: 1.6394 - accuracy: 0.7650 \n",
            "Epoch 00008: val_loss improved from 1.67436 to 1.64912, saving model to .\\checkpoint_resnet.h5\n",
            "466/466 [==============================] - 6035s 13s/step - loss: 1.6394 - accuracy: 0.7650 - val_loss: 1.6491 - val_accuracy: 0.7823 - lr: 1.0000e-04\n"
          ]
        }
      ],
      "source": [
        "history_res152 = model_res152.fit_generator(\n",
        "                    train_datagen,                       \n",
        "                    steps_per_epoch=None,\n",
        "                    epochs=epochs,\n",
        "                    validation_data=valid_datagen,\n",
        "                    validation_steps=None,\n",
        "                    callbacks = [model_checkpoint_resnet,early_stop,reduce_lr]\n",
        ")"
      ]
    },
    {
      "cell_type": "code",
      "execution_count": null,
      "metadata": {
        "execution": {
          "iopub.execute_input": "2021-12-05T18:48:40.505248Z",
          "iopub.status.busy": "2021-12-05T18:48:40.504509Z",
          "iopub.status.idle": "2021-12-05T18:48:43.469943Z",
          "shell.execute_reply": "2021-12-05T18:48:43.469197Z",
          "shell.execute_reply.started": "2021-12-05T18:48:40.505211Z"
        },
        "id": "DwwndszbckfZ",
        "trusted": true
      },
      "outputs": [],
      "source": [
        "#saving the model\n",
        "model_res152.save('saved_model_resnet.h5')"
      ]
    },
    {
      "cell_type": "markdown",
      "source": [
        "Plotting the Accuracy and Loss graphs using Matplotlib library"
      ],
      "metadata": {
        "id": "Ta2IryyUsTWk"
      }
    },
    {
      "cell_type": "code",
      "execution_count": null,
      "metadata": {
        "execution": {
          "iopub.execute_input": "2021-12-05T18:48:51.946570Z",
          "iopub.status.busy": "2021-12-05T18:48:51.945951Z",
          "iopub.status.idle": "2021-12-05T18:48:52.570678Z",
          "shell.execute_reply": "2021-12-05T18:48:52.569931Z",
          "shell.execute_reply.started": "2021-12-05T18:48:51.946527Z"
        },
        "id": "GFhp61UFckfZ",
        "trusted": true,
        "outputId": "5d93b642-99a9-4956-ccd6-2941a096a5a4"
      },
      "outputs": [
        {
          "data": {
            "image/png": "[encoded data removed]",
            "text/plain": [
              "<Figure size 432x288 with 1 Axes>"
            ]
          },
          "metadata": {
            "needs_background": "light"
          },
          "output_type": "display_data"
        },
        {
          "data": {
            "image/png": "[encoded data removed]",
            "text/plain": [
              "<Figure size 432x288 with 1 Axes>"
            ]
          },
          "metadata": {
            "needs_background": "light"
          },
          "output_type": "display_data"
        }
      ],
      "source": [
        "acc = history_res152.history['accuracy']\n",
        "val_acc = history_res152.history['val_accuracy']\n",
        "\n",
        "loss = history_res152.history['loss']\n",
        "val_loss = history_res152.history['val_loss']\n",
        "\n",
        "epochs_range = range(len(acc))\n",
        "\n",
        "plt.plot(epochs_range, acc, label='Training Accuracy')\n",
        "plt.plot(epochs_range, val_acc, label='Validation Accuracy')\n",
        "plt.legend(loc='lower right')\n",
        "plt.title('Training and Validation Accuracy')\n",
        "plt.show()\n",
        "\n",
        "plt.plot(epochs_range, loss, label='Training Loss')\n",
        "plt.plot(epochs_range, val_loss, label='Validation Loss')\n",
        "plt.legend(loc='upper right')\n",
        "plt.title('Training and Validation Loss')\n",
        "plt.show()"
      ]
    },
    {
      "cell_type": "code",
      "execution_count": null,
      "metadata": {
        "execution": {
          "iopub.execute_input": "2021-12-05T18:49:01.647585Z",
          "iopub.status.busy": "2021-12-05T18:49:01.647330Z",
          "iopub.status.idle": "2021-12-05T18:49:01.652345Z",
          "shell.execute_reply": "2021-12-05T18:49:01.651335Z",
          "shell.execute_reply.started": "2021-12-05T18:49:01.647555Z"
        },
        "id": "9Hmzvs-OckfZ",
        "trusted": true
      },
      "outputs": [],
      "source": [
        "import numpy as np\n",
        "import os\n",
        "import pandas as pd\n",
        "import tensorflow as tf\n",
        "from keras.models import load_model\n",
        "from tensorflow.keras.preprocessing.image import ImageDataGenerator"
      ]
    },
    {
      "cell_type": "code",
      "execution_count": null,
      "metadata": {
        "execution": {
          "iopub.execute_input": "2021-12-05T18:49:05.070705Z",
          "iopub.status.busy": "2021-12-05T18:49:05.070192Z",
          "iopub.status.idle": "2021-12-05T18:49:11.576797Z",
          "shell.execute_reply": "2021-12-05T18:49:11.576089Z",
          "shell.execute_reply.started": "2021-12-05T18:49:05.070669Z"
        },
        "id": "qYo4VGxnckfZ",
        "trusted": true,
        "outputId": "8ba94756-3d0b-414b-8b80-39d901a59b4a"
      },
      "outputs": [
        {
          "name": "stdout",
          "output_type": "stream",
          "text": [
            "Model: \"sequential_1\"\n",
            "_________________________________________________________________\n",
            " Layer (type)                Output Shape              Param #   \n",
            "=================================================================\n",
            " resnet152 (Functional)      (None, 16, 16, 2048)      58370944  \n",
            "                                                                 \n",
            " dropout_2 (Dropout)         (None, 16, 16, 2048)      0         \n",
            "                                                                 \n",
            " global_average_pooling2d_1   (None, 2048)             0         \n",
            " (GlobalAveragePooling2D)                                        \n",
            "                                                                 \n",
            " dense_2 (Dense)             (None, 1024)              2098176   \n",
            "                                                                 \n",
            " dropout_3 (Dropout)         (None, 1024)              0         \n",
            "                                                                 \n",
            " dense_3 (Dense)             (None, 12)                12300     \n",
            "                                                                 \n",
            "=================================================================\n",
            "Total params: 60,481,420\n",
            "Trainable params: 60,329,996\n",
            "Non-trainable params: 151,424\n",
            "_________________________________________________________________\n"
          ]
        }
      ],
      "source": [
        "# Reloading the model to make predictions\n",
        "#model_res_pred = tf.keras.models.load_model('./saved_model_resnet.h5')\n",
        "model_res_pred = tf.keras.models.load_model('./checkpoint_resnet.h5')\n",
        "\n",
        "#Check the architecture\n",
        "model_res_pred.summary()\n"
      ]
    },
    {
      "cell_type": "code",
      "execution_count": null,
      "metadata": {
        "execution": {
          "iopub.execute_input": "2021-12-05T18:49:14.194347Z",
          "iopub.status.busy": "2021-12-05T18:49:14.193618Z",
          "iopub.status.idle": "2021-12-05T18:49:14.199379Z",
          "shell.execute_reply": "2021-12-05T18:49:14.198105Z",
          "shell.execute_reply.started": "2021-12-05T18:49:14.194302Z"
        },
        "id": "AhgMGStNckfa",
        "trusted": true
      },
      "outputs": [],
      "source": [
        "dataset_path = Path('/content/drive/MyDrive/plant-pathology-2021-fgvc8')"
      ]
    },
    {
      "cell_type": "code",
      "execution_count": null,
      "metadata": {
        "execution": {
          "iopub.execute_input": "2021-12-05T18:49:17.965953Z",
          "iopub.status.busy": "2021-12-05T18:49:17.965668Z",
          "iopub.status.idle": "2021-12-05T18:49:17.974434Z",
          "shell.execute_reply": "2021-12-05T18:49:17.973572Z",
          "shell.execute_reply.started": "2021-12-05T18:49:17.965922Z"
        },
        "id": "ckHMlYaPckfa",
        "trusted": true
      },
      "outputs": [],
      "source": [
        "test_folder_path = './test_images'\n",
        "\n",
        "if not os.path.exists(test_folder_path):\n",
        "    os.mkdir(test_folder_path) "
      ]
    },
    {
      "cell_type": "code",
      "execution_count": null,
      "metadata": {
        "execution": {
          "iopub.execute_input": "2021-12-05T18:49:21.344947Z",
          "iopub.status.busy": "2021-12-05T18:49:21.344169Z",
          "iopub.status.idle": "2021-12-05T18:49:21.494567Z",
          "shell.execute_reply": "2021-12-05T18:49:21.493863Z",
          "shell.execute_reply.started": "2021-12-05T18:49:21.344899Z"
        },
        "id": "xRHfptbbckfa",
        "trusted": true
      },
      "outputs": [],
      "source": [
        "test_ds_path = '/content/drive/MyDrive/plant-pathology-2021-fgvc8/test_images'\n",
        "test_dir_path = './test_images/all_classes'\n",
        "\n",
        "if not os.path.exists(test_dir_path):\n",
        "    shutil.copytree(test_ds_path, test_dir_path)"
      ]
    },
    {
      "cell_type": "code",
      "execution_count": null,
      "metadata": {
        "execution": {
          "iopub.execute_input": "2021-12-05T18:49:24.560203Z",
          "iopub.status.busy": "2021-12-05T18:49:24.559560Z",
          "iopub.status.idle": "2021-12-05T18:49:24.565632Z",
          "shell.execute_reply": "2021-12-05T18:49:24.564886Z",
          "shell.execute_reply.started": "2021-12-05T18:49:24.560167Z"
        },
        "id": "EkM5JQv4ckfa",
        "trusted": true,
        "outputId": "1a19c9b8-5bad-40b1-e942-5568aa3103b9"
      },
      "outputs": [
        {
          "name": "stdout",
          "output_type": "stream",
          "text": [
            "Number of pictures:  14\n",
            "Picture name:  ['85f8cb619c66b863.jpg', 'ad8770db05586b59.jpg', 'c7b03e718489f3ca.jpg', 'IMG_20211020_174743.jpg', 'IMG_20211020_174831.jpg', 'IMG_20211020_175040.jpg', 'IMG_20211020_175132.jpg', 'IMG_20211020_175253.jpg', 'IMG_20211020_175313.jpg', 'IMG_20211020_175324.jpg', 'IMG_20211020_175345.jpg', 'IMG_20211020_175417.jpg', 'IMG_20211020_175526.jpg', 'IMG_20211020_175840.jpg']\n"
          ]
        }
      ],
      "source": [
        "_, _, files = next(os.walk(test_dir_path))\n",
        "file_count = len(files)\n",
        "\n",
        "print(\"Number of pictures: \", file_count)\n",
        "print(\"Picture name: \", files)"
      ]
    },
    {
      "cell_type": "code",
      "execution_count": null,
      "metadata": {
        "execution": {
          "iopub.execute_input": "2021-12-05T18:49:27.800186Z",
          "iopub.status.busy": "2021-12-05T18:49:27.799479Z",
          "iopub.status.idle": "2021-12-05T18:49:27.804477Z",
          "shell.execute_reply": "2021-12-05T18:49:27.803352Z",
          "shell.execute_reply.started": "2021-12-05T18:49:27.800145Z"
        },
        "id": "Ea99ZSyAckfb",
        "trusted": true
      },
      "outputs": [],
      "source": [
        "test_image_generator = ImageDataGenerator(rescale=1./255)"
      ]
    },
    {
      "cell_type": "code",
      "execution_count": null,
      "metadata": {
        "execution": {
          "iopub.execute_input": "2021-12-05T18:49:31.383858Z",
          "iopub.status.busy": "2021-12-05T18:49:31.383499Z",
          "iopub.status.idle": "2021-12-05T18:49:31.391163Z",
          "shell.execute_reply": "2021-12-05T18:49:31.389851Z",
          "shell.execute_reply.started": "2021-12-05T18:49:31.383815Z"
        },
        "id": "Xnu9EBGuckfb",
        "trusted": true
      },
      "outputs": [],
      "source": [
        "test_folder_path = './test_images'"
      ]
    },
    {
      "cell_type": "code",
      "execution_count": null,
      "metadata": {
        "id": "8kjnAgW-KsOk"
      },
      "outputs": [],
      "source": [
        "IMG_HEIGHT = 512\n",
        "IMG_WIDTH = 512"
      ]
    },
    {
      "cell_type": "code",
      "execution_count": null,
      "metadata": {
        "execution": {
          "iopub.execute_input": "2021-12-05T18:49:34.227228Z",
          "iopub.status.busy": "2021-12-05T18:49:34.226539Z",
          "iopub.status.idle": "2021-12-05T18:49:34.335731Z",
          "shell.execute_reply": "2021-12-05T18:49:34.334717Z",
          "shell.execute_reply.started": "2021-12-05T18:49:34.227171Z"
        },
        "id": "lnJYAUsjckfb",
        "trusted": true,
        "outputId": "05070fe5-0a50-419c-a3cb-2c99f7c007be"
      },
      "outputs": [
        {
          "name": "stdout",
          "output_type": "stream",
          "text": [
            "Found 14 images belonging to 1 classes.\n"
          ]
        }
      ],
      "source": [
        "test_generator = test_image_generator.flow_from_directory(\n",
        "                                        directory=test_folder_path,\n",
        "                                        target_size=(IMG_HEIGHT, IMG_WIDTH),\n",
        "                                        class_mode=None,\n",
        "                                        shuffle=False\n",
        "                                        )"
      ]
    },
    {
      "cell_type": "code",
      "execution_count": null,
      "metadata": {
        "execution": {
          "iopub.execute_input": "2021-12-05T18:49:41.730700Z",
          "iopub.status.busy": "2021-12-05T18:49:41.730048Z",
          "iopub.status.idle": "2021-12-05T18:49:43.016299Z",
          "shell.execute_reply": "2021-12-05T18:49:43.015576Z",
          "shell.execute_reply.started": "2021-12-05T18:49:41.730656Z"
        },
        "id": "gPXS_5Thckfb",
        "trusted": true,
        "outputId": "14987d6b-8306-4a26-c58f-b406e1e56dac"
      },
      "outputs": [
        {
          "name": "stderr",
          "output_type": "stream",
          "text": [
            "<ipython-input-30-b52a3af38e71>:1: UserWarning: `Model.predict_generator` is deprecated and will be removed in a future version. Please use `Model.predict`, which supports generators.\n",
            "  pred_res = model_res_pred.predict_generator(test_generator, verbose=1)\n"
          ]
        },
        {
          "name": "stdout",
          "output_type": "stream",
          "text": [
            "1/1 [==============================] - 17s 17s/step\n",
            "[[1.06348582e-01 5.00211939e-02 4.44761105e-02 6.45597428e-02\n",
            "  6.09636530e-02 4.63475510e-02 2.94173419e-01 6.17534481e-02\n",
            "  4.25731577e-02 1.18769035e-01 6.41273633e-02 4.58867028e-02]\n",
            " [1.05603307e-01 8.04258659e-02 5.44059090e-02 9.94859189e-02\n",
            "  7.74387196e-02 5.03567383e-02 1.93850219e-01 5.84323630e-02\n",
            "  4.71304320e-02 1.03884161e-01 7.67007768e-02 5.22856377e-02]\n",
            " [1.00670263e-01 3.92076895e-02 3.40355895e-02 4.82833572e-02\n",
            "  4.74973172e-02 3.85485217e-02 4.32590216e-01 5.10558225e-02\n",
            "  3.11462432e-02 9.21008289e-02 5.15319593e-02 3.33321542e-02]\n",
            " [1.88034214e-02 1.62874663e-03 2.20488082e-03 1.89090241e-03\n",
            "  2.91102566e-03 3.95042170e-03 9.45172250e-01 6.43723691e-03\n",
            "  1.83476717e-03 9.15113930e-03 4.21173219e-03 1.80344982e-03]\n",
            " [1.74056026e-06 1.30887148e-10 2.03734163e-09 6.64942892e-11\n",
            "  3.11792481e-09 4.56412934e-08 9.99997616e-01 2.24786334e-07\n",
            "  2.78166867e-09 2.73374440e-07 8.21228863e-09 1.16983978e-09]\n",
            " [2.61256588e-04 1.04343542e-06 3.49486891e-06 6.88356465e-07\n",
            "  4.03126842e-06 1.75533823e-05 9.99569118e-01 6.03702938e-05\n",
            "  4.38092366e-06 6.61673548e-05 9.26166922e-06 2.66731490e-06]\n",
            " [1.05223469e-01 7.16349855e-02 4.99671809e-02 7.83689842e-02\n",
            "  6.82649612e-02 4.94279861e-02 2.44482100e-01 5.94557263e-02\n",
            "  4.82810028e-02 1.05991766e-01 6.73159510e-02 5.15858904e-02]\n",
            " [1.00613795e-01 8.78383294e-02 5.81416935e-02 1.12618729e-01\n",
            "  7.66818225e-02 5.14264069e-02 1.61930561e-01 5.84705770e-02\n",
            "  5.23036905e-02 1.04328789e-01 7.73965567e-02 5.82490265e-02]\n",
            " [7.20694736e-02 3.02108396e-02 3.59506086e-02 1.61160767e-01\n",
            "  5.92956468e-02 4.31993157e-02 2.85905451e-01 4.01209742e-02\n",
            "  4.37932760e-02 1.45679086e-01 4.30279151e-02 3.95866111e-02]\n",
            " [8.61100629e-02 5.46814054e-02 4.82102334e-02 2.03252897e-01\n",
            "  7.12024942e-02 4.77455333e-02 1.68159381e-01 4.81604822e-02\n",
            "  4.82020155e-02 1.15598708e-01 5.87497540e-02 4.99269702e-02]\n",
            " [2.76189391e-02 3.38925282e-03 3.48210032e-03 5.27866976e-03\n",
            "  5.93666639e-03 5.83384885e-03 9.17128742e-01 7.04435073e-03\n",
            "  2.24580523e-03 1.20787965e-02 7.03551527e-03 2.92740809e-03]\n",
            " [7.55182430e-02 3.90127227e-02 3.70979458e-02 2.09676847e-01\n",
            "  6.51410520e-02 3.85684408e-02 2.60405540e-01 4.05032821e-02\n",
            "  4.62330878e-02 9.82725173e-02 5.02782911e-02 3.92920263e-02]\n",
            " [1.91138327e-01 5.22485413e-02 6.16437532e-02 5.46963625e-02\n",
            "  6.25620112e-02 4.67701368e-02 4.60208878e-02 4.30652350e-02\n",
            "  4.47796620e-02 1.94981307e-01 1.33848146e-01 6.82456419e-02]\n",
            " [4.91680391e-02 5.91869615e-02 3.83099206e-02 3.59718472e-01\n",
            "  5.08961976e-02 3.53759676e-02 3.99235450e-02 3.60853262e-02\n",
            "  3.52914482e-02 2.15399995e-01 4.30882759e-02 3.75558734e-02]]\n"
          ]
        }
      ],
      "source": [
        "pred_res = model_res_pred.predict_generator(test_generator, verbose=1)\n",
        "print(pred_res)"
      ]
    },
    {
      "cell_type": "code",
      "execution_count": null,
      "metadata": {
        "execution": {
          "iopub.execute_input": "2021-12-05T18:49:45.879560Z",
          "iopub.status.busy": "2021-12-05T18:49:45.879085Z",
          "iopub.status.idle": "2021-12-05T18:49:45.887946Z",
          "shell.execute_reply": "2021-12-05T18:49:45.887032Z",
          "shell.execute_reply.started": "2021-12-05T18:49:45.879525Z"
        },
        "id": "DJInJIyYckfb",
        "trusted": true,
        "outputId": "a3689e65-b6ca-4f04-fb0a-7bdfd9b1330b"
      },
      "outputs": [
        {
          "name": "stdout",
          "output_type": "stream",
          "text": [
            "Predicted class indices: [6 6 6 6 6 6 6 6 6 3 6 6 9 3]\n",
            "Predicted class: ['scab frog_eye_leaf_spot', 'scab frog_eye_leaf_spot', 'scab frog_eye_leaf_spot', 'scab frog_eye_leaf_spot', 'scab frog_eye_leaf_spot', 'scab frog_eye_leaf_spot', 'scab frog_eye_leaf_spot', 'scab frog_eye_leaf_spot', 'scab frog_eye_leaf_spot', 'rust', 'scab frog_eye_leaf_spot', 'scab frog_eye_leaf_spot', 'rust frog_eye_leaf_spot', 'rust']\n"
          ]
        }
      ],
      "source": [
        "# making predictions on the testing image data\n",
        "predicted_class_indices = np.argmax(pred_res, axis=1)\n",
        "print(\"Predicted class indices:\", predicted_class_indices)\n",
        "\n",
        "labels_dict = ({'scab' : 0, 'healthy' : 1, 'frog_eye_leaf_spot' : 2, 'rust' : 3, 'complex' : 4, 'powdery_mildew' : 5, 'scab frog_eye_leaf_spot' : 6, 'scab frog_eye_leaf_spot complex' : 7, 'frog_eye_leaf_spot complex' : 8,'rust frog_eye_leaf_spot' : 9,'rust complex' : 10,'powdery_mildew complex' : 11})\n",
        "\n",
        "labels = dict((v,k) for k,v in labels_dict.items())\n",
        "predictions = [labels[k] for k in predicted_class_indices]\n",
        "print(\"Predicted class:\", predictions)"
      ]
    },
    {
      "cell_type": "code",
      "execution_count": null,
      "metadata": {
        "execution": {
          "iopub.execute_input": "2021-12-05T18:52:07.622563Z",
          "iopub.status.busy": "2021-12-05T18:52:07.622307Z",
          "iopub.status.idle": "2021-12-05T18:59:49.039323Z",
          "shell.execute_reply": "2021-12-05T18:59:49.038570Z",
          "shell.execute_reply.started": "2021-12-05T18:52:07.622533Z"
        },
        "id": "8txSjxf8cw0c",
        "trusted": true,
        "outputId": "d8645e1f-761c-489f-fed0-7c0a11f6229b"
      },
      "outputs": [
        {
          "name": "stderr",
          "output_type": "stream",
          "text": [
            "<ipython-input-32-011369040c7d>:3: UserWarning: `Model.predict_generator` is deprecated and will be removed in a future version. Please use `Model.predict`, which supports generators.\n",
            "  Y_pred = model_res_pred.predict_generator(valid_datagen, valid_datagen.samples // valid_datagen.batch_size + 5)\n"
          ]
        },
        {
          "name": "stdout",
          "output_type": "stream",
          "text": [
            "WARNING:tensorflow:Your input ran out of data; interrupting training. Make sure that your dataset or generator can generate at least `steps_per_epoch * epochs` batches (in this case, 121 batches). You may need to use the repeat() function when building your dataset.\n",
            "Confusion Matrix\n",
            "[[ 25  46   0  77  27   0  38   0   0  94   0   0]\n",
            " [ 46 106   0 120  57   0  59   0   0 166   0   0]\n",
            " [  1   5   0   3   5   0   1   0   0   3   0   0]\n",
            " [ 59 135   0 193  83   0  99   0   0 245   0   0]\n",
            " [ 29  73   0  67  37   0  41   0   0  90   0   0]\n",
            " [  3   4   0   4   2   0   2   0   0   5   0   0]\n",
            " [ 33  70   0  95  41   0  47   0   0 112   1   0]\n",
            " [  0   2   0   3   1   0   1   0   0   5   0   0]\n",
            " [  1   6   0   7   1   0   1   0   0   8   0   0]\n",
            " [100 167   0 259 110   0 120   0   0 352   0   0]\n",
            " [  7  15   0  26  10   0  12   0   0  35   0   0]\n",
            " [  5   4   0   6   3   0   2   0   0   8   0   0]]\n"
          ]
        }
      ],
      "source": [
        "from sklearn.metrics import classification_report, confusion_matrix\n",
        "\n",
        "Y_pred = model_res_pred.predict_generator(valid_datagen, valid_datagen.samples // valid_datagen.batch_size + 5)\n",
        "y_pred = np.argmax(Y_pred, axis=1)\n",
        "print('Confusion Matrix')\n",
        "print(confusion_matrix(valid_datagen.classes, y_pred))"
      ]
    },
    {
      "cell_type": "code",
      "execution_count": null,
      "metadata": {
        "execution": {
          "iopub.execute_input": "2021-12-05T18:59:49.041256Z",
          "iopub.status.busy": "2021-12-05T18:59:49.041064Z",
          "iopub.status.idle": "2021-12-05T18:59:49.061238Z",
          "shell.execute_reply": "2021-12-05T18:59:49.060568Z",
          "shell.execute_reply.started": "2021-12-05T18:59:49.041231Z"
        },
        "id": "PPdWlHdjdA6R",
        "trusted": true,
        "outputId": "79cd19c5-6ab4-428e-e91d-9db2c8d794c2"
      },
      "outputs": [
        {
          "name": "stdout",
          "output_type": "stream",
          "text": [
            "                                 precision    recall  f1-score   support\n",
            "\n",
            "                        complex       0.08      0.08      0.08       307\n",
            "             frog_eye_leaf_spot       0.17      0.19      0.18       554\n",
            "     frog_eye_leaf_spot complex       0.00      0.00      0.00        18\n",
            "                        healthy       0.22      0.24      0.23       814\n",
            "                 powdery_mildew       0.10      0.11      0.10       337\n",
            "         powdery_mildew complex       0.00      0.00      0.00        20\n",
            "                           rust       0.11      0.12      0.11       399\n",
            "                   rust complex       0.00      0.00      0.00        12\n",
            "        rust frog_eye_leaf_spot       0.00      0.00      0.00        24\n",
            "                           scab       0.31      0.32      0.32      1108\n",
            "        scab frog_eye_leaf_spot       0.00      0.00      0.00       105\n",
            "scab frog_eye_leaf_spot complex       0.00      0.00      0.00        28\n",
            "\n",
            "                       accuracy                           0.20      3726\n",
            "                      macro avg       0.08      0.09      0.09      3726\n",
            "                   weighted avg       0.19      0.20      0.20      3726\n",
            "\n"
          ]
        },
        {
          "name": "stderr",
          "output_type": "stream",
          "text": [
            "C:\\Python\\Python38\\lib\\site-packages\\sklearn\\metrics\\_classification.py:1245: UndefinedMetricWarning: Precision and F-score are ill-defined and being set to 0.0 in labels with no predicted samples. Use `zero_division` parameter to control this behavior.\n",
            "  _warn_prf(average, modifier, msg_start, len(result))\n",
            "C:\\Python\\Python38\\lib\\site-packages\\sklearn\\metrics\\_classification.py:1245: UndefinedMetricWarning: Precision and F-score are ill-defined and being set to 0.0 in labels with no predicted samples. Use `zero_division` parameter to control this behavior.\n",
            "  _warn_prf(average, modifier, msg_start, len(result))\n",
            "C:\\Python\\Python38\\lib\\site-packages\\sklearn\\metrics\\_classification.py:1245: UndefinedMetricWarning: Precision and F-score are ill-defined and being set to 0.0 in labels with no predicted samples. Use `zero_division` parameter to control this behavior.\n",
            "  _warn_prf(average, modifier, msg_start, len(result))\n"
          ]
        }
      ],
      "source": [
        "#displaying the classification report including values for Precision, Recall, F1-score and Support for each disease class\n",
        "target_names = list(train_datagen.class_indices.keys()) # Classes\n",
        "print(classification_report(valid_datagen.classes, y_pred, target_names=target_names))"
      ]
    },
    {
      "cell_type": "code",
      "execution_count": null,
      "metadata": {
        "execution": {
          "iopub.execute_input": "2021-12-05T18:59:49.062821Z",
          "iopub.status.busy": "2021-12-05T18:59:49.062421Z",
          "iopub.status.idle": "2021-12-05T18:59:50.030099Z",
          "shell.execute_reply": "2021-12-05T18:59:50.029306Z",
          "shell.execute_reply.started": "2021-12-05T18:59:49.062785Z"
        },
        "id": "J5bTL6PEdCWd",
        "trusted": true,
        "outputId": "6ed7ddbb-c430-4eea-d805-c778236ea1d1"
      },
      "outputs": [
        {
          "data": {
            "image/png": "[encoded data removed]",
            "text/plain": [
              "<Figure size 576x432 with 2 Axes>"
            ]
          },
          "metadata": {
            "needs_background": "light"
          },
          "output_type": "display_data"
        }
      ],
      "source": [
        "#displaying the confusion matrix\n",
        "import seaborn as sns\n",
        "\n",
        "cm = confusion_matrix(valid_datagen.classes, y_pred)\n",
        "labels = ['scab', 'healthy', 'frog_eye_leaf_spot', 'rust','complex', 'powdery_mildew','scab frog_eye_leaf_spot','scab frog_eye_leaf_spot complex','frog_eye_leaf_spot complex','rust frog_eye_leaf_spot','rust complex','powdery_mildew complex']\n",
        "plt.figure(figsize=(8,6))\n",
        "sns.heatmap(cm,xticklabels=labels, yticklabels=labels, annot=True, fmt='d', cmap=\"Blues\", vmin = 0.2);\n",
        "plt.title('Confusion Matrix')\n",
        "plt.ylabel('True Class')\n",
        "plt.xlabel('Predicted Class')\n",
        "plt.show()"
      ]
    }
  ],
  "metadata": {
    "kernelspec": {
      "display_name": "Python 3",
      "language": "python",
      "name": "python3"
    },
    "language_info": {
      "codemirror_mode": {
        "name": "ipython",
        "version": 3
      },
      "file_extension": ".py",
      "mimetype": "text/x-python",
      "name": "python",
      "nbconvert_exporter": "python",
      "pygments_lexer": "ipython3",
      "version": "3.8.7"
    },
    "colab": {
      "name": "ResNet152_without_Hyperparameter.ipynb",
      "provenance": [],
      "collapsed_sections": []
    }
  },
  "nbformat": 4,
  "nbformat_minor": 0
}