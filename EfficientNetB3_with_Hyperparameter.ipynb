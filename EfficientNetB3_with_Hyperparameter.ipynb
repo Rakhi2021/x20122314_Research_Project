{
  "cells": [
    {
      "cell_type": "code",
      "execution_count": null,
      "metadata": {
        "execution": {
          "iopub.execute_input": "2021-11-01T21:54:37.371286Z",
          "iopub.status.busy": "2021-11-01T21:54:37.370882Z",
          "iopub.status.idle": "2021-11-01T21:54:42.050997Z",
          "shell.execute_reply": "2021-11-01T21:54:42.050235Z",
          "shell.execute_reply.started": "2021-11-01T21:54:37.371199Z"
        },
        "id": "0_BR7wLpFx2K",
        "trusted": true
      },
      "outputs": [],
      "source": [
        "#IMPORT REQUIRED LIBRARIES:\n",
        "\n",
        "import numpy as np\n",
        "import pandas as pd\n",
        "import os\n",
        "from re import search\n",
        "import shutil\n",
        "from PIL import Image\n",
        "import matplotlib.pyplot as plt\n",
        "from tqdm import tqdm\n",
        "import time\n",
        "import tensorflow as tf\n",
        "from tensorflow.keras.models import Sequential\n",
        "from tensorflow.keras.callbacks import ModelCheckpoint,EarlyStopping\n",
        "from tensorflow.keras.preprocessing.image import ImageDataGenerator\n",
        "from tensorflow.keras.layers import Dense,Activation,Flatten, Conv2D, MaxPooling2D"
      ]
    },
    {
      "cell_type": "markdown",
      "source": [
        "Connecting to Google drive to access the uploaded dataset"
      ],
      "metadata": {
        "id": "VeOZx4Zxazt5"
      }
    },
    {
      "cell_type": "code",
      "source": [
        "from google.colab import drive\n",
        "drive.mount('/content/drive')"
      ],
      "metadata": {
        "id": "1s8Ix-o8aDd0"
      },
      "execution_count": null,
      "outputs": []
    },
    {
      "cell_type": "markdown",
      "source": [
        "Once the drive is mounted, change the corresponding file path in TRAIN_PATH, train_df and dataset_path to access image files from the uploaded dataset"
      ],
      "metadata": {
        "id": "_3ingTLfbL3O"
      }
    },
    {
      "cell_type": "code",
      "execution_count": null,
      "metadata": {
        "execution": {
          "iopub.execute_input": "2021-11-01T21:54:42.052803Z",
          "iopub.status.busy": "2021-11-01T21:54:42.052533Z",
          "iopub.status.idle": "2021-11-01T21:54:42.089793Z",
          "shell.execute_reply": "2021-11-01T21:54:42.089083Z",
          "shell.execute_reply.started": "2021-11-01T21:54:42.052767Z"
        },
        "id": "_VYNWAkeG_7G",
        "trusted": true
      },
      "outputs": [],
      "source": [
        "#IMAGE PATH & DATAFRAME:\n",
        "\n",
        "TRAIN_PATH = \"/content/drive/MyDrive/plant-pathology-2021-fgvc8/train_images\"\n",
        "train_df = pd.read_csv(\"/content/drive/MyDrive/plant-pathology-2021-fgvc8/train.csv\")"
      ]
    },
    {
      "cell_type": "code",
      "execution_count": null,
      "metadata": {
        "execution": {
          "iopub.execute_input": "2021-11-01T21:54:42.091676Z",
          "iopub.status.busy": "2021-11-01T21:54:42.091183Z",
          "iopub.status.idle": "2021-11-01T21:54:42.095651Z",
          "shell.execute_reply": "2021-11-01T21:54:42.09492Z",
          "shell.execute_reply.started": "2021-11-01T21:54:42.09164Z"
        },
        "id": "gxQb-o76H9LV",
        "trusted": true
      },
      "outputs": [],
      "source": [
        "from pathlib import Path\n",
        "dataset_path = Path('/content/drive/MyDrive/plant-pathology-2021-fgvc8')"
      ]
    },
    {
      "cell_type": "markdown",
      "source": [
        "Reading the train.csv file into a Dataframe and display top 5 rows of the file"
      ],
      "metadata": {
        "id": "1czM6MEFbjwQ"
      }
    },
    {
      "cell_type": "code",
      "execution_count": null,
      "metadata": {
        "execution": {
          "iopub.execute_input": "2021-11-01T21:54:42.098934Z",
          "iopub.status.busy": "2021-11-01T21:54:42.09842Z",
          "iopub.status.idle": "2021-11-01T21:54:42.133551Z",
          "shell.execute_reply": "2021-11-01T21:54:42.132824Z",
          "shell.execute_reply.started": "2021-11-01T21:54:42.098894Z"
        },
        "id": "B4r7e1FPIE7f",
        "outputId": "a58422fd-0092-4567-eafe-c507996e9744",
        "trusted": true
      },
      "outputs": [
        {
          "data": {
            "text/html": [
              "<div>\n",
              "<style scoped>\n",
              "    .dataframe tbody tr th:only-of-type {\n",
              "        vertical-align: middle;\n",
              "    }\n",
              "\n",
              "    .dataframe tbody tr th {\n",
              "        vertical-align: top;\n",
              "    }\n",
              "\n",
              "    .dataframe thead th {\n",
              "        text-align: right;\n",
              "    }\n",
              "</style>\n",
              "<table border=\"1\" class=\"dataframe\">\n",
              "  <thead>\n",
              "    <tr style=\"text-align: right;\">\n",
              "      <th></th>\n",
              "      <th>image</th>\n",
              "      <th>labels</th>\n",
              "    </tr>\n",
              "  </thead>\n",
              "  <tbody>\n",
              "    <tr>\n",
              "      <th>0</th>\n",
              "      <td>800113bb65efe69e.jpg</td>\n",
              "      <td>healthy</td>\n",
              "    </tr>\n",
              "    <tr>\n",
              "      <th>1</th>\n",
              "      <td>8002cb321f8bfcdf.jpg</td>\n",
              "      <td>scab frog_eye_leaf_spot complex</td>\n",
              "    </tr>\n",
              "    <tr>\n",
              "      <th>2</th>\n",
              "      <td>80070f7fb5e2ccaa.jpg</td>\n",
              "      <td>scab</td>\n",
              "    </tr>\n",
              "    <tr>\n",
              "      <th>3</th>\n",
              "      <td>80077517781fb94f.jpg</td>\n",
              "      <td>scab</td>\n",
              "    </tr>\n",
              "    <tr>\n",
              "      <th>4</th>\n",
              "      <td>800cbf0ff87721f8.jpg</td>\n",
              "      <td>complex</td>\n",
              "    </tr>\n",
              "  </tbody>\n",
              "</table>\n",
              "</div>"
            ],
            "text/plain": [
              "                  image                           labels\n",
              "0  800113bb65efe69e.jpg                          healthy\n",
              "1  8002cb321f8bfcdf.jpg  scab frog_eye_leaf_spot complex\n",
              "2  80070f7fb5e2ccaa.jpg                             scab\n",
              "3  80077517781fb94f.jpg                             scab\n",
              "4  800cbf0ff87721f8.jpg                          complex"
            ]
          },
          "execution_count": 6,
          "metadata": {},
          "output_type": "execute_result"
        }
      ],
      "source": [
        "train_df = pd.read_csv(dataset_path/'train.csv')\n",
        "train_df.head()"
      ]
    },
    {
      "cell_type": "markdown",
      "source": [
        "ImageDataGenerator is used to resize the images and perform data augmentation techniques like Rotation, Horizontal Flipping, Zooming, Shearing and Shifting on 32 train images to create a new dataset. The train images are split into training and validation set in 80:20 ratio."
      ],
      "metadata": {
        "id": "g3zakTyKbymG"
      }
    },
    {
      "cell_type": "code",
      "execution_count": null,
      "metadata": {
        "execution": {
          "iopub.execute_input": "2021-11-01T21:54:42.135389Z",
          "iopub.status.busy": "2021-11-01T21:54:42.134899Z",
          "iopub.status.idle": "2021-11-01T21:54:42.238128Z",
          "shell.execute_reply": "2021-11-01T21:54:42.236364Z",
          "shell.execute_reply.started": "2021-11-01T21:54:42.135354Z"
        },
        "id": "HNMEzj8ZIIR2",
        "outputId": "692797c7-0468-4b75-96b3-2b626384788b",
        "trusted": true
      },
      "outputs": [
        {
          "name": "stdout",
          "output_type": "stream",
          "text": [
            "Found 14906 non-validated image filenames belonging to 12 classes.\n",
            "Found 3726 non-validated image filenames belonging to 12 classes.\n"
          ]
        }
      ],
      "source": [
        "# Use the Image Data Generator to import the images from the dataset\n",
        "from tensorflow.keras.preprocessing.image import ImageDataGenerator\n",
        "\n",
        "train_image_generator = ImageDataGenerator(rescale = 1/255.,\n",
        "    rotation_range=20,\n",
        "    width_shift_range=0.2,\n",
        "    height_shift_range=0.2,\n",
        "    horizontal_flip=True,\n",
        "    validation_split = 0.2,\n",
        "    zoom_range = 0.2,\n",
        "    shear_range = 0.2,\n",
        "    vertical_flip = False)\n",
        "\n",
        "\n",
        "HEIGHT = 512\n",
        "WIDTH = 512\n",
        "SEED = 143\n",
        "BATCH_SIZE=32\n",
        "train_datagen = train_image_generator.flow_from_dataframe(\n",
        "    train_df,\n",
        "    directory = TRAIN_PATH,\n",
        "    x_col = \"image\",\n",
        "    y_col = \"labels\",\n",
        "    target_size = (HEIGHT,WIDTH),\n",
        "    class_mode='categorical',\n",
        "    batch_size = BATCH_SIZE,\n",
        "    subset = \"training\",\n",
        "    shuffle = True,\n",
        "    seed = SEED,\n",
        "    validate_filenames = False\n",
        ")\n",
        "\n",
        "\n",
        "valid_datagen = train_image_generator.flow_from_dataframe(\n",
        "    train_df,\n",
        "    directory = TRAIN_PATH,\n",
        "    x_col = \"image\",\n",
        "    y_col = \"labels\",\n",
        "    target_size = (HEIGHT,WIDTH),\n",
        "    class_mode='categorical',\n",
        "    batch_size = BATCH_SIZE,\n",
        "    subset = \"validation\",\n",
        "    shuffle = True,\n",
        "    seed = SEED,\n",
        "    validate_filenames = False\n",
        ")"
      ]
    },
    {
      "cell_type": "code",
      "execution_count": null,
      "metadata": {
        "id": "xDkffxvPYOcA"
      },
      "outputs": [],
      "source": [
        "x_train, y_train = train_datagen.next()\n",
        "x_val, y_val = valid_datagen.next()"
      ]
    },
    {
      "cell_type": "code",
      "execution_count": null,
      "metadata": {
        "execution": {
          "iopub.execute_input": "2021-11-01T21:54:42.239667Z",
          "iopub.status.busy": "2021-11-01T21:54:42.23943Z",
          "iopub.status.idle": "2021-11-01T21:54:42.247704Z",
          "shell.execute_reply": "2021-11-01T21:54:42.245597Z",
          "shell.execute_reply.started": "2021-11-01T21:54:42.239634Z"
        },
        "id": "lF0PkXMQLlQy",
        "trusted": true
      },
      "outputs": [],
      "source": [
        "import tensorflow as tf\n",
        "from tensorflow.keras.applications import EfficientNetB3\n",
        "from tensorflow.keras import models, layers\n",
        "from keras.models import Sequential\n",
        "from keras.layers import Dense, Dropout, Flatten\n",
        "import keras_tuner as kt\n",
        "from keras.callbacks import ModelCheckpoint, EarlyStopping, ReduceLROnPlateau\n",
        "from tensorflow.keras.optimizers import Adam\n",
        "from keras.losses import CategoricalCrossentropy"
      ]
    },
    {
      "cell_type": "code",
      "execution_count": null,
      "metadata": {
        "id": "9Em8hZEFYOcB"
      },
      "outputs": [],
      "source": [
        "LOG_DIR = f\"{int(time.time())}\""
      ]
    },
    {
      "cell_type": "markdown",
      "source": [
        "Defining the Sequential class for EfficientNetB3 model and assigning weights as ImageNet. We will tune the learning rate and number of units in Dense layer, thus giving an array with multiple values to choose the optimal parameter value using Random Search Optimization."
      ],
      "metadata": {
        "id": "AikU4GjZckoD"
      }
    },
    {
      "cell_type": "code",
      "execution_count": null,
      "metadata": {
        "execution": {
          "iopub.execute_input": "2021-11-01T21:54:42.249721Z",
          "iopub.status.busy": "2021-11-01T21:54:42.249102Z",
          "iopub.status.idle": "2021-11-01T21:54:42.259855Z",
          "shell.execute_reply": "2021-11-01T21:54:42.258451Z",
          "shell.execute_reply.started": "2021-11-01T21:54:42.24968Z"
        },
        "id": "T2PI1YfCLtKV",
        "trusted": true
      },
      "outputs": [],
      "source": [
        "def modelEfficientNetB3(hp):\n",
        "    \n",
        "    model = models.Sequential()\n",
        "    model.add(EfficientNetB3(include_top = False, \n",
        "                            weights = 'imagenet',\n",
        "                            #weights = \"../input/effib3trained/efficientnetb3_notop.h5\",\n",
        "                            input_shape= x_train.shape[1:]))\n",
        "    \n",
        "    model.add(Dropout(0.8))\n",
        "    model.add(layers.GlobalAveragePooling2D())\n",
        "    \n",
        "    #additional\n",
        "    # Tune the number of units in the first Dense layer\n",
        "    # Choose an optimal value between 128-1024\n",
        "    hp_units = hp.Int('units', min_value=256, max_value=1024, step=256)\n",
        "    model.add(layers.Dense(units=hp_units, activation='relu'))\n",
        "    #model.add(layers.Dense(hp.Choice('units', [128,256,512,1024]),activation='relu'))\n",
        "    model.add(Dropout(0.4))\n",
        "    model.add(layers.Dense(256, activation = 'relu'))\n",
        "    model.add(Dropout(0.5))\n",
        "   \n",
        "    model.add(layers.Dense(12, activation = \"softmax\"))\n",
        "    # Tune the learning rate for the optimizer\n",
        "    # Choose an optimal value from 0.01, 0.001, or 0.0001\n",
        "    hp_learning_rate = hp.Choice('learning_rate', values=[1e-2, 1e-3, 1e-4])\n",
        "\n",
        "    model.compile(\n",
        "            optimizer=Adam(learning_rate=hp_learning_rate),\n",
        "            loss = CategoricalCrossentropy(label_smoothing=0.3,reduction=\"auto\",name=\"categorical_crossentropy\"),\n",
        "            metrics = [\"accuracy\"])\n",
        "    \n",
        "    return model"
      ]
    },
    {
      "cell_type": "markdown",
      "source": [
        "Random Search optimization enables to find random parameter combination to optimize the model's performance. The objective is set as 'val_loss' to minmize the validation loss during model run and increase accuracy. The number of trials to search optimal parameter values is set as 12."
      ],
      "metadata": {
        "id": "MbVBV__mdQqT"
      }
    },
    {
      "cell_type": "code",
      "execution_count": null,
      "metadata": {
        "id": "wLgZ54RgYOcB"
      },
      "outputs": [],
      "source": [
        "tuner = kt.RandomSearch(\n",
        "    modelEfficientNetB3,\n",
        "    objective='val_loss',\n",
        "    max_trials=12,\n",
        "    directory  = LOG_DIR)"
      ]
    },
    {
      "cell_type": "code",
      "execution_count": null,
      "metadata": {
        "id": "EFWcPNrJYOcC"
      },
      "outputs": [],
      "source": [
        "stop_early = tf.keras.callbacks.EarlyStopping(monitor='val_loss', patience=5)"
      ]
    },
    {
      "cell_type": "code",
      "execution_count": null,
      "metadata": {
        "id": "F1CDQ27gYOcC",
        "outputId": "1a2b783e-89bd-4b50-b137-df77967287a7"
      },
      "outputs": [
        {
          "name": "stdout",
          "output_type": "stream",
          "text": [
            "Trial 4 Complete [00h 03m 22s]\n",
            "val_loss: 2.3076694011688232\n",
            "\n",
            "Best val_loss So Far: 2.3076694011688232\n",
            "Total elapsed time: 00h 10m 39s\n",
            "INFO:tensorflow:Oracle triggered exit\n"
          ]
        }
      ],
      "source": [
        "tuner.search(x_train, y_train, epochs=12, batch_size = 64, validation_data=(x_val, y_val), callbacks=[stop_early])"
      ]
    },
    {
      "cell_type": "code",
      "execution_count": null,
      "metadata": {
        "id": "qXwxpS0uYOcC",
        "outputId": "30da45c5-47d3-4f78-a602-5a430804694f"
      },
      "outputs": [
        {
          "name": "stdout",
          "output_type": "stream",
          "text": [
            "\n",
            "The hyperparameter search is complete. The optimal number of units in the first densely-connected\n",
            "layer is 768 and the optimal learning rate for the optimizer\n",
            "is 0.001.\n",
            "\n"
          ]
        }
      ],
      "source": [
        "best_hps=tuner.get_best_hyperparameters(num_trials=1)[0]\n",
        "print(f\"\"\"\n",
        "The hyperparameter search is complete. The optimal number of units in the first densely-connected\n",
        "layer is {best_hps.get('units')} and the optimal learning rate for the optimizer\n",
        "is {best_hps.get('learning_rate')}.\n",
        "\"\"\")"
      ]
    },
    {
      "cell_type": "code",
      "execution_count": null,
      "metadata": {
        "id": "NGEB1m_2YOcD"
      },
      "outputs": [],
      "source": [
        "# Build the model with the optimal hyperparameters and train it on the data for 50 epochs\n",
        "model_effiB3 = tuner.hypermodel.build(best_hps)"
      ]
    },
    {
      "cell_type": "markdown",
      "source": [
        "Displaying the summary of the tuned model"
      ],
      "metadata": {
        "id": "4DjvuenidqrP"
      }
    },
    {
      "cell_type": "code",
      "execution_count": null,
      "metadata": {
        "execution": {
          "iopub.execute_input": "2021-11-01T21:54:49.656204Z",
          "iopub.status.busy": "2021-11-01T21:54:49.655794Z",
          "iopub.status.idle": "2021-11-01T21:54:49.710558Z",
          "shell.execute_reply": "2021-11-01T21:54:49.708265Z",
          "shell.execute_reply.started": "2021-11-01T21:54:49.656156Z"
        },
        "id": "OkjtBt_XL9Ej",
        "outputId": "6d2995db-96ba-4e73-a000-9540f6c8c112",
        "trusted": true
      },
      "outputs": [
        {
          "name": "stdout",
          "output_type": "stream",
          "text": [
            "Model: \"sequential_1\"\n",
            "_________________________________________________________________\n",
            " Layer (type)                Output Shape              Param #   \n",
            "=================================================================\n",
            " efficientnetb3 (Functional)  (None, 4, 4, 1536)       10783535  \n",
            "                                                                 \n",
            " dropout_3 (Dropout)         (None, 4, 4, 1536)        0         \n",
            "                                                                 \n",
            " global_average_pooling2d_1   (None, 1536)             0         \n",
            " (GlobalAveragePooling2D)                                        \n",
            "                                                                 \n",
            " dense_3 (Dense)             (None, 768)               1180416   \n",
            "                                                                 \n",
            " dropout_4 (Dropout)         (None, 768)               0         \n",
            "                                                                 \n",
            " dense_4 (Dense)             (None, 256)               196864    \n",
            "                                                                 \n",
            " dropout_5 (Dropout)         (None, 256)               0         \n",
            "                                                                 \n",
            " dense_5 (Dense)             (None, 12)                3084      \n",
            "                                                                 \n",
            "=================================================================\n",
            "Total params: 12,163,899\n",
            "Trainable params: 12,076,596\n",
            "Non-trainable params: 87,303\n",
            "_________________________________________________________________\n"
          ]
        }
      ],
      "source": [
        "model_effiB3.summary()"
      ]
    },
    {
      "cell_type": "code",
      "execution_count": null,
      "metadata": {
        "execution": {
          "iopub.execute_input": "2021-11-01T21:54:49.718024Z",
          "iopub.status.busy": "2021-11-01T21:54:49.715265Z",
          "iopub.status.idle": "2021-11-01T21:54:49.724942Z",
          "shell.execute_reply": "2021-11-01T21:54:49.724206Z",
          "shell.execute_reply.started": "2021-11-01T21:54:49.717986Z"
        },
        "id": "F3oD6nCmL_Tp",
        "trusted": true
      },
      "outputs": [],
      "source": [
        "model_checkpoint_effinet = ModelCheckpoint(\n",
        "                            \"./checkpoint_effinet.h5\",\n",
        "                            monitor = \"val_loss\",\n",
        "                            verbose = 1,\n",
        "                            save_best_only = True,\n",
        "                            save_weights_only = False,\n",
        "                            mode = \"min\")"
      ]
    },
    {
      "cell_type": "markdown",
      "source": [
        "Early stopping and Reduce Learning Rate on Plateau callbacks are used to stop the model training if the validation loss and the learning rate stops improving."
      ],
      "metadata": {
        "id": "T5zA8k4udxOZ"
      }
    },
    {
      "cell_type": "code",
      "execution_count": null,
      "metadata": {
        "execution": {
          "iopub.execute_input": "2021-11-01T21:54:49.729772Z",
          "iopub.status.busy": "2021-11-01T21:54:49.728227Z",
          "iopub.status.idle": "2021-11-01T21:54:49.740882Z",
          "shell.execute_reply": "2021-11-01T21:54:49.740203Z",
          "shell.execute_reply.started": "2021-11-01T21:54:49.729734Z"
        },
        "id": "tlP5oTYkMCl6",
        "trusted": true
      },
      "outputs": [],
      "source": [
        "early_stop = EarlyStopping(\n",
        "                            monitor = \"val_loss\",\n",
        "                            min_delta=0.001,\n",
        "                            patience=7,\n",
        "                            verbose=1,\n",
        "                            mode=\"min\",\n",
        "                            restore_best_weights=False)"
      ]
    },
    {
      "cell_type": "code",
      "execution_count": null,
      "metadata": {
        "execution": {
          "iopub.execute_input": "2021-11-01T21:54:49.74326Z",
          "iopub.status.busy": "2021-11-01T21:54:49.742617Z",
          "iopub.status.idle": "2021-11-01T21:54:49.752498Z",
          "shell.execute_reply": "2021-11-01T21:54:49.751629Z",
          "shell.execute_reply.started": "2021-11-01T21:54:49.74321Z"
        },
        "id": "_q2zqBpOMEHQ",
        "trusted": true
      },
      "outputs": [],
      "source": [
        "reduce_lr = ReduceLROnPlateau(\n",
        "                            monitor=\"val_loss\",\n",
        "                            factor=0.1,\n",
        "                            patience=2,\n",
        "                            verbose=1,\n",
        "                            mode=\"min\",\n",
        "                            min_delta=0.0001)"
      ]
    },
    {
      "cell_type": "code",
      "execution_count": null,
      "metadata": {
        "execution": {
          "iopub.execute_input": "2021-11-01T21:54:49.805286Z",
          "iopub.status.busy": "2021-11-01T21:54:49.802285Z",
          "iopub.status.idle": "2021-11-01T21:54:49.811844Z",
          "shell.execute_reply": "2021-11-01T21:54:49.811034Z",
          "shell.execute_reply.started": "2021-11-01T21:54:49.805245Z"
        },
        "id": "2kSNXTGCMSuv",
        "trusted": true
      },
      "outputs": [],
      "source": [
        "epochs = 8"
      ]
    },
    {
      "cell_type": "markdown",
      "source": [
        "The model is trained with a batch size of 32 and number of epochs equal to 8 and the corresponding accuracy and loss are displayed for each epoch."
      ],
      "metadata": {
        "id": "_lK1AHQHeATX"
      }
    },
    {
      "cell_type": "code",
      "execution_count": null,
      "metadata": {
        "execution": {
          "iopub.execute_input": "2021-11-01T21:54:49.816705Z",
          "iopub.status.busy": "2021-11-01T21:54:49.815105Z",
          "iopub.status.idle": "2021-11-02T04:21:29.383277Z",
          "shell.execute_reply": "2021-11-02T04:21:29.380303Z",
          "shell.execute_reply.started": "2021-11-01T21:54:49.816664Z"
        },
        "id": "HgSwU2S1MfvT",
        "outputId": "ef29d1a6-02ad-448a-9e2f-86db4dbdecc7",
        "trusted": true
      },
      "outputs": [
        {
          "name": "stderr",
          "output_type": "stream",
          "text": [
            "<ipython-input-16-a7c7c3cec446>:1: UserWarning: `Model.fit_generator` is deprecated and will be removed in a future version. Please use `Model.fit`, which supports generators.\n",
            "  history_effiB3 = model_effiB3.fit_generator(\n"
          ]
        },
        {
          "name": "stdout",
          "output_type": "stream",
          "text": [
            "Epoch 1/8\n",
            "466/466 [==============================] - ETA: 0s - loss: 1.9308 - accuracy: 0.6043\n",
            "Epoch 00001: val_loss improved from inf to 2.41307, saving model to .\\checkpoint_effinet.h5\n"
          ]
        },
        {
          "name": "stderr",
          "output_type": "stream",
          "text": [
            "C:\\Python\\Python38\\lib\\site-packages\\keras\\engine\\functional.py:1410: CustomMaskWarning: Custom mask layers require a config and must override get_config. When loading, the custom mask layer must be passed to the custom_objects argument.\n",
            "  layer_config = serialize_layer_fn(layer)\n"
          ]
        },
        {
          "name": "stdout",
          "output_type": "stream",
          "text": [
            "466/466 [==============================] - 2976s 6s/step - loss: 1.9308 - accuracy: 0.6043 - val_loss: 2.4131 - val_accuracy: 0.2195 - lr: 0.0010\n",
            "Epoch 2/8\n",
            "466/466 [==============================] - ETA: 0s - loss: 1.6857 - accuracy: 0.7791\n",
            "Epoch 00002: val_loss did not improve from 2.41307\n",
            "466/466 [==============================] - 2875s 6s/step - loss: 1.6857 - accuracy: 0.7791 - val_loss: 2.8610 - val_accuracy: 0.1071 - lr: 0.0010\n",
            "Epoch 3/8\n",
            "466/466 [==============================] - ETA: 0s - loss: 1.6346 - accuracy: 0.7995\n",
            "Epoch 00003: val_loss did not improve from 2.41307\n",
            "\n",
            "Epoch 00003: ReduceLROnPlateau reducing learning rate to 0.00010000000474974513.\n",
            "466/466 [==============================] - 2710s 6s/step - loss: 1.6346 - accuracy: 0.7995 - val_loss: 2.6266 - val_accuracy: 0.2534 - lr: 0.0010\n",
            "Epoch 4/8\n",
            "466/466 [==============================] - ETA: 0s - loss: 1.5630 - accuracy: 0.8346\n",
            "Epoch 00004: val_loss improved from 2.41307 to 1.89499, saving model to .\\checkpoint_effinet.h5\n",
            "466/466 [==============================] - 2508s 5s/step - loss: 1.5630 - accuracy: 0.8346 - val_loss: 1.8950 - val_accuracy: 0.5921 - lr: 1.0000e-04\n",
            "Epoch 5/8\n",
            "466/466 [==============================] - ETA: 0s - loss: 1.5371 - accuracy: 0.8484\n",
            "Epoch 00005: val_loss did not improve from 1.89499\n",
            "466/466 [==============================] - 2591s 6s/step - loss: 1.5371 - accuracy: 0.8484 - val_loss: 2.3419 - val_accuracy: 0.2928 - lr: 1.0000e-04\n",
            "Epoch 6/8\n",
            "466/466 [==============================] - ETA: 0s - loss: 1.5310 - accuracy: 0.8487\n",
            "Epoch 00006: val_loss did not improve from 1.89499\n",
            "\n",
            "Epoch 00006: ReduceLROnPlateau reducing learning rate to 1.0000000474974514e-05.\n",
            "466/466 [==============================] - 2628s 6s/step - loss: 1.5310 - accuracy: 0.8487 - val_loss: 2.0445 - val_accuracy: 0.5279 - lr: 1.0000e-04\n",
            "Epoch 7/8\n",
            "466/466 [==============================] - ETA: 0s - loss: 1.5192 - accuracy: 0.8552\n",
            "Epoch 00007: val_loss improved from 1.89499 to 1.45513, saving model to .\\checkpoint_effinet.h5\n",
            "466/466 [==============================] - 2649s 6s/step - loss: 1.5192 - accuracy: 0.8552 - val_loss: 1.4551 - val_accuracy: 0.8787 - lr: 1.0000e-05\n",
            "Epoch 8/8\n",
            "466/466 [==============================] - ETA: 0s - loss: 1.5166 - accuracy: 0.8584\n",
            "Epoch 00008: val_loss did not improve from 1.45513\n",
            "466/466 [==============================] - 2539s 5s/step - loss: 1.5166 - accuracy: 0.8584 - val_loss: 1.4650 - val_accuracy: 0.8717 - lr: 1.0000e-05\n"
          ]
        }
      ],
      "source": [
        "history_effiB3 = model_effiB3.fit_generator(\n",
        "                    train_datagen,\n",
        "                    steps_per_epoch=None,\n",
        "                    epochs=epochs,\n",
        "                    validation_data=valid_datagen,\n",
        "                    validation_steps=None,\n",
        "                    callbacks = [model_checkpoint_effinet,early_stop,reduce_lr]\n",
        ")"
      ]
    },
    {
      "cell_type": "code",
      "execution_count": null,
      "metadata": {
        "execution": {
          "iopub.execute_input": "2021-11-02T04:21:29.390325Z",
          "iopub.status.busy": "2021-11-02T04:21:29.389385Z",
          "iopub.status.idle": "2021-11-02T04:21:30.447403Z",
          "shell.execute_reply": "2021-11-02T04:21:30.446608Z",
          "shell.execute_reply.started": "2021-11-02T04:21:29.390286Z"
        },
        "id": "RyfF9-INMhqX",
        "trusted": true
      },
      "outputs": [],
      "source": [
        "#saving the models using checkpoint\n",
        "model_effiB3.save('saved_model_effinet.h5')"
      ]
    },
    {
      "cell_type": "markdown",
      "source": [
        "Plotting the Accuracy and Loss graphs using Matplotlib library"
      ],
      "metadata": {
        "id": "f6xhLoM5eOoY"
      }
    },
    {
      "cell_type": "code",
      "execution_count": null,
      "metadata": {
        "execution": {
          "iopub.execute_input": "2021-11-02T04:21:30.44926Z",
          "iopub.status.busy": "2021-11-02T04:21:30.448998Z",
          "iopub.status.idle": "2021-11-02T04:21:30.918697Z",
          "shell.execute_reply": "2021-11-02T04:21:30.918024Z",
          "shell.execute_reply.started": "2021-11-02T04:21:30.449226Z"
        },
        "id": "7-hW_j9cMwYF",
        "trusted": true,
        "outputId": "7764fd34-8c99-4e0c-91e7-e1bfbd169586"
      },
      "outputs": [
        {
          "data": {
            "image/png": "[encoded data removed]",
            "text/plain": [
              "<Figure size 432x288 with 1 Axes>"
            ]
          },
          "metadata": {
            "needs_background": "light"
          },
          "output_type": "display_data"
        },
        {
          "data": {
            "image/png": "[encoded data removed]",
            "text/plain": [
              "<Figure size 432x288 with 1 Axes>"
            ]
          },
          "metadata": {
            "needs_background": "light"
          },
          "output_type": "display_data"
        }
      ],
      "source": [
        "acc = history_effiB3.history['accuracy']\n",
        "val_acc = history_effiB3.history['val_accuracy']\n",
        "\n",
        "loss = history_effiB3.history['loss']\n",
        "val_loss = history_effiB3.history['val_loss']\n",
        "\n",
        "epochs_range = range(len(acc))\n",
        "\n",
        "plt.plot(epochs_range, acc, label='Training Accuracy')\n",
        "plt.plot(epochs_range, val_acc, label='Validation Accuracy')\n",
        "plt.legend(loc='lower right')\n",
        "plt.title('Training and Validation Accuracy')\n",
        "plt.show()\n",
        "\n",
        "plt.plot(epochs_range, loss, label='Training Loss')\n",
        "plt.plot(epochs_range, val_loss, label='Validation Loss')\n",
        "plt.legend(loc='upper right')\n",
        "plt.title('Training and Validation Loss')\n",
        "plt.show()"
      ]
    },
    {
      "cell_type": "code",
      "execution_count": null,
      "metadata": {
        "execution": {
          "iopub.execute_input": "2021-11-02T04:21:30.920676Z",
          "iopub.status.busy": "2021-11-02T04:21:30.919955Z",
          "iopub.status.idle": "2021-11-02T04:21:30.925343Z",
          "shell.execute_reply": "2021-11-02T04:21:30.924682Z",
          "shell.execute_reply.started": "2021-11-02T04:21:30.920635Z"
        },
        "id": "pbUhj7F9M1fM",
        "trusted": true
      },
      "outputs": [],
      "source": [
        "import numpy as np\n",
        "import os\n",
        "import pandas as pd\n",
        "import tensorflow as tf\n",
        "from keras.models import load_model\n",
        "from tensorflow.keras.preprocessing.image import ImageDataGenerator"
      ]
    },
    {
      "cell_type": "markdown",
      "source": [
        "The saved model is reloaded to make predictions on a testing image dataset uploaded on the drive"
      ],
      "metadata": {
        "id": "V0gq7i2felb8"
      }
    },
    {
      "cell_type": "code",
      "execution_count": null,
      "metadata": {
        "execution": {
          "iopub.execute_input": "2021-11-02T04:21:30.927579Z",
          "iopub.status.busy": "2021-11-02T04:21:30.926635Z",
          "iopub.status.idle": "2021-11-02T04:21:36.089928Z",
          "shell.execute_reply": "2021-11-02T04:21:36.089223Z",
          "shell.execute_reply.started": "2021-11-02T04:21:30.927539Z"
        },
        "id": "vqR4Iz7xM3xN",
        "trusted": true,
        "outputId": "5848f1a9-4cd6-4ef9-ddf7-cca525354287"
      },
      "outputs": [
        {
          "name": "stdout",
          "output_type": "stream",
          "text": [
            "Model: \"sequential_1\"\n",
            "_________________________________________________________________\n",
            " Layer (type)                Output Shape              Param #   \n",
            "=================================================================\n",
            " efficientnetb3 (Functional)  (None, 4, 4, 1536)       10783535  \n",
            "                                                                 \n",
            " dropout_3 (Dropout)         (None, 4, 4, 1536)        0         \n",
            "                                                                 \n",
            " global_average_pooling2d_1   (None, 1536)             0         \n",
            " (GlobalAveragePooling2D)                                        \n",
            "                                                                 \n",
            " dense_3 (Dense)             (None, 768)               1180416   \n",
            "                                                                 \n",
            " dropout_4 (Dropout)         (None, 768)               0         \n",
            "                                                                 \n",
            " dense_4 (Dense)             (None, 256)               196864    \n",
            "                                                                 \n",
            " dropout_5 (Dropout)         (None, 256)               0         \n",
            "                                                                 \n",
            " dense_5 (Dense)             (None, 12)                3084      \n",
            "                                                                 \n",
            "=================================================================\n",
            "Total params: 12,163,899\n",
            "Trainable params: 12,076,596\n",
            "Non-trainable params: 87,303\n",
            "_________________________________________________________________\n"
          ]
        }
      ],
      "source": [
        "#Choose either\n",
        "model_effi_pred = tf.keras.models.load_model('./saved_model_effinet.h5')\n",
        "#model_effi_pred = tf.keras.models.load_model('./checkpoint_effinet.h5')\n",
        "\n",
        "#Check the architecture\n",
        "model_effi_pred.summary()\n"
      ]
    },
    {
      "cell_type": "code",
      "execution_count": null,
      "metadata": {
        "execution": {
          "iopub.execute_input": "2021-11-02T04:21:36.131131Z",
          "iopub.status.busy": "2021-11-02T04:21:36.130859Z",
          "iopub.status.idle": "2021-11-02T04:21:36.135782Z",
          "shell.execute_reply": "2021-11-02T04:21:36.135002Z",
          "shell.execute_reply.started": "2021-11-02T04:21:36.131081Z"
        },
        "id": "8g3kgLOOM-Qu",
        "trusted": true
      },
      "outputs": [],
      "source": [
        "test_folder_path = './test_images'\n",
        "\n",
        "if not os.path.exists(test_folder_path):\n",
        "    os.mkdir(test_folder_path) "
      ]
    },
    {
      "cell_type": "code",
      "execution_count": null,
      "metadata": {
        "execution": {
          "iopub.execute_input": "2021-11-02T04:21:36.138349Z",
          "iopub.status.busy": "2021-11-02T04:21:36.13735Z",
          "iopub.status.idle": "2021-11-02T04:21:36.228859Z",
          "shell.execute_reply": "2021-11-02T04:21:36.228087Z",
          "shell.execute_reply.started": "2021-11-02T04:21:36.138309Z"
        },
        "id": "znOS9iH6NBOC",
        "trusted": true
      },
      "outputs": [],
      "source": [
        "test_ds_path = '/content/drive/MyDrive/plant-pathology-2021-fgvc8/test_images'\n",
        "test_dir_path = '.\\\\test_images\\\\all_classes'\n",
        "\n",
        "if not os.path.exists(test_dir_path):\n",
        "    shutil.copytree(test_ds_path, test_dir_path)"
      ]
    },
    {
      "cell_type": "code",
      "execution_count": null,
      "metadata": {
        "execution": {
          "iopub.execute_input": "2021-11-02T04:21:36.231399Z",
          "iopub.status.busy": "2021-11-02T04:21:36.230817Z",
          "iopub.status.idle": "2021-11-02T04:21:36.23835Z",
          "shell.execute_reply": "2021-11-02T04:21:36.237493Z",
          "shell.execute_reply.started": "2021-11-02T04:21:36.23136Z"
        },
        "id": "vOoE-GWKNDGn",
        "trusted": true,
        "outputId": "5cc6d16c-4663-42c1-9b6e-c7c00b3ef1cc"
      },
      "outputs": [
        {
          "name": "stdout",
          "output_type": "stream",
          "text": [
            "Number of pictures:  14\n",
            "Picture name:  ['85f8cb619c66b863.jpg', 'ad8770db05586b59.jpg', 'c7b03e718489f3ca.jpg', 'IMG_20211020_174743.jpg', 'IMG_20211020_174831.jpg', 'IMG_20211020_175040.jpg', 'IMG_20211020_175132.jpg', 'IMG_20211020_175253.jpg', 'IMG_20211020_175313.jpg', 'IMG_20211020_175324.jpg', 'IMG_20211020_175345.jpg', 'IMG_20211020_175417.jpg', 'IMG_20211020_175526.jpg', 'IMG_20211020_175840.jpg']\n"
          ]
        }
      ],
      "source": [
        "_, _, files = next(os.walk(test_dir_path))\n",
        "file_count = len(files)\n",
        "\n",
        "print(\"Number of pictures: \", file_count)\n",
        "print(\"Picture name: \", files)"
      ]
    },
    {
      "cell_type": "code",
      "execution_count": null,
      "metadata": {
        "execution": {
          "iopub.execute_input": "2021-11-02T04:21:36.240932Z",
          "iopub.status.busy": "2021-11-02T04:21:36.239877Z",
          "iopub.status.idle": "2021-11-02T04:21:36.245556Z",
          "shell.execute_reply": "2021-11-02T04:21:36.244658Z",
          "shell.execute_reply.started": "2021-11-02T04:21:36.240893Z"
        },
        "id": "MDU4x51yNFHm",
        "trusted": true
      },
      "outputs": [],
      "source": [
        "test_image_generator = ImageDataGenerator(rescale=1./255)"
      ]
    },
    {
      "cell_type": "code",
      "execution_count": null,
      "metadata": {
        "execution": {
          "iopub.execute_input": "2021-11-02T04:21:36.247975Z",
          "iopub.status.busy": "2021-11-02T04:21:36.24708Z",
          "iopub.status.idle": "2021-11-02T04:21:36.254068Z",
          "shell.execute_reply": "2021-11-02T04:21:36.253229Z",
          "shell.execute_reply.started": "2021-11-02T04:21:36.247938Z"
        },
        "id": "5259wX2PNKH_",
        "trusted": true
      },
      "outputs": [],
      "source": [
        "test_folder_path = './test_images'"
      ]
    },
    {
      "cell_type": "code",
      "execution_count": null,
      "metadata": {
        "execution": {
          "iopub.execute_input": "2021-11-02T04:21:36.256368Z",
          "iopub.status.busy": "2021-11-02T04:21:36.255652Z",
          "iopub.status.idle": "2021-11-02T04:21:36.36552Z",
          "shell.execute_reply": "2021-11-02T04:21:36.364709Z",
          "shell.execute_reply.started": "2021-11-02T04:21:36.256328Z"
        },
        "id": "WuLAHSTANNJl",
        "trusted": true,
        "outputId": "9d63c5d6-cb1a-469d-8cae-d529b5ee4b71"
      },
      "outputs": [
        {
          "name": "stdout",
          "output_type": "stream",
          "text": [
            "Found 14 images belonging to 1 classes.\n"
          ]
        }
      ],
      "source": [
        "test_generator = test_image_generator.flow_from_directory(\n",
        "                                        directory=test_folder_path,\n",
        "                                        target_size=(HEIGHT, WIDTH),\n",
        "                                        class_mode=None,\n",
        "                                        shuffle=False\n",
        "                                        )"
      ]
    },
    {
      "cell_type": "code",
      "execution_count": null,
      "metadata": {
        "execution": {
          "iopub.execute_input": "2021-11-02T04:21:36.370104Z",
          "iopub.status.busy": "2021-11-02T04:21:36.369903Z",
          "iopub.status.idle": "2021-11-02T04:21:39.570556Z",
          "shell.execute_reply": "2021-11-02T04:21:39.569731Z",
          "shell.execute_reply.started": "2021-11-02T04:21:36.37008Z"
        },
        "id": "0GghDdryNNyC",
        "trusted": true,
        "outputId": "236eaaee-abc9-4ce4-b984-4af02ec92f0b"
      },
      "outputs": [
        {
          "name": "stderr",
          "output_type": "stream",
          "text": [
            "<ipython-input-31-adb5d985a361>:1: UserWarning: `Model.predict_generator` is deprecated and will be removed in a future version. Please use `Model.predict`, which supports generators.\n",
            "  pred_effi = model_effi_pred.predict_generator(test_generator, verbose=1)\n"
          ]
        },
        {
          "name": "stdout",
          "output_type": "stream",
          "text": [
            "1/1 [==============================] - 17s 17s/step\n",
            "[[0.20460835 0.02447535 0.02917972 0.12854894 0.02054174 0.02631429\n",
            "  0.27245283 0.0406314  0.03272584 0.14558072 0.04745839 0.02748246]\n",
            " [0.02602533 0.02955656 0.0255074  0.7076536  0.03388032 0.02585128\n",
            "  0.02890503 0.02542274 0.02637155 0.01938972 0.02482102 0.02661548]\n",
            " [0.09893394 0.05896768 0.02676258 0.04101575 0.01893268 0.02459343\n",
            "  0.08741596 0.03131868 0.02858914 0.49046004 0.0668916  0.02611844]\n",
            " [0.02973887 0.03177064 0.02197687 0.67612845 0.03122707 0.02168881\n",
            "  0.05549057 0.02313191 0.02426261 0.03860432 0.02435415 0.02162566]\n",
            " [0.15900014 0.02377925 0.02506642 0.06773807 0.02342438 0.02568299\n",
            "  0.4407917  0.03802628 0.0332091  0.09680241 0.04070595 0.02577332]\n",
            " [0.10056924 0.03369484 0.02006339 0.30374485 0.01963655 0.0210221\n",
            "  0.30672646 0.02926288 0.02379788 0.09235913 0.03129293 0.01782973]\n",
            " [0.12871768 0.0252576  0.01949017 0.03377574 0.01895813 0.0206385\n",
            "  0.6042951  0.03146852 0.02938772 0.0370321  0.03125896 0.01971976]\n",
            " [0.04689232 0.03447504 0.02267757 0.6159452  0.02200263 0.02153845\n",
            "  0.09240403 0.02480944 0.02411929 0.04804723 0.02665839 0.02043037]\n",
            " [0.17056279 0.03445512 0.03104544 0.05416382 0.02743449 0.03064614\n",
            "  0.22071041 0.04431872 0.03604002 0.26398918 0.05563212 0.03100182]\n",
            " [0.13761581 0.03284921 0.02946566 0.06737018 0.02180531 0.03000885\n",
            "  0.3922707  0.04344123 0.03950067 0.13554443 0.04236556 0.02776233]\n",
            " [0.06425866 0.04697454 0.02874101 0.3475186  0.0370198  0.02855494\n",
            "  0.09090277 0.03492033 0.02958363 0.23251775 0.03222322 0.02678485]\n",
            " [0.12229945 0.04084743 0.03080244 0.13783126 0.08250336 0.03568699\n",
            "  0.30670974 0.03969397 0.03721663 0.09291367 0.04352039 0.02997468]\n",
            " [0.36887062 0.02827357 0.07148648 0.02182156 0.02160899 0.02564155\n",
            "  0.0200826  0.02651048 0.02301098 0.05501628 0.2546292  0.08304765]\n",
            " [0.09135894 0.49254438 0.04270755 0.03267833 0.02770467 0.0295199\n",
            "  0.04379217 0.04007934 0.03942471 0.03348158 0.08031151 0.04639686]]\n"
          ]
        }
      ],
      "source": [
        "pred_effi = model_effi_pred.predict_generator(test_generator, verbose=1)\n",
        "print(pred_effi)"
      ]
    },
    {
      "cell_type": "code",
      "execution_count": null,
      "metadata": {
        "execution": {
          "iopub.execute_input": "2021-11-02T04:21:39.572373Z",
          "iopub.status.busy": "2021-11-02T04:21:39.572002Z",
          "iopub.status.idle": "2021-11-02T04:21:39.581995Z",
          "shell.execute_reply": "2021-11-02T04:21:39.581054Z",
          "shell.execute_reply.started": "2021-11-02T04:21:39.572325Z"
        },
        "id": "oE06nKTXNRM0",
        "trusted": true,
        "outputId": "9612af37-9d62-4ee6-ac45-02260cd4da1e"
      },
      "outputs": [
        {
          "name": "stdout",
          "output_type": "stream",
          "text": [
            "Predicted class indices: [6 3 9 3 6 6 6 3 9 6 3 6 0 1]\n",
            "Predicted class: ['scab frog_eye_leaf_spot', 'rust', 'rust frog_eye_leaf_spot', 'rust', 'scab frog_eye_leaf_spot', 'scab frog_eye_leaf_spot', 'scab frog_eye_leaf_spot', 'rust', 'rust frog_eye_leaf_spot', 'scab frog_eye_leaf_spot', 'rust', 'scab frog_eye_leaf_spot', 'scab', 'healthy']\n"
          ]
        }
      ],
      "source": [
        "# making predictions on the testing image data\n",
        "predicted_class_indices = np.argmax(pred_effi, axis=1)\n",
        "print(\"Predicted class indices:\", predicted_class_indices)\n",
        "\n",
        "labels_dict = ({'scab' : 0, 'healthy' : 1, 'frog_eye_leaf_spot' : 2, 'rust' : 3, 'complex' : 4, 'powdery_mildew' : 5, 'scab frog_eye_leaf_spot' : 6, 'scab frog_eye_leaf_spot complex' : 7, 'frog_eye_leaf_spot complex' : 8,'rust frog_eye_leaf_spot' : 9,'rust complex' : 10,'powdery_mildew complex' : 11})\n",
        "\n",
        "labels = dict((v,k) for k,v in labels_dict.items())\n",
        "predictions = [labels[k] for k in predicted_class_indices]\n",
        "print(\"Predicted class:\", predictions)"
      ]
    },
    {
      "cell_type": "code",
      "execution_count": null,
      "metadata": {
        "execution": {
          "iopub.execute_input": "2021-11-02T04:21:39.584808Z",
          "iopub.status.busy": "2021-11-02T04:21:39.584032Z",
          "iopub.status.idle": "2021-11-02T04:30:08.710084Z",
          "shell.execute_reply": "2021-11-02T04:30:08.70932Z",
          "shell.execute_reply.started": "2021-11-02T04:21:39.584767Z"
        },
        "trusted": true,
        "id": "KyUS8rvKYOcH",
        "outputId": "8a5af6d8-abda-4446-972b-c68737b79bf1"
      },
      "outputs": [
        {
          "name": "stderr",
          "output_type": "stream",
          "text": [
            "<ipython-input-33-5423d179724d>:3: UserWarning: `Model.predict_generator` is deprecated and will be removed in a future version. Please use `Model.predict`, which supports generators.\n",
            "  Y_pred = model_effi_pred.predict_generator(valid_datagen, valid_datagen.samples // valid_datagen.batch_size + 5)\n"
          ]
        },
        {
          "name": "stdout",
          "output_type": "stream",
          "text": [
            "WARNING:tensorflow:Your input ran out of data; interrupting training. Make sure that your dataset or generator can generate at least `steps_per_epoch * epochs` batches (in this case, 121 batches). You may need to use the repeat() function when building your dataset.\n",
            "Confusion Matrix\n",
            "[[ 15  49   0  82  30   0  31   0   0 100   0   0]\n",
            " [ 35  84   0 146  53   0  71   0   0 165   0   0]\n",
            " [  3   4   0   4   2   0   2   0   0   3   0   0]\n",
            " [ 50 124   0 186  98   0  99   0   0 256   1   0]\n",
            " [ 21  47   0  79  47   0  36   0   0 107   0   0]\n",
            " [  3   0   0   4   2   0   3   0   0   8   0   0]\n",
            " [ 24  56   0  97  43   0  44   0   0 134   1   0]\n",
            " [  1   0   0   1   2   0   3   0   0   5   0   0]\n",
            " [  3   2   0   6   1   0   5   0   0   6   1   0]\n",
            " [ 55 163   0 296 111   0 133   0   0 349   1   0]\n",
            " [  8  16   0  24  13   0  13   0   0  31   0   0]\n",
            " [  1   3   0  14   2   0   3   0   0   5   0   0]]\n"
          ]
        }
      ],
      "source": [
        "from sklearn.metrics import classification_report, confusion_matrix\n",
        "\n",
        "Y_pred = model_effi_pred.predict_generator(valid_datagen, valid_datagen.samples // valid_datagen.batch_size + 5)\n",
        "y_pred = np.argmax(Y_pred, axis=1)\n",
        "print('Confusion Matrix')\n",
        "print(confusion_matrix(valid_datagen.classes, y_pred))"
      ]
    },
    {
      "cell_type": "code",
      "execution_count": null,
      "metadata": {
        "execution": {
          "iopub.execute_input": "2021-11-02T04:30:08.712173Z",
          "iopub.status.busy": "2021-11-02T04:30:08.711661Z",
          "iopub.status.idle": "2021-11-02T04:30:08.735561Z",
          "shell.execute_reply": "2021-11-02T04:30:08.734834Z",
          "shell.execute_reply.started": "2021-11-02T04:30:08.712114Z"
        },
        "trusted": true,
        "id": "gujdv1pBYOcH",
        "outputId": "4171c223-aa13-4e74-a0cc-426b14ee7fc1"
      },
      "outputs": [
        {
          "name": "stdout",
          "output_type": "stream",
          "text": [
            "                                 precision    recall  f1-score   support\n",
            "\n",
            "                        complex       0.07      0.05      0.06       307\n",
            "             frog_eye_leaf_spot       0.15      0.15      0.15       554\n",
            "     frog_eye_leaf_spot complex       0.00      0.00      0.00        18\n",
            "                        healthy       0.20      0.23      0.21       814\n",
            "                 powdery_mildew       0.12      0.14      0.13       337\n",
            "         powdery_mildew complex       0.00      0.00      0.00        20\n",
            "                           rust       0.10      0.11      0.10       399\n",
            "                   rust complex       0.00      0.00      0.00        12\n",
            "        rust frog_eye_leaf_spot       0.00      0.00      0.00        24\n",
            "                           scab       0.30      0.31      0.31      1108\n",
            "        scab frog_eye_leaf_spot       0.00      0.00      0.00       105\n",
            "scab frog_eye_leaf_spot complex       0.00      0.00      0.00        28\n",
            "\n",
            "                       accuracy                           0.19      3726\n",
            "                      macro avg       0.08      0.08      0.08      3726\n",
            "                   weighted avg       0.18      0.19      0.19      3726\n",
            "\n"
          ]
        },
        {
          "name": "stderr",
          "output_type": "stream",
          "text": [
            "C:\\Python\\Python38\\lib\\site-packages\\sklearn\\metrics\\_classification.py:1245: UndefinedMetricWarning: Precision and F-score are ill-defined and being set to 0.0 in labels with no predicted samples. Use `zero_division` parameter to control this behavior.\n",
            "  _warn_prf(average, modifier, msg_start, len(result))\n",
            "C:\\Python\\Python38\\lib\\site-packages\\sklearn\\metrics\\_classification.py:1245: UndefinedMetricWarning: Precision and F-score are ill-defined and being set to 0.0 in labels with no predicted samples. Use `zero_division` parameter to control this behavior.\n",
            "  _warn_prf(average, modifier, msg_start, len(result))\n",
            "C:\\Python\\Python38\\lib\\site-packages\\sklearn\\metrics\\_classification.py:1245: UndefinedMetricWarning: Precision and F-score are ill-defined and being set to 0.0 in labels with no predicted samples. Use `zero_division` parameter to control this behavior.\n",
            "  _warn_prf(average, modifier, msg_start, len(result))\n"
          ]
        }
      ],
      "source": [
        "#displaying the classification report including values for Precision, Recall, F1-score and Support for each disease class\n",
        "target_names = list(train_datagen.class_indices.keys()) # Classes\n",
        "print(classification_report(valid_datagen.classes, y_pred, target_names=target_names))"
      ]
    },
    {
      "cell_type": "code",
      "execution_count": null,
      "metadata": {
        "execution": {
          "iopub.execute_input": "2021-11-02T04:30:08.737361Z",
          "iopub.status.busy": "2021-11-02T04:30:08.736703Z",
          "iopub.status.idle": "2021-11-02T04:30:09.28678Z",
          "shell.execute_reply": "2021-11-02T04:30:09.285496Z",
          "shell.execute_reply.started": "2021-11-02T04:30:08.737324Z"
        },
        "trusted": true,
        "id": "H_2ElTsYYOcH",
        "outputId": "9dedb2e0-b3fe-42e1-c681-36cabdf4e219"
      },
      "outputs": [
        {
          "data": {
            "image/png": "[encoded data removed]",
            "text/plain": [
              "<Figure size 576x432 with 2 Axes>"
            ]
          },
          "metadata": {
            "needs_background": "light"
          },
          "output_type": "display_data"
        }
      ],
      "source": [
        "#displaying the confusion matrix \n",
        "import seaborn as sns\n",
        "\n",
        "cm = confusion_matrix(valid_datagen.classes, y_pred)\n",
        "labels = ['scab', 'healthy', 'frog_eye_leaf_spot', 'rust','complex', 'powdery_mildew','scab frog_eye_leaf_spot','scab frog_eye_leaf_spot complex','frog_eye_leaf_spot complex','rust frog_eye_leaf_spot','rust complex','powdery_mildew complex']\n",
        "plt.figure(figsize=(8,6))\n",
        "sns.heatmap(cm,xticklabels=labels, yticklabels=labels, annot=True, fmt='d', cmap=\"Blues\", vmin = 0.2);\n",
        "plt.title('Confusion Matrix')\n",
        "plt.ylabel('True Class')\n",
        "plt.xlabel('Predicted Class')\n",
        "plt.show()"
      ]
    }
  ],
  "metadata": {
    "kernelspec": {
      "display_name": "Python 3",
      "language": "python",
      "name": "python3"
    },
    "language_info": {
      "codemirror_mode": {
        "name": "ipython",
        "version": 3
      },
      "file_extension": ".py",
      "mimetype": "text/x-python",
      "name": "python",
      "nbconvert_exporter": "python",
      "pygments_lexer": "ipython3",
      "version": "3.8.7"
    },
    "colab": {
      "name": "EfficientNet_Hyperparameter.ipynb",
      "provenance": [],
      "collapsed_sections": []
    }
  },
  "nbformat": 4,
  "nbformat_minor": 0
}